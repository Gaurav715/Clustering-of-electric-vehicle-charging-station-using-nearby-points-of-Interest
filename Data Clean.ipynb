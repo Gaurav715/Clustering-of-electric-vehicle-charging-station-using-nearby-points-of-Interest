{
 "cells": [
  {
   "cell_type": "code",
   "execution_count": 117,
   "id": "8156942e",
   "metadata": {},
   "outputs": [],
   "source": [
    "import pandas as pd\n",
    "from linearmodels import PooledOLS\n",
    "import statsmodels.api as sm\n",
    "import numpy as np\n",
    "from statsmodels.compat import lzip\n",
    "import numpy as np\n",
    "import pandas as pd\n",
    "import statsmodels.formula.api as smf\n",
    "import statsmodels.stats.api as sms\n",
    "import matplotlib.pyplot as plt\n",
    "import numpy as np\n",
    "from scipy import stats\n",
    "import seaborn as sns\n",
    "import matplotlib.pyplot as plt\n",
    "from scipy import stats\n",
    "import matplotlib.pyplot as plt\n",
    "import pandas as pd\n",
    "import numpy as np\n",
    "from patsy import dmatrices\n",
    "import statsmodels.api as sm\n",
    "from statsmodels.stats.outliers_influence import variance_inflation_factor"
   ]
  },
  {
   "cell_type": "code",
   "execution_count": 118,
   "id": "1c6d8abc",
   "metadata": {},
   "outputs": [],
   "source": [
    "df =pd.read_pickle(\"Final_after_POI.pickle\")"
   ]
  },
  {
   "cell_type": "code",
   "execution_count": 119,
   "id": "5668c9f7",
   "metadata": {},
   "outputs": [
    {
     "name": "stdout",
     "output_type": "stream",
     "text": [
      "<class 'pandas.core.frame.DataFrame'>\n",
      "Int64Index: 1923923 entries, 0 to 1940933\n",
      "Data columns (total 31 columns):\n",
      " #   Column                       Dtype         \n",
      "---  ------                       -----         \n",
      " 0   park_id                      object        \n",
      " 1   clc_code                     object        \n",
      " 2   area_code                    object        \n",
      " 3   evse_id                      object        \n",
      " 4   datetime_start               datetime64[ns]\n",
      " 5   datetime_stop                datetime64[ns]\n",
      " 6   Charging_Started             category      \n",
      " 7   Charging_Stop                category      \n",
      " 8   city                         object        \n",
      " 9   latitude                     float64       \n",
      " 10  longitude                    float64       \n",
      " 11  postal_code                  category      \n",
      " 12  Charging_Time_in_hours       float64       \n",
      " 13  year                         category      \n",
      " 14  month                        category      \n",
      " 15  day                          category      \n",
      " 16  day_of_week_name_Start       object        \n",
      " 17  Precipitation                float64       \n",
      " 18  Temperature                  float64       \n",
      " 19  pd                           float64       \n",
      " 20  Count_Charging               int64         \n",
      " 21  Charging_time_in_hours_log   float64       \n",
      " 22  cord                         object        \n",
      " 23  Nearest_Bahnhof_km           float64       \n",
      " 24  Nearest_Cafe_km              float64       \n",
      " 25  Nearest_Biergarten_km        float64       \n",
      " 26  Nearest_Community_Centre_km  float64       \n",
      " 27  Nearest_Hospital_km          float64       \n",
      " 28  Nearest_Kino_km              float64       \n",
      " 29  Nearest_Parking_km           float64       \n",
      " 30  Nearest_university_km        float64       \n",
      "dtypes: category(6), datetime64[ns](2), float64(15), int64(1), object(7)\n",
      "memory usage: 394.5+ MB\n"
     ]
    }
   ],
   "source": [
    "df.info()"
   ]
  },
  {
   "cell_type": "code",
   "execution_count": 120,
   "id": "cc3f696d",
   "metadata": {},
   "outputs": [],
   "source": [
    "df.drop(columns=['Charging_Started','Charging_Stop','cord'],axis = 1,inplace= True)"
   ]
  },
  {
   "cell_type": "code",
   "execution_count": 121,
   "id": "d8d74ea3",
   "metadata": {},
   "outputs": [],
   "source": [
    "df = df.dropna()"
   ]
  },
  {
   "cell_type": "code",
   "execution_count": 122,
   "id": "7046c306",
   "metadata": {},
   "outputs": [
    {
     "data": {
      "text/plain": [
       "park_id                        0\n",
       "clc_code                       0\n",
       "area_code                      0\n",
       "evse_id                        0\n",
       "datetime_start                 0\n",
       "datetime_stop                  0\n",
       "city                           0\n",
       "latitude                       0\n",
       "longitude                      0\n",
       "postal_code                    0\n",
       "Charging_Time_in_hours         0\n",
       "year                           0\n",
       "month                          0\n",
       "day                            0\n",
       "day_of_week_name_Start         0\n",
       "Precipitation                  0\n",
       "Temperature                    0\n",
       "pd                             0\n",
       "Count_Charging                 0\n",
       "Charging_time_in_hours_log     0\n",
       "Nearest_Bahnhof_km             0\n",
       "Nearest_Cafe_km                0\n",
       "Nearest_Biergarten_km          0\n",
       "Nearest_Community_Centre_km    0\n",
       "Nearest_Hospital_km            0\n",
       "Nearest_Kino_km                0\n",
       "Nearest_Parking_km             0\n",
       "Nearest_university_km          0\n",
       "dtype: int64"
      ]
     },
     "execution_count": 122,
     "metadata": {},
     "output_type": "execute_result"
    }
   ],
   "source": [
    "df.isna().sum()"
   ]
  },
  {
   "cell_type": "code",
   "execution_count": 123,
   "id": "53759d4a",
   "metadata": {},
   "outputs": [],
   "source": [
    "df[\"day\"]=df[\"day\"].astype(\"int\")\n",
    "df[\"month\"]=df[\"month\"].astype(\"int\")\n",
    "df[\"year\"]=df[\"year\"].astype(\"int\")"
   ]
  },
  {
   "cell_type": "code",
   "execution_count": 124,
   "id": "7497b360",
   "metadata": {},
   "outputs": [],
   "source": [
    "df[\"day\"]=df[\"day\"].astype(\"category\")\n",
    "df[\"month\"]=df[\"month\"].astype(\"category\")\n",
    "df[\"year\"]=df[\"year\"].astype(\"category\")"
   ]
  },
  {
   "cell_type": "code",
   "execution_count": 125,
   "id": "c3093ffd",
   "metadata": {},
   "outputs": [],
   "source": [
    "#df.to_pickle(\"Final-v1.pickle\")"
   ]
  },
  {
   "cell_type": "code",
   "execution_count": 126,
   "id": "f712db75",
   "metadata": {},
   "outputs": [],
   "source": [
    "#df.to_csv(\"Final-v1.csv\")"
   ]
  },
  {
   "cell_type": "code",
   "execution_count": 127,
   "id": "d1b65cbf",
   "metadata": {},
   "outputs": [],
   "source": [
    "df = df.rename(columns = {'datetime_start':'Date'})"
   ]
  },
  {
   "cell_type": "code",
   "execution_count": 145,
   "id": "5845d28d",
   "metadata": {},
   "outputs": [],
   "source": [
    "df1 =df[[\"evse_id\",\"Date\",\"Charging_Time_in_hours\"]]"
   ]
  },
  {
   "cell_type": "code",
   "execution_count": 146,
   "id": "b8f4aa7b",
   "metadata": {},
   "outputs": [],
   "source": [
    "df1  = df1.head(10)"
   ]
  },
  {
   "cell_type": "code",
   "execution_count": 147,
   "id": "2cd7f364",
   "metadata": {},
   "outputs": [
    {
     "name": "stdout",
     "output_type": "stream",
     "text": [
      "\\begin{tabular}{llr}\n",
      "\\toprule\n",
      "              evse\\_id &                    Date &  Charging\\_Time\\_in\\_hours \\\\\n",
      "\\midrule\n",
      "hj\\_DE*BLN*E*174060033 & 2019-12-17 09:00:13.369 &               23.999722 \\\\\n",
      "hj\\_DE*BLN*E*174060033 & 2019-12-17 09:00:13.369 &                0.017222 \\\\\n",
      "hj\\_DE*BLN*E*174060033 & 2019-12-17 09:00:13.369 &                0.971389 \\\\\n",
      "hj\\_DE*BLN*E*174060033 & 2019-12-17 09:58:28.352 &               23.028889 \\\\\n",
      "hj\\_DE*BLN*E*174060033 & 2019-12-17 09:58:28.352 &               23.046389 \\\\\n",
      "hj\\_DE*BLN*E*174060033 & 2019-12-17 09:58:28.352 &                0.000556 \\\\\n",
      "hj\\_DE*BLN*E*174060033 & 2019-12-17 17:56:11.770 &               15.066944 \\\\\n",
      "hj\\_DE*BLN*E*174060033 & 2019-12-17 17:56:11.770 &               15.084444 \\\\\n",
      "hj\\_DE*BLN*E*174060033 & 2019-12-17 17:56:11.770 &               16.038333 \\\\\n",
      "hj\\_DE*BLN*E*174060033 & 2020-02-07 17:16:30.270 &                2.378889 \\\\\n",
      "\\bottomrule\n",
      "\\end{tabular}\n",
      "\n"
     ]
    }
   ],
   "source": [
    "print(df1.to_latex(index=False))"
   ]
  },
  {
   "cell_type": "code",
   "execution_count": 86,
   "id": "e8fab1b8",
   "metadata": {},
   "outputs": [],
   "source": [
    "df1 = df1.groupby(\"park_id\").mean().reset_index()"
   ]
  },
  {
   "cell_type": "code",
   "execution_count": 87,
   "id": "93e04522",
   "metadata": {},
   "outputs": [],
   "source": [
    "df1 = df1.rename(columns = {'datetime_start':'Date'})"
   ]
  },
  {
   "cell_type": "code",
   "execution_count": 89,
   "id": "7141794d",
   "metadata": {},
   "outputs": [
    {
     "data": {
      "text/html": [
       "<div>\n",
       "<style scoped>\n",
       "    .dataframe tbody tr th:only-of-type {\n",
       "        vertical-align: middle;\n",
       "    }\n",
       "\n",
       "    .dataframe tbody tr th {\n",
       "        vertical-align: top;\n",
       "    }\n",
       "\n",
       "    .dataframe thead th {\n",
       "        text-align: right;\n",
       "    }\n",
       "</style>\n",
       "<table border=\"1\" class=\"dataframe\">\n",
       "  <thead>\n",
       "    <tr style=\"text-align: right;\">\n",
       "      <th></th>\n",
       "      <th>park_id</th>\n",
       "      <th>Charging_Time_in_hours</th>\n",
       "      <th>Precipitation</th>\n",
       "      <th>Temperature</th>\n",
       "    </tr>\n",
       "  </thead>\n",
       "  <tbody>\n",
       "    <tr>\n",
       "      <th>0</th>\n",
       "      <td>hj_31c455b8-420e-46af-bce6-436b65ccc416</td>\n",
       "      <td>4.677586</td>\n",
       "      <td>0.000000</td>\n",
       "      <td>10.355747</td>\n",
       "    </tr>\n",
       "    <tr>\n",
       "      <th>1</th>\n",
       "      <td>hj_41097432-40f9-4f78-9d74-47590344ea53</td>\n",
       "      <td>9.239534</td>\n",
       "      <td>0.002929</td>\n",
       "      <td>8.193712</td>\n",
       "    </tr>\n",
       "    <tr>\n",
       "      <th>2</th>\n",
       "      <td>hj_5535a319-b3eb-46af-b9a9-6346358ae7f6</td>\n",
       "      <td>11.510553</td>\n",
       "      <td>0.000000</td>\n",
       "      <td>0.927390</td>\n",
       "    </tr>\n",
       "    <tr>\n",
       "      <th>3</th>\n",
       "      <td>hj_9727eb0c-71fb-406e-a615-9badb7a43409</td>\n",
       "      <td>4.367023</td>\n",
       "      <td>0.000000</td>\n",
       "      <td>16.198864</td>\n",
       "    </tr>\n",
       "    <tr>\n",
       "      <th>4</th>\n",
       "      <td>hj_9e45b058-75c1-45a1-bbdf-f7d9783fe2b7</td>\n",
       "      <td>12.268757</td>\n",
       "      <td>0.000000</td>\n",
       "      <td>7.473064</td>\n",
       "    </tr>\n",
       "  </tbody>\n",
       "</table>\n",
       "</div>"
      ],
      "text/plain": [
       "                                   park_id  Charging_Time_in_hours  \\\n",
       "0  hj_31c455b8-420e-46af-bce6-436b65ccc416                4.677586   \n",
       "1  hj_41097432-40f9-4f78-9d74-47590344ea53                9.239534   \n",
       "2  hj_5535a319-b3eb-46af-b9a9-6346358ae7f6               11.510553   \n",
       "3  hj_9727eb0c-71fb-406e-a615-9badb7a43409                4.367023   \n",
       "4  hj_9e45b058-75c1-45a1-bbdf-f7d9783fe2b7               12.268757   \n",
       "\n",
       "   Precipitation  Temperature  \n",
       "0       0.000000    10.355747  \n",
       "1       0.002929     8.193712  \n",
       "2       0.000000     0.927390  \n",
       "3       0.000000    16.198864  \n",
       "4       0.000000     7.473064  "
      ]
     },
     "execution_count": 89,
     "metadata": {},
     "output_type": "execute_result"
    }
   ],
   "source": [
    "df1.head()"
   ]
  },
  {
   "cell_type": "code",
   "execution_count": 32,
   "id": "2f6083a5",
   "metadata": {},
   "outputs": [
    {
     "name": "stdout",
     "output_type": "stream",
     "text": [
      "\\begin{tabular}{lrrr}\n",
      "\\toprule\n",
      "               Date &  Charging\\_Time\\_in\\_hours &  Precipitation &  Temperature \\\\\n",
      "\\midrule\n",
      "2019-02-10 00:22:55 &                5.919722 &            0.0 &     0.900000 \\\\\n",
      "2019-02-10 00:24:30 &                0.769444 &            0.0 &     2.133333 \\\\\n",
      "2019-02-10 00:24:48 &               17.888333 &            0.0 &     0.900000 \\\\\n",
      "2019-02-10 00:42:25 &                8.872500 &            0.0 &     0.900000 \\\\\n",
      "2019-02-10 01:07:54 &               17.597639 &            0.0 &     0.700000 \\\\\n",
      "2019-02-10 01:15:54 &               11.366667 &            0.0 &     0.700000 \\\\\n",
      "2019-02-10 01:32:23 &               14.154861 &            0.0 &     1.366667 \\\\\n",
      "2019-02-10 01:40:22 &                6.278333 &            0.0 &     0.700000 \\\\\n",
      "2019-02-10 01:41:50 &               18.253889 &            0.0 &     0.700000 \\\\\n",
      "2019-02-10 02:13:09 &                8.999861 &            0.0 &     0.100000 \\\\\n",
      "\\bottomrule\n",
      "\\end{tabular}\n",
      "\n"
     ]
    }
   ],
   "source": [
    "print(df1.to_latex(index=False))"
   ]
  },
  {
   "cell_type": "code",
   "execution_count": null,
   "id": "ce32e7aa",
   "metadata": {},
   "outputs": [],
   "source": []
  }
 ],
 "metadata": {
  "kernelspec": {
   "display_name": "Python 3",
   "language": "python",
   "name": "python3"
  },
  "language_info": {
   "codemirror_mode": {
    "name": "ipython",
    "version": 3
   },
   "file_extension": ".py",
   "mimetype": "text/x-python",
   "name": "python",
   "nbconvert_exporter": "python",
   "pygments_lexer": "ipython3",
   "version": "3.8.8"
  }
 },
 "nbformat": 4,
 "nbformat_minor": 5
}
