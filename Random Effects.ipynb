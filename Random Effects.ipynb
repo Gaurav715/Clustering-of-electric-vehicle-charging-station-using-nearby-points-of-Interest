{
 "cells": [
  {
   "cell_type": "code",
   "execution_count": 1,
   "id": "3472cdad",
   "metadata": {},
   "outputs": [],
   "source": [
    "import pandas as pd\n",
    "import numpy as np\n",
    "import seaborn as sns\n",
    "import matplotlib.pyplot as plt\n",
    "import dask\n",
    "import dask.dataframe as dd\n",
    "\n",
    "from sklearn.model_selection import GridSearchCV, KFold,KFold, cross_val_score\n",
    "\n",
    "from sklearn.preprocessing import PolynomialFeatures, StandardScaler,RobustScaler \n",
    "\n",
    "from sklearn.pipeline import make_pipeline\n",
    "\n",
    "from sklearn.model_selection import train_test_split\n",
    "import statsmodels.formula.api as smf\n",
    "import statsmodels.stats.api as sms\n",
    "from statsmodels.compat import lzip\n",
    "from sklearn.svm import SVC\n",
    "from sklearn.tree import DecisionTreeClassifier # Import Decision Tree Classifier\n",
    "from sklearn.linear_model import LogisticRegression,LinearRegression,Lasso\n",
    "\n",
    "from sklearn.metrics import accuracy_score, f1_score,mean_squared_error,classification_report,confusion_matrix\n",
    "\n",
    "from sklearn.naive_bayes import GaussianNB\n",
    "from sklearn.discriminant_analysis import QuadraticDiscriminantAnalysis\n",
    "\n",
    "from sklearn.model_selection import cross_val_score\n",
    "from sklearn.preprocessing import OneHotEncoder\n",
    "\n",
    "from sklearn.compose import make_column_transformer\n",
    "from sklearn.pipeline import make_pipeline\n",
    "import pandas as pd\n",
    "import numpy as np\n",
    "import seaborn as sns\n",
    "import matplotlib.pyplot as plt\n",
    "import dask\n",
    "import dask.dataframe as dd\n",
    "\n",
    "import plotly.express as px\n",
    "import plotly.graph_objects as go\n",
    "\n",
    "from sklearn.model_selection import GridSearchCV, KFold,KFold, cross_val_score\n",
    "\n",
    "from sklearn.preprocessing import PolynomialFeatures, StandardScaler,RobustScaler \n",
    "\n",
    "from sklearn.pipeline import make_pipeline\n",
    "\n",
    "from sklearn.model_selection import train_test_split\n",
    "\n",
    "from sklearn.svm import SVC\n",
    "from sklearn.tree import DecisionTreeClassifier # Import Decision Tree Classifier\n",
    "from sklearn.linear_model import LogisticRegression,LinearRegression,Lasso\n",
    "\n",
    "from sklearn.metrics import accuracy_score, f1_score,mean_squared_error,classification_report,confusion_matrix\n",
    "\n",
    "from sklearn.naive_bayes import GaussianNB\n",
    "from sklearn.discriminant_analysis import QuadraticDiscriminantAnalysis\n",
    "\n",
    "from sklearn.model_selection import cross_val_score\n",
    "from sklearn.preprocessing import OneHotEncoder\n",
    "\n",
    "from sklearn.compose import make_column_transformer\n",
    "\n",
    "from scipy import stats\n",
    "import matplotlib.pyplot as plt\n",
    "from sklearn.pipeline import make_pipeline"
   ]
  },
  {
   "cell_type": "code",
   "execution_count": 2,
   "id": "8f352c7c",
   "metadata": {},
   "outputs": [],
   "source": [
    "df = pd.read_pickle(\"data_after_normalization-v1.pickle\")"
   ]
  },
  {
   "cell_type": "code",
   "execution_count": 3,
   "id": "c7d23810",
   "metadata": {},
   "outputs": [],
   "source": [
    "df = df.drop(['Charging_Time_in_hours', 'Precipitation','Temperature','pd','Bahnhof','Restaurant'\n",
    "              ,'Biergarten','Community_Centre','Hospital','Kino','Parking','university','Charging_time_in_hours_log_New'], axis = 1)"
   ]
  },
  {
   "cell_type": "code",
   "execution_count": 4,
   "id": "41810652",
   "metadata": {},
   "outputs": [],
   "source": [
    "df = df.rename(columns = {'Temperature_New':'Temperature', 'Precipitation_New':'Precipitation',\n",
    "                          'pd_New':'pd','Bahnhof_New':'Bahnhof','Restaurant_New':'Restaurant','Biergarten_New':'Biergarten',\n",
    "                          'Community_Centre_New':'Community_Centre', 'Hospital_New':'Hospital',\n",
    "                         'Kino_New':'Kino', 'Parking_New':'Parking','university_New':'university', 'Charging_Time_in_hours_New':'Charging_Time_in_hours',\n",
    "                          })"
   ]
  },
  {
   "cell_type": "code",
   "execution_count": 5,
   "id": "48d0f0ad",
   "metadata": {},
   "outputs": [],
   "source": [
    "df['Year'] = pd.to_datetime(df['datetime_start'], format='%Y')\n",
    "df['Month'] = pd.to_datetime(df['datetime_start'], format='%M')\n",
    "df['Day'] = pd.to_datetime(df['datetime_start'], format='%D')"
   ]
  },
  {
   "cell_type": "code",
   "execution_count": 6,
   "id": "9863097e",
   "metadata": {},
   "outputs": [],
   "source": [
    "data = df.copy()"
   ]
  },
  {
   "cell_type": "code",
   "execution_count": 7,
   "id": "4ffabb07",
   "metadata": {},
   "outputs": [],
   "source": [
    "year = pd.Categorical(data.Year)\n",
    "data = data.set_index([\"evse_id\",\"Year\"])"
   ]
  },
  {
   "cell_type": "code",
   "execution_count": 8,
   "id": "ba1310e8",
   "metadata": {},
   "outputs": [],
   "source": [
    "data[\"Year\"] = year"
   ]
  },
  {
   "cell_type": "code",
   "execution_count": 9,
   "id": "0b1964de",
   "metadata": {},
   "outputs": [],
   "source": [
    "import statsmodels.api as sm\n",
    "from linearmodels.panel import PooledOLS"
   ]
  },
  {
   "cell_type": "code",
   "execution_count": 10,
   "id": "4db35c0c",
   "metadata": {},
   "outputs": [
    {
     "name": "stderr",
     "output_type": "stream",
     "text": [
      "/home/col-gku/.local/lib/python3.8/site-packages/statsmodels/tsa/tsatools.py:142: FutureWarning: In a future version of pandas all arguments of concat except for the argument 'objs' will be keyword-only\n",
      "  x = pd.concat(x[::order], 1)\n"
     ]
    }
   ],
   "source": [
    "exog_vars = [\"Temperature\",\"pd\",\"Precipitation\",\"day_of_week_name_Start\",\"month\",\"year\",\"clc_code\",\"Restaurant\", \"Biergarten\", \"Community_Centre\", \"Hospital\", \"Kino\", \"Parking\" ,\"university\",\"Bahnhof\"]\n",
    "exog = sm.add_constant(data[exog_vars])"
   ]
  },
  {
   "cell_type": "code",
   "execution_count": 12,
   "id": "edcb762a",
   "metadata": {},
   "outputs": [
    {
     "name": "stdout",
     "output_type": "stream",
     "text": [
      "\\begin{center}\n",
      "\\begin{tabular}{lclc}\n",
      "\\toprule\n",
      "\\textbf{Dep. Variable:}                       & Charging\\_time\\_in\\_hours\\_log & \\textbf{  R-squared:         }   &      0.0071      \\\\\n",
      "\\textbf{Estimator:}                           &         RandomEffects          & \\textbf{  R-squared (Between):}  &      0.1631      \\\\\n",
      "\\textbf{No. Observations:}                    &            1796283             & \\textbf{  R-squared (Within):}   &      0.0071      \\\\\n",
      "\\textbf{Date:}                                &        Wed, Jan 26 2022        & \\textbf{  R-squared (Overall):}  &     -0.0115      \\\\\n",
      "\\textbf{Time:}                                &            12:19:31            & \\textbf{  Log-likelihood     }   &    -3.601e+06    \\\\\n",
      "\\textbf{Cov. Estimator:}                      &           Unadjusted           & \\textbf{                     }   &                  \\\\\n",
      "\\textbf{}                                     &                                & \\textbf{  F-statistic:       }   &      390.43      \\\\\n",
      "\\textbf{Entities:}                            &              1877              & \\textbf{  P-value            }   &      0.0000      \\\\\n",
      "\\textbf{Avg Obs:}                             &             957.00             & \\textbf{  Distribution:      }   &  F(33,1796249)   \\\\\n",
      "\\textbf{Min Obs:}                             &             1.0000             & \\textbf{                     }   &                  \\\\\n",
      "\\textbf{Max Obs:}                             &           1.068e+04            & \\textbf{  F-statistic (robust):} &      397.31      \\\\\n",
      "\\textbf{}                                     &                                & \\textbf{  P-value            }   &      0.0000      \\\\\n",
      "\\textbf{Time periods:}                        &             761826             & \\textbf{  Distribution:      }   &  F(33,1796249)   \\\\\n",
      "\\textbf{Avg Obs:}                             &             2.3579             & \\textbf{                     }   &                  \\\\\n",
      "\\textbf{Min Obs:}                             &             1.0000             & \\textbf{                     }   &                  \\\\\n",
      "\\textbf{Max Obs:}                             &             161.00             & \\textbf{                     }   &                  \\\\\n",
      "\\bottomrule\n",
      "\\end{tabular}\n",
      "\\begin{tabular}{lcccccc}\n",
      "                                              & \\textbf{Parameter} & \\textbf{Std. Err.} & \\textbf{T-stat} & \\textbf{P-value} & \\textbf{Lower CI} & \\textbf{Upper CI}  \\\\\n",
      "\\midrule\n",
      "\\textbf{const}                                &       0.8255       &       0.0396       &      20.864     &      0.0000      &       0.7480      &       0.9031       \\\\\n",
      "\\textbf{Temperature}                          &      -0.0332       &       0.0007       &     -49.196     &      0.0000      &      -0.0345      &      -0.0319       \\\\\n",
      "\\textbf{pd}                                   &       0.0310       &       0.0021       &      14.756     &      0.0000      &       0.0269      &       0.0351       \\\\\n",
      "\\textbf{Precipitation}                        &      -0.0041       &       0.0030       &     -1.3671     &      0.1716      &      -0.0100      &       0.0018       \\\\\n",
      "\\textbf{day\\_of\\_week\\_name\\_Start.Monday}    &      -0.0509       &       0.0049       &     -10.332     &      0.0000      &      -0.0605      &      -0.0412       \\\\\n",
      "\\textbf{day\\_of\\_week\\_name\\_Start.Saturday}  &      -0.0359       &       0.0049       &     -7.3559     &      0.0000      &      -0.0455      &      -0.0263       \\\\\n",
      "\\textbf{day\\_of\\_week\\_name\\_Start.Sunday}    &      -0.1188       &       0.0056       &     -21.148     &      0.0000      &      -0.1298      &      -0.1078       \\\\\n",
      "\\textbf{day\\_of\\_week\\_name\\_Start.Thursday}  &      -0.0398       &       0.0048       &     -8.2468     &      0.0000      &      -0.0492      &      -0.0303       \\\\\n",
      "\\textbf{day\\_of\\_week\\_name\\_Start.Tuesday}   &      -0.0456       &       0.0048       &     -9.4183     &      0.0000      &      -0.0551      &      -0.0361       \\\\\n",
      "\\textbf{day\\_of\\_week\\_name\\_Start.Wednesday} &      -0.0435       &       0.0048       &     -9.0406     &      0.0000      &      -0.0530      &      -0.0341       \\\\\n",
      "\\textbf{month.2}                              &       0.0601       &       0.0071       &      8.5143     &      0.0000      &       0.0462      &       0.0739       \\\\\n",
      "\\textbf{month.3}                              &       0.1354       &       0.0069       &      19.583     &      0.0000      &       0.1218      &       0.1489       \\\\\n",
      "\\textbf{month.4}                              &       0.1404       &       0.0074       &      18.966     &      0.0000      &       0.1259      &       0.1549       \\\\\n",
      "\\textbf{month.5}                              &       0.2114       &       0.0075       &      28.159     &      0.0000      &       0.1967      &       0.2261       \\\\\n",
      "\\textbf{month.6}                              &       0.2560       &       0.0074       &      34.512     &      0.0000      &       0.2415      &       0.2705       \\\\\n",
      "\\textbf{month.7}                              &       0.3057       &       0.0073       &      41.712     &      0.0000      &       0.2913      &       0.3201       \\\\\n",
      "\\textbf{month.8}                              &       0.2562       &       0.0082       &      31.389     &      0.0000      &       0.2402      &       0.2722       \\\\\n",
      "\\textbf{month.9}                              &       0.2947       &       0.0088       &      33.647     &      0.0000      &       0.2775      &       0.3118       \\\\\n",
      "\\textbf{month.10}                             &       0.2781       &       0.0079       &      35.309     &      0.0000      &       0.2627      &       0.2935       \\\\\n",
      "\\textbf{month.11}                             &       0.2050       &       0.0076       &      27.006     &      0.0000      &       0.1901      &       0.2199       \\\\\n",
      "\\textbf{month.12}                             &       0.1711       &       0.0075       &      22.760     &      0.0000      &       0.1564      &       0.1859       \\\\\n",
      "\\textbf{year.2020}                            &       0.1280       &       0.0040       &      32.003     &      0.0000      &       0.1202      &       0.1359       \\\\\n",
      "\\textbf{year.2021}                            &       0.2988       &       0.0047       &      62.964     &      0.0000      &       0.2895      &       0.3081       \\\\\n",
      "\\textbf{clc\\_code.Suburban}                   &      -0.1359       &       0.0382       &     -3.5588     &      0.0004      &      -0.2108      &      -0.0611       \\\\\n",
      "\\textbf{clc\\_code.Uninhabited}                &      -0.3537       &       0.0917       &     -3.8582     &      0.0001      &      -0.5334      &      -0.1740       \\\\\n",
      "\\textbf{clc\\_code.Urban}                      &       0.0753       &       0.0452       &      1.6664     &      0.0956      &      -0.0133      &       0.1638       \\\\\n",
      "\\textbf{Restaurant}                           &       0.0078       &       0.0347       &      0.2255     &      0.8216      &      -0.0601      &       0.0757       \\\\\n",
      "\\textbf{Biergarten}                           &      -0.0070       &       0.0064       &     -1.0941     &      0.2739      &      -0.0194      &       0.0055       \\\\\n",
      "\\textbf{Community\\_Centre}                    &       0.0174       &       0.0070       &      2.4734     &      0.0134      &       0.0036      &       0.0312       \\\\\n",
      "\\textbf{Hospital}                             &      -0.0023       &       0.0017       &     -1.3234     &      0.1857      &      -0.0057      &       0.0011       \\\\\n",
      "\\textbf{Kino}                                 &      -0.0023       &       0.0038       &     -0.6001     &      0.5485      &      -0.0096      &       0.0051       \\\\\n",
      "\\textbf{Parking}                              &       0.0020       &       0.0094       &      0.2152     &      0.8296      &      -0.0163      &       0.0203       \\\\\n",
      "\\textbf{university}                           &      -0.0031       &       0.0019       &     -1.6640     &      0.0961      &      -0.0068      &       0.0006       \\\\\n",
      "\\textbf{Bahnhof}                              &     -5.117e-05     &       0.0017       &     -0.0308     &      0.9754      &      -0.0033      &       0.0032       \\\\\n",
      "\\bottomrule\n",
      "\\end{tabular}\n",
      "%\\caption{RandomEffects Estimation Summary}\n",
      "\\end{center}\n"
     ]
    }
   ],
   "source": [
    "from linearmodels.panel import RandomEffects\n",
    "\n",
    "mod2 = RandomEffects(data.Charging_time_in_hours_log, exog)\n",
    "re = mod2.fit()\n",
    "print((re.summary).as_latex())"
   ]
  },
  {
   "cell_type": "code",
   "execution_count": 12,
   "id": "0f412746",
   "metadata": {},
   "outputs": [],
   "source": [
    "#import sys\n",
    "#filename  = open(\"random effect\",'w')\n",
    "#sys.stdout = filename\n",
    "#print(re)"
   ]
  },
  {
   "cell_type": "code",
   "execution_count": 71,
   "id": "bd7bed97",
   "metadata": {},
   "outputs": [],
   "source": [
    "\n"
   ]
  }
 ],
 "metadata": {
  "kernelspec": {
   "display_name": "Python 3",
   "language": "python",
   "name": "python3"
  },
  "language_info": {
   "codemirror_mode": {
    "name": "ipython",
    "version": 3
   },
   "file_extension": ".py",
   "mimetype": "text/x-python",
   "name": "python",
   "nbconvert_exporter": "python",
   "pygments_lexer": "ipython3",
   "version": "3.8.8"
  }
 },
 "nbformat": 4,
 "nbformat_minor": 5
}
