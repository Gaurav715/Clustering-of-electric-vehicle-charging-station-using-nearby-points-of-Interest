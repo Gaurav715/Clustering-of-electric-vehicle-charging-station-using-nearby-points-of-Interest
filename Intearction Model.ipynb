{
 "cells": [
  {
   "cell_type": "code",
   "execution_count": 37,
   "id": "84caaa5a",
   "metadata": {},
   "outputs": [],
   "source": [
    "import pandas as pd\n",
    "import numpy as np\n",
    "import seaborn as sns\n",
    "import matplotlib.pyplot as plt\n",
    "import dask\n",
    "import dask.dataframe as dd\n",
    "\n",
    "from sklearn.model_selection import GridSearchCV, KFold,KFold, cross_val_score\n",
    "\n",
    "from sklearn.preprocessing import PolynomialFeatures, StandardScaler,RobustScaler \n",
    "\n",
    "from sklearn.pipeline import make_pipeline\n",
    "\n",
    "from sklearn.model_selection import train_test_split\n",
    "import statsmodels.formula.api as smf\n",
    "import statsmodels.stats.api as sms\n",
    "from statsmodels.compat import lzip\n",
    "from sklearn.svm import SVC\n",
    "from sklearn.tree import DecisionTreeClassifier # Import Decision Tree Classifier\n",
    "from sklearn.linear_model import LogisticRegression,LinearRegression,Lasso\n",
    "\n",
    "from sklearn.metrics import accuracy_score, f1_score,mean_squared_error,classification_report,confusion_matrix\n",
    "\n",
    "from sklearn.naive_bayes import GaussianNB\n",
    "from sklearn.discriminant_analysis import QuadraticDiscriminantAnalysis\n",
    "\n",
    "from sklearn.model_selection import cross_val_score\n",
    "from sklearn.preprocessing import OneHotEncoder\n",
    "\n",
    "from sklearn.compose import make_column_transformer\n",
    "from sklearn.pipeline import make_pipeline\n",
    "import pandas as pd\n",
    "import numpy as np\n",
    "import seaborn as sns\n",
    "import matplotlib.pyplot as plt\n",
    "import dask\n",
    "import dask.dataframe as dd\n",
    "\n",
    "import plotly.express as px\n",
    "import plotly.graph_objects as go\n",
    "\n",
    "from sklearn.model_selection import GridSearchCV, KFold,KFold, cross_val_score\n",
    "\n",
    "from sklearn.preprocessing import PolynomialFeatures, StandardScaler,RobustScaler \n",
    "\n",
    "from sklearn.pipeline import make_pipeline\n",
    "\n",
    "from sklearn.model_selection import train_test_split\n",
    "\n",
    "from sklearn.svm import SVC\n",
    "from sklearn.tree import DecisionTreeClassifier # Import Decision Tree Classifier\n",
    "from sklearn.linear_model import LogisticRegression,LinearRegression,Lasso\n",
    "\n",
    "from sklearn.metrics import accuracy_score, f1_score,mean_squared_error,classification_report,confusion_matrix\n",
    "\n",
    "from sklearn.naive_bayes import GaussianNB\n",
    "from sklearn.discriminant_analysis import QuadraticDiscriminantAnalysis\n",
    "\n",
    "from sklearn.model_selection import cross_val_score\n",
    "from sklearn.preprocessing import OneHotEncoder\n",
    "\n",
    "from sklearn.compose import make_column_transformer\n",
    "\n",
    "from scipy import stats\n",
    "import matplotlib.pyplot as plt\n",
    "from sklearn.pipeline import make_pipeline\n",
    "\n",
    "import statsmodels.api as sm\n",
    "from linearmodels.panel import PooledOLS"
   ]
  },
  {
   "cell_type": "code",
   "execution_count": 38,
   "id": "2e817816",
   "metadata": {},
   "outputs": [],
   "source": [
    "df = pd.read_pickle(\"data_after_normalization-v1.pickle\")"
   ]
  },
  {
   "cell_type": "code",
   "execution_count": 39,
   "id": "fca7d549",
   "metadata": {},
   "outputs": [],
   "source": [
    "df = df.drop(['Charging_Time_in_hours', 'Precipitation','Temperature','pd','Bahnhof','Restaurant'\n",
    "              ,'Biergarten','Community_Centre','Hospital','Kino','Parking','university','Charging_time_in_hours_log_New'], axis = 1)"
   ]
  },
  {
   "cell_type": "code",
   "execution_count": 40,
   "id": "c3c0cc3e",
   "metadata": {},
   "outputs": [],
   "source": [
    "df = df.rename(columns = {'Temperature_New':'Temperature', 'Precipitation_New':'Precipitation',\n",
    "                          'pd_New':'pd','Bahnhof_New':'Bahnhof','Restaurant_New':'Restaurant','Biergarten_New':'Biergarten',\n",
    "                          'Community_Centre_New':'Community_Centre', 'Hospital_New':'Hospital',\n",
    "                         'Kino_New':'Kino', 'Parking_New':'Parking','university_New':'university', 'Charging_Time_in_hours_New':'Charging_Time_in_hours',\n",
    "                          })"
   ]
  },
  {
   "cell_type": "code",
   "execution_count": 41,
   "id": "265f1034",
   "metadata": {},
   "outputs": [],
   "source": [
    "df['Year'] = pd.to_datetime(df['datetime_start'], format='%Y')"
   ]
  },
  {
   "cell_type": "code",
   "execution_count": 42,
   "id": "527000f6",
   "metadata": {},
   "outputs": [],
   "source": [
    "df['Month'] = pd.to_datetime(df['datetime_start'], format='%M')"
   ]
  },
  {
   "cell_type": "code",
   "execution_count": 43,
   "id": "999fa4ca",
   "metadata": {},
   "outputs": [],
   "source": [
    "df['Day'] = pd.to_datetime(df['datetime_start'], format='%D')"
   ]
  },
  {
   "cell_type": "code",
   "execution_count": 44,
   "id": "e8fd54be",
   "metadata": {},
   "outputs": [],
   "source": [
    "df.info()"
   ]
  },
  {
   "cell_type": "code",
   "execution_count": 45,
   "id": "c3ccf651",
   "metadata": {},
   "outputs": [],
   "source": [
    "mod = smf.ols(formula='Charging_time_in_hours_log ~ Temperature + pd+ Precipitation + clc_code', data=df)"
   ]
  },
  {
   "cell_type": "code",
   "execution_count": 46,
   "id": "884bf86b",
   "metadata": {},
   "outputs": [],
   "source": [
    "res = mod.fit()"
   ]
  },
  {
   "cell_type": "code",
   "execution_count": 47,
   "id": "14e608e2",
   "metadata": {},
   "outputs": [],
   "source": [
    "print(res.summary())"
   ]
  },
  {
   "cell_type": "code",
   "execution_count": 48,
   "id": "2946f0e6",
   "metadata": {},
   "outputs": [],
   "source": [
    "res_cat = smf.ols(formula='Charging_time_in_hours_log ~ Temperature + pd+ Precipitation+ C(clc_code)', data=df).fit()"
   ]
  },
  {
   "cell_type": "code",
   "execution_count": 49,
   "id": "27e0e0d0",
   "metadata": {},
   "outputs": [],
   "source": [
    "print(res_cat.params)"
   ]
  },
  {
   "cell_type": "code",
   "execution_count": 50,
   "id": "2a141d53",
   "metadata": {},
   "outputs": [],
   "source": [
    "res1 = smf.ols(formula='Charging_time_in_hours_log ~ Temperature + pd+ Precipitation+ C(clc_code) -1 ', data=df).fit()"
   ]
  },
  {
   "cell_type": "code",
   "execution_count": 51,
   "id": "4a4b20fd",
   "metadata": {},
   "outputs": [],
   "source": [
    "print(res1.params)"
   ]
  },
  {
   "cell_type": "markdown",
   "id": "43a05e85",
   "metadata": {},
   "source": [
    "## MUltiplicative "
   ]
  },
  {
   "cell_type": "code",
   "execution_count": 52,
   "id": "4102049f",
   "metadata": {},
   "outputs": [],
   "source": [
    "res2 = smf.ols(formula='Charging_time_in_hours_log ~ Temperature + Temperature*C(clc_code) + Temperature*C(clc_code)*C(year)  +  pd + pd*C(clc_code) +pd*C(clc_code)*C(year) + Precipitation+ Precipitation*C(clc_code)+Precipitation*C(clc_code)*C(year)- 1', data=df).fit()"
   ]
  },
  {
   "cell_type": "code",
   "execution_count": 53,
   "id": "a7df3987",
   "metadata": {},
   "outputs": [],
   "source": [
    "print(res2.summary())"
   ]
  },
  {
   "cell_type": "code",
   "execution_count": 55,
   "id": "37ce0c56",
   "metadata": {},
   "outputs": [],
   "source": [
    "res2 = smf.ols(formula='Charging_time_in_hours_log ~ Temperature+ Temperature*pd + Temperature*C(clc_code) + Temperature*C(clc_code)*C(year) + pd + pd*C(clc_code) +pd*C(clc_code)*C(year)+Temperature*pd*C(clc_code)*C(year) +Biergarten +pd*Biergarten +C(clc_code)*pd*Temperature*Biergarten +pd*Temperature+ Community_Centre +pd*Community_Centre +C(clc_code)*pd*Temperature*Community_Centre +pd*Temperature*Community_Centre', data=df).fit()"
   ]
  },
  {
   "cell_type": "code",
   "execution_count": 56,
   "id": "8798aeb7",
   "metadata": {},
   "outputs": [],
   "source": [
    "print(res2.summary())"
   ]
  },
  {
   "cell_type": "code",
   "execution_count": 57,
   "id": "e3d7042d",
   "metadata": {},
   "outputs": [],
   "source": [
    "import sys\n",
    "filename  = open(\"res2\",'w')\n",
    "sys.stdout = filename\n",
    "print(res2)"
   ]
  },
  {
   "cell_type": "code",
   "execution_count": 34,
   "id": "aa854f59",
   "metadata": {},
   "outputs": [
    {
     "name": "stdout",
     "output_type": "stream",
     "text": [
      "Intercept                                                     1.452230\n",
      "C(clc_code)[T.Suburban]                                      -0.103077\n",
      "C(clc_code)[T.Uninhabited]                                   -1.302255\n",
      "C(clc_code)[T.Urban]                                          0.200462\n",
      "C(year)[T.2020]                                              -0.175147\n",
      "                                                                ...   \n",
      "C(clc_code)[T.Urban]:Temperature:Community_Centre             0.002517\n",
      "pd:Temperature:Community_Centre                               0.000123\n",
      "C(clc_code)[T.Suburban]:pd:Temperature:Community_Centre      -0.000093\n",
      "C(clc_code)[T.Uninhabited]:pd:Temperature:Community_Centre    0.027719\n",
      "C(clc_code)[T.Urban]:pd:Temperature:Community_Centre         -0.000234\n",
      "Length: 80, dtype: float64\n"
     ]
    }
   ],
   "source": [
    "print(res2.params)"
   ]
  },
  {
   "cell_type": "code",
   "execution_count": 50,
   "id": "a6943ea4",
   "metadata": {},
   "outputs": [
    {
     "name": "stdout",
     "output_type": "stream",
     "text": [
      "                                OLS Regression Results                                \n",
      "======================================================================================\n",
      "Dep. Variable:     Charging_time_in_hours_log   R-squared:                       0.019\n",
      "Model:                                    OLS   Adj. R-squared:                  0.019\n",
      "Method:                         Least Squares   F-statistic:                     732.1\n",
      "Date:                        Thu, 20 Jan 2022   Prob (F-statistic):               0.00\n",
      "Time:                                19:02:32   Log-Likelihood:            -3.6448e+06\n",
      "No. Observations:                     1796283   AIC:                         7.290e+06\n",
      "Df Residuals:                         1796235   BIC:                         7.290e+06\n",
      "Df Model:                                  47                                         \n",
      "Covariance Type:                    nonrobust                                         \n",
      "============================================================================================================================\n",
      "                                                               coef    std err          t      P>|t|      [0.025      0.975]\n",
      "----------------------------------------------------------------------------------------------------------------------------\n",
      "C(clc_code)[Industrial]                                      1.5203      0.023     65.871      0.000       1.475       1.566\n",
      "C(clc_code)[Suburban]                                        1.2955      0.019     67.055      0.000       1.258       1.333\n",
      "C(clc_code)[Uninhabited]                                     0.7209      0.087      8.275      0.000       0.550       0.892\n",
      "C(clc_code)[Urban]                                           1.4970      0.018     81.961      0.000       1.461       1.533\n",
      "C(year)[T.2020]                                             -0.2174      0.029     -7.537      0.000      -0.274      -0.161\n",
      "C(year)[T.2021]                                             -0.2683      0.031     -8.720      0.000      -0.329      -0.208\n",
      "C(clc_code)[T.Suburban]:C(year)[T.2020]                      0.2358      0.037      6.338      0.000       0.163       0.309\n",
      "C(clc_code)[T.Uninhabited]:C(year)[T.2020]                   0.1433      0.107      1.340      0.180      -0.066       0.353\n",
      "C(clc_code)[T.Urban]:C(year)[T.2020]                         0.1047      0.036      2.884      0.004       0.034       0.176\n",
      "C(clc_code)[T.Suburban]:C(year)[T.2021]                      0.2602      0.039      6.655      0.000       0.184       0.337\n",
      "C(clc_code)[T.Uninhabited]:C(year)[T.2021]                   0.3494      0.111      3.149      0.002       0.132       0.567\n",
      "C(clc_code)[T.Urban]:C(year)[T.2021]                         0.2112      0.039      5.439      0.000       0.135       0.287\n",
      "Temperature                                                 -0.0306      0.002    -16.385      0.000      -0.034      -0.027\n",
      "Temperature:C(clc_code)[T.Suburban]                         -0.0053      0.002     -2.166      0.030      -0.010      -0.001\n",
      "Temperature:C(clc_code)[T.Uninhabited]                       0.0020      0.007      0.289      0.773      -0.011       0.015\n",
      "Temperature:C(clc_code)[T.Urban]                            -0.0025      0.002     -1.055      0.291      -0.007       0.002\n",
      "Temperature:C(year)[T.2020]                                  0.0070      0.002      2.935      0.003       0.002       0.012\n",
      "Temperature:C(year)[T.2021]                                  0.0267      0.003      9.444      0.000       0.021       0.032\n",
      "Temperature:C(clc_code)[T.Suburban]:C(year)[T.2020]          0.0055      0.003      1.777      0.076      -0.001       0.012\n",
      "Temperature:C(clc_code)[T.Uninhabited]:C(year)[T.2020]       0.0082      0.008      0.984      0.325      -0.008       0.025\n",
      "Temperature:C(clc_code)[T.Urban]:C(year)[T.2020]             0.0089      0.003      3.001      0.003       0.003       0.015\n",
      "Temperature:C(clc_code)[T.Suburban]:C(year)[T.2021]          0.0071      0.004      1.976      0.048    5.88e-05       0.014\n",
      "Temperature:C(clc_code)[T.Uninhabited]:C(year)[T.2021]      -0.0216      0.010     -2.251      0.024      -0.040      -0.003\n",
      "Temperature:C(clc_code)[T.Urban]:C(year)[T.2021]             0.0048      0.004      1.365      0.172      -0.002       0.012\n",
      "pd                                                           0.0093      0.001      7.653      0.000       0.007       0.012\n",
      "pd:C(clc_code)[T.Suburban]                                   0.0069      0.001      4.987      0.000       0.004       0.010\n",
      "pd:C(clc_code)[T.Uninhabited]                                0.0529      0.006      9.272      0.000       0.042       0.064\n",
      "pd:C(clc_code)[T.Urban]                                      0.0162      0.001     11.668      0.000       0.013       0.019\n",
      "pd:C(year)[T.2020]                                           0.0164      0.002     10.821      0.000       0.013       0.019\n",
      "pd:C(year)[T.2021]                                           0.0213      0.001     14.246      0.000       0.018       0.024\n",
      "pd:C(clc_code)[T.Suburban]:C(year)[T.2020]                  -0.0222      0.002    -12.826      0.000      -0.026      -0.019\n",
      "pd:C(clc_code)[T.Uninhabited]:C(year)[T.2020]                0.0013      0.007      0.199      0.842      -0.012       0.014\n",
      "pd:C(clc_code)[T.Urban]:C(year)[T.2020]                     -0.0143      0.002     -8.283      0.000      -0.018      -0.011\n",
      "pd:C(clc_code)[T.Suburban]:C(year)[T.2021]                  -0.0237      0.002    -13.930      0.000      -0.027      -0.020\n",
      "pd:C(clc_code)[T.Uninhabited]:C(year)[T.2021]                0.0194      0.006      3.036      0.002       0.007       0.032\n",
      "pd:C(clc_code)[T.Urban]:C(year)[T.2021]                     -0.0242      0.002    -14.175      0.000      -0.028      -0.021\n",
      "Precipitation                                               -0.0027      0.007     -0.373      0.709      -0.017       0.011\n",
      "Precipitation:C(clc_code)[T.Suburban]                        0.0055      0.009      0.629      0.529      -0.012       0.023\n",
      "Precipitation:C(clc_code)[T.Uninhabited]                    -0.0202      0.021     -0.978      0.328      -0.061       0.020\n",
      "Precipitation:C(clc_code)[T.Urban]                          -0.0009      0.009     -0.106      0.916      -0.018       0.016\n",
      "Precipitation:C(year)[T.2020]                                0.2680      0.052      5.191      0.000       0.167       0.369\n",
      "Precipitation:C(year)[T.2021]                                0.2501      0.050      4.972      0.000       0.151       0.349\n",
      "Precipitation:C(clc_code)[T.Suburban]:C(year)[T.2020]       -0.0991      0.059     -1.692      0.091      -0.214       0.016\n",
      "Precipitation:C(clc_code)[T.Uninhabited]:C(year)[T.2020]     0.5942      0.146      4.059      0.000       0.307       0.881\n",
      "Precipitation:C(clc_code)[T.Urban]:C(year)[T.2020]          -0.1491      0.060     -2.472      0.013      -0.267      -0.031\n",
      "Precipitation:C(clc_code)[T.Suburban]:C(year)[T.2021]       -0.1386      0.057     -2.411      0.016      -0.251      -0.026\n",
      "Precipitation:C(clc_code)[T.Uninhabited]:C(year)[T.2021]     0.4790      0.130      3.683      0.000       0.224       0.734\n",
      "Precipitation:C(clc_code)[T.Urban]:C(year)[T.2021]          -0.3678      0.057     -6.434      0.000      -0.480      -0.256\n",
      "==============================================================================\n",
      "Omnibus:                   485359.625   Durbin-Watson:                   1.506\n",
      "Prob(Omnibus):                  0.000   Jarque-Bera (JB):          1156887.061\n",
      "Skew:                          -1.521   Prob(JB):                         0.00\n",
      "Kurtosis:                       5.492   Cond. No.                     2.47e+03\n",
      "==============================================================================\n",
      "\n",
      "Notes:\n",
      "[1] Standard Errors assume that the covariance matrix of the errors is correctly specified.\n",
      "[2] The condition number is large, 2.47e+03. This might indicate that there are\n",
      "strong multicollinearity or other numerical problems.\n"
     ]
    }
   ],
   "source": [
    "print(res2.summary())"
   ]
  },
  {
   "cell_type": "code",
   "execution_count": null,
   "id": "fcf0157c",
   "metadata": {},
   "outputs": [],
   "source": []
  },
  {
   "cell_type": "code",
   "execution_count": 20,
   "id": "60082933",
   "metadata": {},
   "outputs": [],
   "source": [
    "res_temp = smf.ols(formula='Charging_time_in_hours_log ~ Temperature+Temperature*Restaurant+Temperature*Biergarten+Temperature*Community_Centre+Temperature*Kino+Temperature*Hospital+Temperature*Parking+Temperature*university+Temperature*university+Temperature*Bahnhof', data=df).fit()"
   ]
  },
  {
   "cell_type": "code",
   "execution_count": 22,
   "id": "b9ccba56",
   "metadata": {},
   "outputs": [
    {
     "name": "stdout",
     "output_type": "stream",
     "text": [
      "                                OLS Regression Results                                \n",
      "======================================================================================\n",
      "Dep. Variable:     Charging_time_in_hours_log   R-squared:                       0.004\n",
      "Model:                                    OLS   Adj. R-squared:                  0.004\n",
      "Method:                         Least Squares   F-statistic:                     392.5\n",
      "Date:                        Tue, 25 Jan 2022   Prob (F-statistic):               0.00\n",
      "Time:                                16:06:52   Log-Likelihood:            -3.6586e+06\n",
      "No. Observations:                     1796283   AIC:                         7.317e+06\n",
      "Df Residuals:                         1796265   BIC:                         7.317e+06\n",
      "Df Model:                                  17                                         \n",
      "Covariance Type:                    nonrobust                                         \n",
      "================================================================================================\n",
      "                                   coef    std err          t      P>|t|      [0.025      0.975]\n",
      "------------------------------------------------------------------------------------------------\n",
      "Intercept                        1.6933      0.007    226.546      0.000       1.679       1.708\n",
      "Temperature                     -0.0284      0.001    -38.230      0.000      -0.030      -0.027\n",
      "Restaurant                      -0.0419      0.014     -3.071      0.002      -0.069      -0.015\n",
      "Temperature:Restaurant           0.0014      0.001      1.100      0.271      -0.001       0.004\n",
      "Biergarten                       0.0023      0.002      0.926      0.354      -0.003       0.007\n",
      "Temperature:Biergarten          -0.0008      0.000     -3.323      0.001      -0.001      -0.000\n",
      "Community_Centre                 0.0182      0.002     11.252      0.000       0.015       0.021\n",
      "Temperature:Community_Centre    -0.0003      0.000     -1.574      0.115      -0.001    6.19e-05\n",
      "Kino                            -0.0167      0.001    -12.759      0.000      -0.019      -0.014\n",
      "Temperature:Kino                 0.0003      0.000      1.899      0.058   -7.97e-06       0.001\n",
      "Hospital                        -0.0029      0.001     -5.585      0.000      -0.004      -0.002\n",
      "Temperature:Hospital          2.502e-05    5.1e-05      0.491      0.624   -7.49e-05       0.000\n",
      "Parking                          0.0135      0.003      4.217      0.000       0.007       0.020\n",
      "Temperature:Parking             -0.0002      0.000     -0.519      0.604      -0.001       0.000\n",
      "university                      -0.0021      0.001     -3.840      0.000      -0.003      -0.001\n",
      "Temperature:university           0.0003   5.49e-05      4.895      0.000       0.000       0.000\n",
      "Bahnhof                          0.0039      0.000      7.927      0.000       0.003       0.005\n",
      "Temperature:Bahnhof             -0.0001   4.85e-05     -2.905      0.004      -0.000   -4.59e-05\n",
      "==============================================================================\n",
      "Omnibus:                   495398.744   Durbin-Watson:                   1.483\n",
      "Prob(Omnibus):                  0.000   Jarque-Bera (JB):          1189369.344\n",
      "Skew:                          -1.550   Prob(JB):                         0.00\n",
      "Kurtosis:                       5.506   Cond. No.                     1.47e+03\n",
      "==============================================================================\n",
      "\n",
      "Notes:\n",
      "[1] Standard Errors assume that the covariance matrix of the errors is correctly specified.\n",
      "[2] The condition number is large, 1.47e+03. This might indicate that there are\n",
      "strong multicollinearity or other numerical problems.\n"
     ]
    }
   ],
   "source": [
    "print(res_temp.summary())"
   ]
  },
  {
   "cell_type": "code",
   "execution_count": 63,
   "id": "9244eba3",
   "metadata": {},
   "outputs": [],
   "source": [
    "res_pd = smf.ols(formula='Charging_time_in_hours_log ~ pd+pd*Restaurant+pd*Biergarten+pd*Community_Centre+pd*Kino+pd*Hospital+pd*Parking+pd*university+pd*university+pd*Bahnhof', data=df).fit()"
   ]
  },
  {
   "cell_type": "code",
   "execution_count": 64,
   "id": "687ebfdf",
   "metadata": {},
   "outputs": [
    {
     "name": "stdout",
     "output_type": "stream",
     "text": [
      "                                OLS Regression Results                                \n",
      "======================================================================================\n",
      "Dep. Variable:     Charging_time_in_hours_log   R-squared:                       0.010\n",
      "Model:                                    OLS   Adj. R-squared:                  0.010\n",
      "Method:                         Least Squares   F-statistic:                     1096.\n",
      "Date:                        Thu, 20 Jan 2022   Prob (F-statistic):               0.00\n",
      "Time:                                19:44:21   Log-Likelihood:            -3.6526e+06\n",
      "No. Observations:                     1796283   AIC:                         7.305e+06\n",
      "Df Residuals:                         1796265   BIC:                         7.305e+06\n",
      "Df Model:                                  17                                         \n",
      "Covariance Type:                    nonrobust                                         \n",
      "=======================================================================================\n",
      "                          coef    std err          t      P>|t|      [0.025      0.975]\n",
      "---------------------------------------------------------------------------------------\n",
      "Intercept               1.2289      0.004    302.843      0.000       1.221       1.237\n",
      "pd                      0.0199      0.000     62.380      0.000       0.019       0.021\n",
      "Restaurant              0.0958      0.007     14.666      0.000       0.083       0.109\n",
      "pd:Restaurant          -0.1041      0.005    -20.554      0.000      -0.114      -0.094\n",
      "Biergarten             -0.0137      0.001    -10.414      0.000      -0.016      -0.011\n",
      "pd:Biergarten           0.0006   9.13e-05      6.498      0.000       0.000       0.001\n",
      "Community_Centre        0.0175      0.001     14.272      0.000       0.015       0.020\n",
      "pd:Community_Centre    -0.0002      0.000     -1.866      0.062      -0.000    1.03e-05\n",
      "Kino                   -0.0060      0.001     -8.639      0.000      -0.007      -0.005\n",
      "pd:Kino                -0.0006   5.62e-05    -10.104      0.000      -0.001      -0.000\n",
      "Hospital               -0.0024      0.000     -8.862      0.000      -0.003      -0.002\n",
      "pd:Hospital          9.432e-05   2.12e-05      4.451      0.000    5.28e-05       0.000\n",
      "Parking                 0.0050      0.002      2.322      0.020       0.001       0.009\n",
      "pd:Parking              0.0007      0.000      3.902      0.000       0.000       0.001\n",
      "university             -0.0031      0.000    -10.233      0.000      -0.004      -0.002\n",
      "pd:university           0.0002   2.21e-05      6.863      0.000       0.000       0.000\n",
      "Bahnhof                -0.0032      0.000    -11.976      0.000      -0.004      -0.003\n",
      "pd:Bahnhof              0.0005   2.09e-05     25.872      0.000       0.001       0.001\n",
      "==============================================================================\n",
      "Omnibus:                   491393.602   Durbin-Watson:                   1.495\n",
      "Prob(Omnibus):                  0.000   Jarque-Bera (JB):          1179988.967\n",
      "Skew:                          -1.536   Prob(JB):                         0.00\n",
      "Kurtosis:                       5.515   Cond. No.                     1.09e+03\n",
      "==============================================================================\n",
      "\n",
      "Notes:\n",
      "[1] Standard Errors assume that the covariance matrix of the errors is correctly specified.\n",
      "[2] The condition number is large, 1.09e+03. This might indicate that there are\n",
      "strong multicollinearity or other numerical problems.\n"
     ]
    }
   ],
   "source": [
    "print(res_pd.summary())"
   ]
  },
  {
   "cell_type": "code",
   "execution_count": 65,
   "id": "567de7f3",
   "metadata": {},
   "outputs": [],
   "source": [
    "res_Precipitation = smf.ols(formula='Charging_time_in_hours_log ~ Precipitation+Precipitation*Restaurant+Precipitation*Biergarten+Precipitation*Community_Centre+Precipitation*Kino+Precipitation*Hospital+Precipitation*Parking+Precipitation*university+Precipitation*university+Precipitation*Bahnhof', data=df).fit()"
   ]
  },
  {
   "cell_type": "code",
   "execution_count": 66,
   "id": "18136da9",
   "metadata": {
    "scrolled": true
   },
   "outputs": [
    {
     "name": "stdout",
     "output_type": "stream",
     "text": [
      "                                OLS Regression Results                                \n",
      "======================================================================================\n",
      "Dep. Variable:     Charging_time_in_hours_log   R-squared:                       0.002\n",
      "Model:                                    OLS   Adj. R-squared:                  0.002\n",
      "Method:                         Least Squares   F-statistic:                     171.9\n",
      "Date:                        Thu, 20 Jan 2022   Prob (F-statistic):               0.00\n",
      "Time:                                19:46:11   Log-Likelihood:            -3.6604e+06\n",
      "No. Observations:                     1796283   AIC:                         7.321e+06\n",
      "Df Residuals:                         1796265   BIC:                         7.321e+06\n",
      "Df Model:                                  17                                         \n",
      "Covariance Type:                    nonrobust                                         \n",
      "==================================================================================================\n",
      "                                     coef    std err          t      P>|t|      [0.025      0.975]\n",
      "--------------------------------------------------------------------------------------------------\n",
      "Intercept                          1.4186      0.002    613.617      0.000       1.414       1.423\n",
      "Precipitation                      0.0190      0.005      3.835      0.000       0.009       0.029\n",
      "Restaurant                        -0.0695      0.011     -6.581      0.000      -0.090      -0.049\n",
      "Precipitation:Restaurant           0.0932      0.023      4.022      0.000       0.048       0.139\n",
      "Biergarten                        -0.0051      0.001     -6.876      0.000      -0.007      -0.004\n",
      "Precipitation:Biergarten          -0.0027      0.002     -1.483      0.138      -0.006       0.001\n",
      "Community_Centre                   0.0156      0.001     30.686      0.000       0.015       0.017\n",
      "Precipitation:Community_Centre     0.0010      0.001      1.021      0.307      -0.001       0.003\n",
      "Kino                              -0.0140      0.000    -35.098      0.000      -0.015      -0.013\n",
      "Precipitation:Kino                -0.0013      0.001     -1.255      0.209      -0.003       0.001\n",
      "Hospital                          -0.0025      0.000    -15.660      0.000      -0.003      -0.002\n",
      "Precipitation:Hospital            -0.0013      0.000     -3.585      0.000      -0.002      -0.001\n",
      "Parking                            0.0114      0.001     11.332      0.000       0.009       0.013\n",
      "Precipitation:Parking              0.0047      0.004      1.095      0.273      -0.004       0.013\n",
      "university                         0.0006      0.000      3.697      0.000       0.000       0.001\n",
      "Precipitation:university          -0.0015      0.000     -4.024      0.000      -0.002      -0.001\n",
      "Bahnhof                            0.0026      0.000     17.312      0.000       0.002       0.003\n",
      "Precipitation:Bahnhof             -0.0020      0.000     -6.234      0.000      -0.003      -0.001\n",
      "==============================================================================\n",
      "Omnibus:                   495111.640   Durbin-Watson:                   1.482\n",
      "Prob(Omnibus):                  0.000   Jarque-Bera (JB):          1186781.570\n",
      "Skew:                          -1.550   Prob(JB):                         0.00\n",
      "Kurtosis:                       5.499   Cond. No.                         269.\n",
      "==============================================================================\n",
      "\n",
      "Notes:\n",
      "[1] Standard Errors assume that the covariance matrix of the errors is correctly specified.\n"
     ]
    }
   ],
   "source": [
    "print(res_Precipitation.summary())"
   ]
  },
  {
   "cell_type": "code",
   "execution_count": 67,
   "id": "2ae5a32c",
   "metadata": {},
   "outputs": [],
   "source": [
    "res_clc = smf.ols(formula='Charging_time_in_hours_log ~ C(clc_code)+C(clc_code)*Restaurant+C(clc_code)*Biergarten+C(clc_code)*Community_Centre+C(clc_code)*Kino+C(clc_code)*Hospital+C(clc_code)*Parking+C(clc_code)*university+C(clc_code)*university+C(clc_code)*Bahnhof', data=df).fit()"
   ]
  },
  {
   "cell_type": "code",
   "execution_count": 68,
   "id": "c079aac0",
   "metadata": {},
   "outputs": [
    {
     "name": "stdout",
     "output_type": "stream",
     "text": [
      "                                OLS Regression Results                                \n",
      "======================================================================================\n",
      "Dep. Variable:     Charging_time_in_hours_log   R-squared:                       0.010\n",
      "Model:                                    OLS   Adj. R-squared:                  0.010\n",
      "Method:                         Least Squares   F-statistic:                     505.3\n",
      "Date:                        Thu, 20 Jan 2022   Prob (F-statistic):               0.00\n",
      "Time:                                20:21:24   Log-Likelihood:            -3.6531e+06\n",
      "No. Observations:                     1796283   AIC:                         7.306e+06\n",
      "Df Residuals:                         1796247   BIC:                         7.307e+06\n",
      "Df Model:                                  35                                         \n",
      "Covariance Type:                    nonrobust                                         \n",
      "===============================================================================================================\n",
      "                                                  coef    std err          t      P>|t|      [0.025      0.975]\n",
      "---------------------------------------------------------------------------------------------------------------\n",
      "Intercept                                       1.4265      0.006    249.394      0.000       1.415       1.438\n",
      "C(clc_code)[T.Suburban]                        -0.1145      0.007    -16.912      0.000      -0.128      -0.101\n",
      "C(clc_code)[T.Uninhabited]                     -1.2808      0.033    -38.300      0.000      -1.346      -1.215\n",
      "C(clc_code)[T.Urban]                            0.1302      0.007     19.130      0.000       0.117       0.144\n",
      "Restaurant                                      0.0870      0.102      0.853      0.394      -0.113       0.287\n",
      "C(clc_code)[T.Suburban]:Restaurant             -0.0935      0.102     -0.916      0.360      -0.293       0.107\n",
      "C(clc_code)[T.Uninhabited]:Restaurant          15.0395      0.755     19.923      0.000      13.560      16.519\n",
      "C(clc_code)[T.Urban]:Restaurant                -0.8681      0.140     -6.181      0.000      -1.143      -0.593\n",
      "Biergarten                                      0.0057      0.001      3.846      0.000       0.003       0.009\n",
      "C(clc_code)[T.Suburban]:Biergarten             -0.0138      0.002     -6.627      0.000      -0.018      -0.010\n",
      "C(clc_code)[T.Uninhabited]:Biergarten           0.4434      0.158      2.807      0.005       0.134       0.753\n",
      "C(clc_code)[T.Urban]:Biergarten                -0.0176      0.002     -9.397      0.000      -0.021      -0.014\n",
      "Community_Centre                                0.0240      0.001     27.784      0.000       0.022       0.026\n",
      "C(clc_code)[T.Suburban]:Community_Centre       -0.0105      0.001     -8.589      0.000      -0.013      -0.008\n",
      "C(clc_code)[T.Uninhabited]:Community_Centre     5.0547      0.255     19.793      0.000       4.554       5.555\n",
      "C(clc_code)[T.Urban]:Community_Centre          -0.0031      0.001     -2.383      0.017      -0.006      -0.001\n",
      "Kino                                           -0.0018      0.001     -2.200      0.028      -0.003      -0.000\n",
      "C(clc_code)[T.Suburban]:Kino                   -0.0045      0.001     -4.458      0.000      -0.007      -0.003\n",
      "C(clc_code)[T.Uninhabited]:Kino                 0.0689      0.004     17.010      0.000       0.061       0.077\n",
      "C(clc_code)[T.Urban]:Kino                      -0.0187      0.001    -16.214      0.000      -0.021      -0.016\n",
      "Hospital                                       -0.0036      0.000     -9.980      0.000      -0.004      -0.003\n",
      "C(clc_code)[T.Suburban]:Hospital                0.0016      0.000      3.508      0.000       0.001       0.002\n",
      "C(clc_code)[T.Uninhabited]:Hospital             0.0055      0.001      4.726      0.000       0.003       0.008\n",
      "C(clc_code)[T.Urban]:Hospital                   0.0005      0.000      1.129      0.259      -0.000       0.001\n",
      "Parking                                         0.0250      0.002     13.326      0.000       0.021       0.029\n",
      "C(clc_code)[T.Suburban]:Parking                -0.0236      0.003     -8.143      0.000      -0.029      -0.018\n",
      "C(clc_code)[T.Uninhabited]:Parking             -2.4612      0.169    -14.545      0.000      -2.793      -2.130\n",
      "C(clc_code)[T.Urban]:Parking                   -0.0161      0.002     -6.622      0.000      -0.021      -0.011\n",
      "university                                     -0.0131      0.000    -27.935      0.000      -0.014      -0.012\n",
      "C(clc_code)[T.Suburban]:university              0.0086      0.001     15.778      0.000       0.008       0.010\n",
      "C(clc_code)[T.Uninhabited]:university          -0.0090      0.002     -4.234      0.000      -0.013      -0.005\n",
      "C(clc_code)[T.Urban]:university                 0.0177      0.001     33.472      0.000       0.017       0.019\n",
      "Bahnhof                                        -0.0017      0.000     -4.735      0.000      -0.002      -0.001\n",
      "C(clc_code)[T.Suburban]:Bahnhof                 0.0011      0.000      2.462      0.014       0.000       0.002\n",
      "C(clc_code)[T.Uninhabited]:Bahnhof              0.0516      0.001     40.299      0.000       0.049       0.054\n",
      "C(clc_code)[T.Urban]:Bahnhof                    0.0064      0.000     15.045      0.000       0.006       0.007\n",
      "==============================================================================\n",
      "Omnibus:                   488173.869   Durbin-Watson:                   1.494\n",
      "Prob(Omnibus):                  0.000   Jarque-Bera (JB):          1159946.661\n",
      "Skew:                          -1.532   Prob(JB):                         0.00\n",
      "Kurtosis:                       5.471   Cond. No.                     9.43e+03\n",
      "==============================================================================\n",
      "\n",
      "Notes:\n",
      "[1] Standard Errors assume that the covariance matrix of the errors is correctly specified.\n",
      "[2] The condition number is large, 9.43e+03. This might indicate that there are\n",
      "strong multicollinearity or other numerical problems.\n"
     ]
    }
   ],
   "source": [
    "print(res_clc.summary())"
   ]
  },
  {
   "cell_type": "code",
   "execution_count": 80,
   "id": "08c72a4a",
   "metadata": {},
   "outputs": [],
   "source": [
    "#mod = ols(\"Charging_time_in_hours_log ~ C(pd, clc_code)\", data=df)"
   ]
  },
  {
   "cell_type": "code",
   "execution_count": null,
   "id": "86712c69",
   "metadata": {},
   "outputs": [],
   "source": []
  },
  {
   "cell_type": "code",
   "execution_count": null,
   "id": "fb43efd1",
   "metadata": {},
   "outputs": [],
   "source": []
  },
  {
   "cell_type": "code",
   "execution_count": null,
   "id": "643354dd",
   "metadata": {},
   "outputs": [],
   "source": []
  },
  {
   "cell_type": "code",
   "execution_count": null,
   "id": "fa941827",
   "metadata": {},
   "outputs": [],
   "source": []
  },
  {
   "cell_type": "code",
   "execution_count": null,
   "id": "670ef72b",
   "metadata": {},
   "outputs": [],
   "source": []
  }
 ],
 "metadata": {
  "kernelspec": {
   "display_name": "Python 3",
   "language": "python",
   "name": "python3"
  },
  "language_info": {
   "codemirror_mode": {
    "name": "ipython",
    "version": 3
   },
   "file_extension": ".py",
   "mimetype": "text/x-python",
   "name": "python",
   "nbconvert_exporter": "python",
   "pygments_lexer": "ipython3",
   "version": "3.8.8"
  }
 },
 "nbformat": 4,
 "nbformat_minor": 5
}
