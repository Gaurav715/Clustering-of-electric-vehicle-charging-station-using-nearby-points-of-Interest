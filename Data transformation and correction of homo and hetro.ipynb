{
 "cells": [
  {
   "cell_type": "code",
   "execution_count": 1,
   "id": "c7083666",
   "metadata": {},
   "outputs": [],
   "source": [
    "import pandas as pd\n",
    "import numpy as np\n",
    "import seaborn as sns\n",
    "import matplotlib.pyplot as plt\n",
    "import dask\n",
    "import dask.dataframe as dd\n",
    "\n",
    "from sklearn.model_selection import GridSearchCV, KFold,KFold, cross_val_score\n",
    "\n",
    "from sklearn.preprocessing import PolynomialFeatures, StandardScaler,RobustScaler \n",
    "\n",
    "from sklearn.pipeline import make_pipeline\n",
    "\n",
    "from sklearn.model_selection import train_test_split\n",
    "import statsmodels.formula.api as smf\n",
    "import statsmodels.stats.api as sms\n",
    "from statsmodels.compat import lzip\n",
    "from sklearn.svm import SVC\n",
    "from sklearn.tree import DecisionTreeClassifier # Import Decision Tree Classifier\n",
    "from sklearn.linear_model import LogisticRegression,LinearRegression,Lasso\n",
    "\n",
    "from sklearn.metrics import accuracy_score, f1_score,mean_squared_error,classification_report,confusion_matrix\n",
    "\n",
    "from sklearn.naive_bayes import GaussianNB\n",
    "from sklearn.discriminant_analysis import QuadraticDiscriminantAnalysis\n",
    "\n",
    "from sklearn.model_selection import cross_val_score\n",
    "from sklearn.preprocessing import OneHotEncoder\n",
    "\n",
    "from sklearn.compose import make_column_transformer\n",
    "from sklearn.pipeline import make_pipeline\n",
    "import pandas as pd\n",
    "import numpy as np\n",
    "import seaborn as sns\n",
    "import matplotlib.pyplot as plt\n",
    "import dask\n",
    "import dask.dataframe as dd\n",
    "\n",
    "import plotly.express as px\n",
    "import plotly.graph_objects as go\n",
    "\n",
    "from sklearn.model_selection import GridSearchCV, KFold,KFold, cross_val_score\n",
    "\n",
    "from sklearn.preprocessing import PolynomialFeatures, StandardScaler,RobustScaler \n",
    "\n",
    "from sklearn.pipeline import make_pipeline\n",
    "\n",
    "from sklearn.model_selection import train_test_split\n",
    "\n",
    "from sklearn.svm import SVC\n",
    "from sklearn.tree import DecisionTreeClassifier # Import Decision Tree Classifier\n",
    "from sklearn.linear_model import LogisticRegression,LinearRegression,Lasso\n",
    "\n",
    "from sklearn.metrics import accuracy_score, f1_score,mean_squared_error,classification_report,confusion_matrix\n",
    "\n",
    "from sklearn.naive_bayes import GaussianNB\n",
    "from sklearn.discriminant_analysis import QuadraticDiscriminantAnalysis\n",
    "\n",
    "from sklearn.model_selection import cross_val_score\n",
    "from sklearn.preprocessing import OneHotEncoder\n",
    "\n",
    "from sklearn.compose import make_column_transformer\n",
    "\n",
    "from scipy import stats\n",
    "import matplotlib.pyplot as plt\n",
    "from sklearn.pipeline import make_pipeline"
   ]
  },
  {
   "cell_type": "code",
   "execution_count": 2,
   "id": "e141bb3f",
   "metadata": {},
   "outputs": [],
   "source": [
    "df = pd.read_pickle(\"end_result-v2.pickle\")"
   ]
  },
  {
   "cell_type": "code",
   "execution_count": 3,
   "id": "efc0793e",
   "metadata": {},
   "outputs": [
    {
     "name": "stdout",
     "output_type": "stream",
     "text": [
      "<class 'pandas.core.frame.DataFrame'>\n",
      "Int64Index: 1796287 entries, 0 to 1940933\n",
      "Data columns (total 28 columns):\n",
      " #   Column                      Dtype         \n",
      "---  ------                      -----         \n",
      " 0   park_id                     object        \n",
      " 1   clc_code                    object        \n",
      " 2   area_code                   object        \n",
      " 3   evse_id                     object        \n",
      " 4   datetime_start              datetime64[ns]\n",
      " 5   datetime_stop               datetime64[ns]\n",
      " 6   city                        object        \n",
      " 7   latitude                    float64       \n",
      " 8   longitude                   float64       \n",
      " 9   postal_code                 category      \n",
      " 10  Charging_Time_in_hours      float64       \n",
      " 11  year                        category      \n",
      " 12  month                       category      \n",
      " 13  day                         category      \n",
      " 14  day_of_week_name_Start      object        \n",
      " 15  Precipitation               float64       \n",
      " 16  Temperature                 float64       \n",
      " 17  pd                          float64       \n",
      " 18  Count_Charging              int64         \n",
      " 19  Charging_time_in_hours_log  float64       \n",
      " 20  Bahnhof                     float64       \n",
      " 21  Restaurant                  float64       \n",
      " 22  Biergarten                  float64       \n",
      " 23  Community_Centre            float64       \n",
      " 24  Hospital                    float64       \n",
      " 25  Kino                        float64       \n",
      " 26  Parking                     float64       \n",
      " 27  university                  float64       \n",
      "dtypes: category(4), datetime64[ns](2), float64(15), int64(1), object(6)\n",
      "memory usage: 351.2+ MB\n"
     ]
    }
   ],
   "source": [
    "df.info()"
   ]
  },
  {
   "cell_type": "markdown",
   "id": "e80c0d32",
   "metadata": {},
   "source": [
    "# standardization"
   ]
  },
  {
   "cell_type": "code",
   "execution_count": 4,
   "id": "9c19c9eb",
   "metadata": {},
   "outputs": [],
   "source": [
    "df[\"Temperature_New\"]=((df[\"Temperature\"]-df[\"Temperature\"].min())/(df[\"Temperature\"].max()-df[\"Temperature\"].min()))*20\n"
   ]
  },
  {
   "cell_type": "code",
   "execution_count": 5,
   "id": "e17fe5b4",
   "metadata": {},
   "outputs": [],
   "source": [
    "df[\"Precipitation_New\"]=((df[\"Precipitation\"]-df[\"Precipitation\"].min())/(df[\"Precipitation\"].max()-df[\"Precipitation\"].min()))*20\n"
   ]
  },
  {
   "cell_type": "code",
   "execution_count": 6,
   "id": "e69f93b1",
   "metadata": {},
   "outputs": [],
   "source": [
    "df[\"pd_New\"]=((df[\"pd\"]-df[\"pd\"].min())/(df[\"pd\"].max()-df[\"pd\"].min()))*20\n"
   ]
  },
  {
   "cell_type": "code",
   "execution_count": 7,
   "id": "6a2716da",
   "metadata": {},
   "outputs": [],
   "source": [
    "df[\"Bahnhof_New\"]=((df[\"Bahnhof\"]-df[\"Bahnhof\"].min())/(df[\"Bahnhof\"].max()-df[\"Bahnhof\"].min()))*20"
   ]
  },
  {
   "cell_type": "code",
   "execution_count": 8,
   "id": "b7b21a32",
   "metadata": {},
   "outputs": [],
   "source": [
    "df[\"Restaurant_New\"]=((df[\"Restaurant\"]-df[\"Restaurant\"].min())/(df[\"Restaurant\"].max()-df[\"Restaurant\"].min()))*20"
   ]
  },
  {
   "cell_type": "code",
   "execution_count": 9,
   "id": "70d46058",
   "metadata": {},
   "outputs": [],
   "source": [
    "df[\"Biergarten_New\"]=((df[\"Biergarten\"]-df[\"Biergarten\"].min())/(df[\"Biergarten\"].max()-df[\"Biergarten\"].min()))*20"
   ]
  },
  {
   "cell_type": "code",
   "execution_count": 10,
   "id": "226e20d4",
   "metadata": {},
   "outputs": [],
   "source": [
    "df[\"Community_Centre_New\"]=((df[\"Community_Centre\"]-df[\"Community_Centre\"].min())/(df[\"Community_Centre\"].max()-df[\"Community_Centre\"].min()))*20"
   ]
  },
  {
   "cell_type": "code",
   "execution_count": 11,
   "id": "c34cd1eb",
   "metadata": {},
   "outputs": [],
   "source": [
    "df[\"Hospital_New\"]=((df[\"Hospital\"]-df[\"Hospital\"].min())/(df[\"Hospital\"].max()-df[\"Hospital\"].min()))*20"
   ]
  },
  {
   "cell_type": "code",
   "execution_count": 12,
   "id": "55b09315",
   "metadata": {},
   "outputs": [],
   "source": [
    "df[\"Kino_New\"]=((df[\"Kino\"]-df[\"Kino\"].min())/(df[\"Kino\"].max()-df[\"Kino\"].min()))*20"
   ]
  },
  {
   "cell_type": "code",
   "execution_count": 13,
   "id": "02da7498",
   "metadata": {},
   "outputs": [],
   "source": [
    "df[\"Parking_New\"]=((df[\"Parking\"]-df[\"Parking\"].min())/(df[\"Parking\"].max()-df[\"Parking\"].min()))*20"
   ]
  },
  {
   "cell_type": "code",
   "execution_count": 14,
   "id": "fa959e66",
   "metadata": {},
   "outputs": [],
   "source": [
    "df[\"university_New\"]=((df[\"university\"]-df[\"university\"].min())/(df[\"university\"].max()-df[\"university\"].min()))*20"
   ]
  },
  {
   "cell_type": "code",
   "execution_count": 15,
   "id": "8bb6f6a4",
   "metadata": {},
   "outputs": [],
   "source": [
    "df[\"Charging_Time_in_hours_New\"]=((df[\"Charging_Time_in_hours\"]-df[\"Charging_Time_in_hours\"].min())/(df[\"Charging_Time_in_hours\"].max()-df[\"Charging_Time_in_hours\"].min()))*20"
   ]
  },
  {
   "cell_type": "code",
   "execution_count": 16,
   "id": "f9bce586",
   "metadata": {},
   "outputs": [],
   "source": [
    "df[\"Charging_time_in_hours_log_New\"]=((df[\"Charging_time_in_hours_log\"]-df[\"Charging_time_in_hours_log\"].min())/(df[\"Charging_time_in_hours_log\"].max()-df[\"Charging_time_in_hours_log\"].min()))*20"
   ]
  },
  {
   "cell_type": "code",
   "execution_count": 17,
   "id": "007efdb7",
   "metadata": {},
   "outputs": [],
   "source": [
    "df.replace([np.inf, -np.inf], np.nan, inplace=True)"
   ]
  },
  {
   "cell_type": "code",
   "execution_count": 18,
   "id": "47522cd3",
   "metadata": {},
   "outputs": [],
   "source": [
    "#df= df.head(10)"
   ]
  },
  {
   "cell_type": "code",
   "execution_count": 19,
   "id": "545a89c0",
   "metadata": {},
   "outputs": [],
   "source": [
    "#print(df.to_latex(index=False))"
   ]
  },
  {
   "cell_type": "code",
   "execution_count": 20,
   "id": "8e7aad5b",
   "metadata": {},
   "outputs": [],
   "source": [
    "#df.to_pickle(\"data_after_normalization-v1.pickle\")"
   ]
  },
  {
   "cell_type": "code",
   "execution_count": 21,
   "id": "76ec1ac2",
   "metadata": {},
   "outputs": [],
   "source": [
    "#df.to_csv(\"data_after_normalization-v1.csv\")"
   ]
  },
  {
   "cell_type": "markdown",
   "id": "ba97be0c",
   "metadata": {},
   "source": [
    "# ols with standardized variable"
   ]
  },
  {
   "cell_type": "code",
   "execution_count": 22,
   "id": "adb6cd85",
   "metadata": {},
   "outputs": [],
   "source": [
    "results = smf.ols(\"Charging_Time_in_hours_New ~ pd_New+Precipitation_New+Temperature_New+Parking_New+university_New+Biergarten_New+Kino_New+Restaurant_New+Community_Centre_New+Hospital_New+Bahnhof_New\",\n",
    "                  data=df).fit()"
   ]
  },
  {
   "cell_type": "code",
   "execution_count": 23,
   "id": "4577f5a6",
   "metadata": {},
   "outputs": [
    {
     "name": "stdout",
     "output_type": "stream",
     "text": [
      "                                OLS Regression Results                                \n",
      "======================================================================================\n",
      "Dep. Variable:     Charging_Time_in_hours_New   R-squared:                       0.007\n",
      "Model:                                    OLS   Adj. R-squared:                  0.007\n",
      "Method:                         Least Squares   F-statistic:                     1145.\n",
      "Date:                        Tue, 01 Feb 2022   Prob (F-statistic):               0.00\n",
      "Time:                                16:44:59   Log-Likelihood:            -6.1088e+06\n",
      "No. Observations:                     1796287   AIC:                         1.222e+07\n",
      "Df Residuals:                         1796275   BIC:                         1.222e+07\n",
      "Df Model:                                  11                                         \n",
      "Covariance Type:                    nonrobust                                         \n",
      "========================================================================================\n",
      "                           coef    std err          t      P>|t|      [0.025      0.975]\n",
      "----------------------------------------------------------------------------------------\n",
      "Intercept                8.5343      0.021    405.158      0.000       8.493       8.576\n",
      "pd_New                   0.0625      0.001     81.199      0.000       0.061       0.064\n",
      "Precipitation_New       -0.0361      0.012     -3.071      0.002      -0.059      -0.013\n",
      "Temperature_New         -0.1093      0.002    -61.087      0.000      -0.113      -0.106\n",
      "Parking_New              0.0507      0.004     13.004      0.000       0.043       0.058\n",
      "university_New          -0.0039      0.001     -5.944      0.000      -0.005      -0.003\n",
      "Biergarten_New          -0.0300      0.003    -10.388      0.000      -0.036      -0.024\n",
      "Kino_New                -0.0307      0.002    -19.841      0.000      -0.034      -0.028\n",
      "Restaurant_New          -0.1023      0.014     -7.388      0.000      -0.129      -0.075\n",
      "Community_Centre_New     0.0640      0.002     33.448      0.000       0.060       0.068\n",
      "Hospital_New            -0.0038      0.001     -6.212      0.000      -0.005      -0.003\n",
      "Bahnhof_New              0.0111      0.001     19.339      0.000       0.010       0.012\n",
      "==============================================================================\n",
      "Omnibus:                 24452440.421   Durbin-Watson:                   1.577\n",
      "Prob(Omnibus):                  0.000   Jarque-Bera (JB):           207172.721\n",
      "Skew:                           0.476   Prob(JB):                         0.00\n",
      "Kurtosis:                       1.636   Cond. No.                         77.0\n",
      "==============================================================================\n",
      "\n",
      "Notes:\n",
      "[1] Standard Errors assume that the covariance matrix of the errors is correctly specified.\n"
     ]
    }
   ],
   "source": [
    "print(results.summary())"
   ]
  },
  {
   "cell_type": "code",
   "execution_count": 25,
   "id": "103c547c",
   "metadata": {},
   "outputs": [
    {
     "name": "stdout",
     "output_type": "stream",
     "text": [
      "\\begin{center}\n",
      "\\begin{tabular}{lclc}\n",
      "\\toprule\n",
      "\\textbf{Dep. Variable:}         & Charging\\_Time\\_in\\_hours\\_New & \\textbf{  R-squared:         } &      0.007   \\\\\n",
      "\\textbf{Model:}                 &              OLS               & \\textbf{  Adj. R-squared:    } &      0.007   \\\\\n",
      "\\textbf{Method:}                &         Least Squares          & \\textbf{  F-statistic:       } &      1145.   \\\\\n",
      "\\textbf{Date:}                  &        Tue, 01 Feb 2022        & \\textbf{  Prob (F-statistic):} &      0.00    \\\\\n",
      "\\textbf{Time:}                  &            16:52:48            & \\textbf{  Log-Likelihood:    } & -6.1088e+06  \\\\\n",
      "\\textbf{No. Observations:}      &            1796287             & \\textbf{  AIC:               } &  1.222e+07   \\\\\n",
      "\\textbf{Df Residuals:}          &            1796275             & \\textbf{  BIC:               } &  1.222e+07   \\\\\n",
      "\\textbf{Df Model:}              &                 11             & \\textbf{                     } &              \\\\\n",
      "\\bottomrule\n",
      "\\end{tabular}\n",
      "\\begin{tabular}{lcccccc}\n",
      "                                & \\textbf{coef} & \\textbf{std err} & \\textbf{t} & \\textbf{P$> |$t$|$} & \\textbf{[0.025} & \\textbf{0.975]}  \\\\\n",
      "\\midrule\n",
      "\\textbf{Intercept}              &       8.5343  &        0.021     &   405.158  &         0.000        &        8.493    &        8.576     \\\\\n",
      "\\textbf{pd\\_New}                &       0.0625  &        0.001     &    81.199  &         0.000        &        0.061    &        0.064     \\\\\n",
      "\\textbf{Precipitation\\_New}     &      -0.0361  &        0.012     &    -3.071  &         0.002        &       -0.059    &       -0.013     \\\\\n",
      "\\textbf{Temperature\\_New}       &      -0.1093  &        0.002     &   -61.087  &         0.000        &       -0.113    &       -0.106     \\\\\n",
      "\\textbf{Parking\\_New}           &       0.0507  &        0.004     &    13.004  &         0.000        &        0.043    &        0.058     \\\\\n",
      "\\textbf{university\\_New}        &      -0.0039  &        0.001     &    -5.944  &         0.000        &       -0.005    &       -0.003     \\\\\n",
      "\\textbf{Biergarten\\_New}        &      -0.0300  &        0.003     &   -10.388  &         0.000        &       -0.036    &       -0.024     \\\\\n",
      "\\textbf{Kino\\_New}              &      -0.0307  &        0.002     &   -19.841  &         0.000        &       -0.034    &       -0.028     \\\\\n",
      "\\textbf{Restaurant\\_New}        &      -0.1023  &        0.014     &    -7.388  &         0.000        &       -0.129    &       -0.075     \\\\\n",
      "\\textbf{Community\\_Centre\\_New} &       0.0640  &        0.002     &    33.448  &         0.000        &        0.060    &        0.068     \\\\\n",
      "\\textbf{Hospital\\_New}          &      -0.0038  &        0.001     &    -6.212  &         0.000        &       -0.005    &       -0.003     \\\\\n",
      "\\textbf{Bahnhof\\_New}           &       0.0111  &        0.001     &    19.339  &         0.000        &        0.010    &        0.012     \\\\\n",
      "\\bottomrule\n",
      "\\end{tabular}\n",
      "\\begin{tabular}{lclc}\n",
      "\\textbf{Omnibus:}       & 24452440.421 & \\textbf{  Durbin-Watson:     } &     1.577   \\\\\n",
      "\\textbf{Prob(Omnibus):} &     0.000    & \\textbf{  Jarque-Bera (JB):  } & 207172.721  \\\\\n",
      "\\textbf{Skew:}          &     0.476    & \\textbf{  Prob(JB):          } &      0.00   \\\\\n",
      "\\textbf{Kurtosis:}      &     1.636    & \\textbf{  Cond. No.          } &      77.0   \\\\\n",
      "\\bottomrule\n",
      "\\end{tabular}\n",
      "%\\caption{OLS Regression Results}\n",
      "\\end{center}\n",
      "\n",
      "Notes: \\newline\n",
      " [1] Standard Errors assume that the covariance matrix of the errors is correctly specified.\n"
     ]
    }
   ],
   "source": [
    "print((results.summary()).as_latex())"
   ]
  },
  {
   "cell_type": "code",
   "execution_count": null,
   "id": "268fa0f2",
   "metadata": {},
   "outputs": [],
   "source": []
  },
  {
   "cell_type": "code",
   "execution_count": null,
   "id": "07abebf6",
   "metadata": {},
   "outputs": [],
   "source": []
  },
  {
   "cell_type": "markdown",
   "id": "84f4779a",
   "metadata": {},
   "source": [
    "# ols with normal variable "
   ]
  },
  {
   "cell_type": "code",
   "execution_count": 128,
   "id": "4a3800e5",
   "metadata": {},
   "outputs": [],
   "source": [
    "results = smf.ols(\"Charging_Time_in_hours ~ pd+Precipitation+Temperature+Parking+university+Biergarten+Kino+Restaurant+Community_Centre+Hospital+Bahnhof\",\n",
    "                  data=df).fit()"
   ]
  },
  {
   "cell_type": "code",
   "execution_count": 129,
   "id": "3bcda67a",
   "metadata": {},
   "outputs": [
    {
     "name": "stdout",
     "output_type": "stream",
     "text": [
      "                              OLS Regression Results                              \n",
      "==================================================================================\n",
      "Dep. Variable:     Charging_Time_in_hours   R-squared:                       0.007\n",
      "Model:                                OLS   Adj. R-squared:                  0.007\n",
      "Method:                     Least Squares   F-statistic:                     1145.\n",
      "Date:                    Sat, 01 Jan 2022   Prob (F-statistic):               0.00\n",
      "Time:                            21:37:51   Log-Likelihood:            -6.4363e+06\n",
      "No. Observations:                 1796287   AIC:                         1.287e+07\n",
      "Df Residuals:                     1796275   BIC:                         1.287e+07\n",
      "Df Model:                              11                                         \n",
      "Covariance Type:                nonrobust                                         \n",
      "====================================================================================\n",
      "                       coef    std err          t      P>|t|      [0.025      0.975]\n",
      "------------------------------------------------------------------------------------\n",
      "Intercept            9.4935      0.017    562.802      0.000       9.460       9.527\n",
      "pd                   0.0003   3.89e-06     81.199      0.000       0.000       0.000\n",
      "Precipitation       -0.1052      0.034     -3.071      0.002      -0.172      -0.038\n",
      "Temperature         -0.0548      0.001    -61.087      0.000      -0.057      -0.053\n",
      "Parking              0.0012   9.36e-05     13.004      0.000       0.001       0.001\n",
      "university       -9.326e-05   1.57e-05     -5.944      0.000      -0.000   -6.25e-05\n",
      "Biergarten          -0.0007   6.94e-05    -10.388      0.000      -0.001      -0.001\n",
      "Kino                -0.0007   3.71e-05    -19.841      0.000      -0.001      -0.001\n",
      "Restaurant          -0.0025      0.000     -7.388      0.000      -0.003      -0.002\n",
      "Community_Centre     0.0015   4.59e-05     33.448      0.000       0.001       0.002\n",
      "Hospital         -9.048e-05   1.46e-05     -6.212      0.000      -0.000   -6.19e-05\n",
      "Bahnhof              0.0003   1.38e-05     19.339      0.000       0.000       0.000\n",
      "==============================================================================\n",
      "Omnibus:                 24452440.421   Durbin-Watson:                   1.577\n",
      "Prob(Omnibus):                  0.000   Jarque-Bera (JB):           207172.721\n",
      "Skew:                           0.476   Prob(JB):                         0.00\n",
      "Kurtosis:                       1.636   Cond. No.                     1.61e+04\n",
      "==============================================================================\n",
      "\n",
      "Notes:\n",
      "[1] Standard Errors assume that the covariance matrix of the errors is correctly specified.\n",
      "[2] The condition number is large, 1.61e+04. This might indicate that there are\n",
      "strong multicollinearity or other numerical problems.\n"
     ]
    }
   ],
   "source": [
    "print(results.summary())"
   ]
  },
  {
   "cell_type": "markdown",
   "id": "00df4509",
   "metadata": {},
   "source": [
    "# log ols with standardization variable"
   ]
  },
  {
   "cell_type": "code",
   "execution_count": 26,
   "id": "e1b4589c",
   "metadata": {},
   "outputs": [],
   "source": [
    "results = smf.ols(\"Charging_time_in_hours_log ~ pd_New+Precipitation_New+Temperature_New+Parking_New+university_New+Biergarten_New+Kino_New+Restaurant_New+Community_Centre_New+Hospital_New+Bahnhof_New\",\n",
    "                  data=df).fit()"
   ]
  },
  {
   "cell_type": "code",
   "execution_count": 27,
   "id": "228a00a1",
   "metadata": {},
   "outputs": [
    {
     "name": "stdout",
     "output_type": "stream",
     "text": [
      "\\begin{center}\n",
      "\\begin{tabular}{lclc}\n",
      "\\toprule\n",
      "\\textbf{Dep. Variable:}         & Charging\\_time\\_in\\_hours\\_log & \\textbf{  R-squared:         } &      0.012   \\\\\n",
      "\\textbf{Model:}                 &              OLS               & \\textbf{  Adj. R-squared:    } &      0.012   \\\\\n",
      "\\textbf{Method:}                &         Least Squares          & \\textbf{  F-statistic:       } &      1903.   \\\\\n",
      "\\textbf{Date:}                  &        Tue, 01 Feb 2022        & \\textbf{  Prob (F-statistic):} &      0.00    \\\\\n",
      "\\textbf{Time:}                  &            17:05:44            & \\textbf{  Log-Likelihood:    } & -3.6515e+06  \\\\\n",
      "\\textbf{No. Observations:}      &            1796283             & \\textbf{  AIC:               } &  7.303e+06   \\\\\n",
      "\\textbf{Df Residuals:}          &            1796271             & \\textbf{  BIC:               } &  7.303e+06   \\\\\n",
      "\\textbf{Df Model:}              &                 11             & \\textbf{                     } &              \\\\\n",
      "\\bottomrule\n",
      "\\end{tabular}\n",
      "\\begin{tabular}{lcccccc}\n",
      "                                & \\textbf{coef} & \\textbf{std err} & \\textbf{t} & \\textbf{P$> |$t$|$} & \\textbf{[0.025} & \\textbf{0.975]}  \\\\\n",
      "\\midrule\n",
      "\\textbf{Intercept}              &       1.4383  &        0.005     &   268.186  &         0.000        &        1.428    &        1.449     \\\\\n",
      "\\textbf{pd\\_New}                &       0.0234  &        0.000     &   119.433  &         0.000        &        0.023    &        0.024     \\\\\n",
      "\\textbf{Precipitation\\_New}     &      -0.0156  &        0.003     &    -5.225  &         0.000        &       -0.022    &       -0.010     \\\\\n",
      "\\textbf{Temperature\\_New}       &      -0.0271  &        0.000     &   -59.593  &         0.000        &       -0.028    &       -0.026     \\\\\n",
      "\\textbf{Parking\\_New}           &       0.0127  &        0.001     &    12.798  &         0.000        &        0.011    &        0.015     \\\\\n",
      "\\textbf{university\\_New}        &      -0.0017  &        0.000     &   -10.442  &         0.000        &       -0.002    &       -0.001     \\\\\n",
      "\\textbf{Biergarten\\_New}        &      -0.0077  &        0.001     &   -10.471  &         0.000        &       -0.009    &       -0.006     \\\\\n",
      "\\textbf{Kino\\_New}              &      -0.0126  &        0.000     &   -31.977  &         0.000        &       -0.013    &       -0.012     \\\\\n",
      "\\textbf{Restaurant\\_New}        &      -0.0157  &        0.004     &    -4.450  &         0.000        &       -0.023    &       -0.009     \\\\\n",
      "\\textbf{Community\\_Centre\\_New} &       0.0160  &        0.000     &    32.822  &         0.000        &        0.015    &        0.017     \\\\\n",
      "\\textbf{Hospital\\_New}          &      -0.0011  &        0.000     &    -7.251  &         0.000        &       -0.001    &       -0.001     \\\\\n",
      "\\textbf{Bahnhof\\_New}           &       0.0027  &        0.000     &    18.431  &         0.000        &        0.002    &        0.003     \\\\\n",
      "\\bottomrule\n",
      "\\end{tabular}\n",
      "\\begin{tabular}{lclc}\n",
      "\\textbf{Omnibus:}       & 492765.439 & \\textbf{  Durbin-Watson:     } &      1.495   \\\\\n",
      "\\textbf{Prob(Omnibus):} &    0.000   & \\textbf{  Jarque-Bera (JB):  } & 1187635.290  \\\\\n",
      "\\textbf{Skew:}          &   -1.539   & \\textbf{  Prob(JB):          } &       0.00   \\\\\n",
      "\\textbf{Kurtosis:}      &    5.529   & \\textbf{  Cond. No.          } &       77.0   \\\\\n",
      "\\bottomrule\n",
      "\\end{tabular}\n",
      "%\\caption{OLS Regression Results}\n",
      "\\end{center}\n",
      "\n",
      "Notes: \\newline\n",
      " [1] Standard Errors assume that the covariance matrix of the errors is correctly specified.\n"
     ]
    }
   ],
   "source": [
    "print((results.summary()).as_latex())"
   ]
  },
  {
   "cell_type": "markdown",
   "id": "fe1a3430",
   "metadata": {},
   "source": [
    "# log ols with original variable "
   ]
  },
  {
   "cell_type": "code",
   "execution_count": 131,
   "id": "4cf34c88",
   "metadata": {},
   "outputs": [],
   "source": [
    "results = smf.ols(\"Charging_time_in_hours_log_New ~ pd+Precipitation+Temperature+Parking+university+Biergarten+Kino+Restaurant+Community_Centre+Hospital+Bahnhof\",\n",
    "                  data=df).fit()"
   ]
  },
  {
   "cell_type": "code",
   "execution_count": 132,
   "id": "aef0f288",
   "metadata": {},
   "outputs": [
    {
     "name": "stdout",
     "output_type": "stream",
     "text": [
      "                                  OLS Regression Results                                  \n",
      "==========================================================================================\n",
      "Dep. Variable:     Charging_time_in_hours_log_New   R-squared:                       0.012\n",
      "Model:                                        OLS   Adj. R-squared:                  0.012\n",
      "Method:                             Least Squares   F-statistic:                     1903.\n",
      "Date:                            Sat, 01 Jan 2022   Prob (F-statistic):               0.00\n",
      "Time:                                    21:39:42   Log-Likelihood:            -4.6664e+06\n",
      "No. Observations:                         1796283   AIC:                         9.333e+06\n",
      "Df Residuals:                             1796271   BIC:                         9.333e+06\n",
      "Df Model:                                      11                                         \n",
      "Covariance Type:                        nonrobust                                         \n",
      "====================================================================================\n",
      "                       coef    std err          t      P>|t|      [0.025      0.975]\n",
      "------------------------------------------------------------------------------------\n",
      "Intercept           16.6650      0.006   2646.269      0.000      16.653      16.677\n",
      "pd                   0.0002   1.45e-06    119.433      0.000       0.000       0.000\n",
      "Precipitation       -0.0668      0.013     -5.225      0.000      -0.092      -0.042\n",
      "Temperature         -0.0200      0.000    -59.593      0.000      -0.021      -0.019\n",
      "Parking              0.0004    3.5e-05     12.798      0.000       0.000       0.001\n",
      "university       -6.116e-05   5.86e-06    -10.442      0.000   -7.26e-05   -4.97e-05\n",
      "Biergarten          -0.0003   2.59e-05    -10.471      0.000      -0.000      -0.000\n",
      "Kino                -0.0004   1.38e-05    -31.977      0.000      -0.000      -0.000\n",
      "Restaurant          -0.0006      0.000     -4.450      0.000      -0.001      -0.000\n",
      "Community_Centre     0.0006   1.71e-05     32.822      0.000       0.001       0.001\n",
      "Hospital         -3.943e-05   5.44e-06     -7.251      0.000   -5.01e-05   -2.88e-05\n",
      "Bahnhof           9.473e-05   5.14e-06     18.431      0.000    8.47e-05       0.000\n",
      "==============================================================================\n",
      "Omnibus:                   492765.439   Durbin-Watson:                   1.495\n",
      "Prob(Omnibus):                  0.000   Jarque-Bera (JB):          1187635.290\n",
      "Skew:                          -1.539   Prob(JB):                         0.00\n",
      "Kurtosis:                       5.529   Cond. No.                     1.61e+04\n",
      "==============================================================================\n",
      "\n",
      "Notes:\n",
      "[1] Standard Errors assume that the covariance matrix of the errors is correctly specified.\n",
      "[2] The condition number is large, 1.61e+04. This might indicate that there are\n",
      "strong multicollinearity or other numerical problems.\n"
     ]
    }
   ],
   "source": [
    "print(results.summary())"
   ]
  },
  {
   "cell_type": "markdown",
   "id": "10827ad7",
   "metadata": {},
   "source": [
    "#  square root ols with standardization variable"
   ]
  },
  {
   "cell_type": "code",
   "execution_count": 28,
   "id": "b8a4f4e2",
   "metadata": {},
   "outputs": [],
   "source": [
    "df['Charging_Time_in_hours_squareroot']=np.sqrt((df['Charging_Time_in_hours']))"
   ]
  },
  {
   "cell_type": "code",
   "execution_count": 29,
   "id": "00865942",
   "metadata": {},
   "outputs": [],
   "source": [
    "results = smf.ols(\"Charging_Time_in_hours_squareroot ~ pd_New+Precipitation_New+Temperature_New+Parking_New+university_New+Biergarten_New+Kino_New+Restaurant_New+Community_Centre_New+Hospital_New+Bahnhof_New\",\n",
    "                  data=df).fit()"
   ]
  },
  {
   "cell_type": "code",
   "execution_count": 31,
   "id": "a25f723a",
   "metadata": {},
   "outputs": [
    {
     "name": "stdout",
     "output_type": "stream",
     "text": [
      "\\begin{center}\n",
      "\\begin{tabular}{lclc}\n",
      "\\toprule\n",
      "\\textbf{Dep. Variable:}         & Charging\\_Time\\_in\\_hours\\_squareroot & \\textbf{  R-squared:         } &      0.010   \\\\\n",
      "\\textbf{Model:}                 &                  OLS                  & \\textbf{  Adj. R-squared:    } &      0.010   \\\\\n",
      "\\textbf{Method:}                &             Least Squares             & \\textbf{  F-statistic:       } &      1671.   \\\\\n",
      "\\textbf{Date:}                  &            Tue, 01 Feb 2022           & \\textbf{  Prob (F-statistic):} &      0.00    \\\\\n",
      "\\textbf{Time:}                  &                17:11:28               & \\textbf{  Log-Likelihood:    } & -3.3453e+06  \\\\\n",
      "\\textbf{No. Observations:}      &                1796287                & \\textbf{  AIC:               } &  6.691e+06   \\\\\n",
      "\\textbf{Df Residuals:}          &                1796275                & \\textbf{  BIC:               } &  6.691e+06   \\\\\n",
      "\\textbf{Df Model:}              &                     11                & \\textbf{                     } &              \\\\\n",
      "\\bottomrule\n",
      "\\end{tabular}\n",
      "\\begin{tabular}{lcccccc}\n",
      "                                & \\textbf{coef} & \\textbf{std err} & \\textbf{t} & \\textbf{P$> |$t$|$} & \\textbf{[0.025} & \\textbf{0.975]}  \\\\\n",
      "\\midrule\n",
      "\\textbf{Intercept}              &       2.7727  &        0.005     &   613.086  &         0.000        &        2.764    &        2.782     \\\\\n",
      "\\textbf{pd\\_New}                &       0.0172  &        0.000     &   104.395  &         0.000        &        0.017    &        0.018     \\\\\n",
      "\\textbf{Precipitation\\_New}     &      -0.0103  &        0.003     &    -4.076  &         0.000        &       -0.015    &       -0.005     \\\\\n",
      "\\textbf{Temperature\\_New}       &      -0.0255  &        0.000     &   -66.502  &         0.000        &       -0.026    &       -0.025     \\\\\n",
      "\\textbf{Parking\\_New}           &       0.0117  &        0.001     &    14.006  &         0.000        &        0.010    &        0.013     \\\\\n",
      "\\textbf{university\\_New}        &      -0.0013  &        0.000     &    -9.085  &         0.000        &       -0.002    &       -0.001     \\\\\n",
      "\\textbf{Biergarten\\_New}        &      -0.0069  &        0.001     &   -11.091  &         0.000        &       -0.008    &       -0.006     \\\\\n",
      "\\textbf{Kino\\_New}              &      -0.0085  &        0.000     &   -25.754  &         0.000        &       -0.009    &       -0.008     \\\\\n",
      "\\textbf{Restaurant\\_New}        &      -0.0212  &        0.003     &    -7.147  &         0.000        &       -0.027    &       -0.015     \\\\\n",
      "\\textbf{Community\\_Centre\\_New} &       0.0151  &        0.000     &    36.819  &         0.000        &        0.014    &        0.016     \\\\\n",
      "\\textbf{Hospital\\_New}          &      -0.0010  &        0.000     &    -8.002  &         0.000        &       -0.001    &       -0.001     \\\\\n",
      "\\textbf{Bahnhof\\_New}           &       0.0026  &        0.000     &    21.434  &         0.000        &        0.002    &        0.003     \\\\\n",
      "\\bottomrule\n",
      "\\end{tabular}\n",
      "\\begin{tabular}{lclc}\n",
      "\\textbf{Omnibus:}       & 53526014.506 & \\textbf{  Durbin-Watson:     } &     1.535   \\\\\n",
      "\\textbf{Prob(Omnibus):} &     0.000    & \\textbf{  Jarque-Bera (JB):  } & 134689.174  \\\\\n",
      "\\textbf{Skew:}          &     0.024    & \\textbf{  Prob(JB):          } &      0.00   \\\\\n",
      "\\textbf{Kurtosis:}      &     1.659    & \\textbf{  Cond. No.          } &      77.0   \\\\\n",
      "\\bottomrule\n",
      "\\end{tabular}\n",
      "%\\caption{OLS Regression Results}\n",
      "\\end{center}\n",
      "\n",
      "Notes: \\newline\n",
      " [1] Standard Errors assume that the covariance matrix of the errors is correctly specified.\n"
     ]
    }
   ],
   "source": [
    "print((results.summary()).as_latex())"
   ]
  },
  {
   "cell_type": "markdown",
   "id": "518df2bc",
   "metadata": {},
   "source": [
    "#  square root ols with normal variable"
   ]
  },
  {
   "cell_type": "code",
   "execution_count": 95,
   "id": "bef22510",
   "metadata": {},
   "outputs": [],
   "source": [
    "results = smf.ols(\"Charging_Time_in_hours_squareroot ~ pd+Precipitation+Temperature+Parking+university+Biergarten+Kino+Restaurant+Community_Centre+Hospital+Bahnhof\",\n",
    "                  data=df).fit()"
   ]
  },
  {
   "cell_type": "code",
   "execution_count": 96,
   "id": "8ca7cd34",
   "metadata": {},
   "outputs": [
    {
     "name": "stdout",
     "output_type": "stream",
     "text": [
      "                                    OLS Regression Results                                   \n",
      "=============================================================================================\n",
      "Dep. Variable:     Charging_Time_in_hours_squareroot   R-squared:                       0.010\n",
      "Model:                                           OLS   Adj. R-squared:                  0.010\n",
      "Method:                                Least Squares   F-statistic:                     1671.\n",
      "Date:                               Fri, 31 Dec 2021   Prob (F-statistic):               0.00\n",
      "Time:                                       13:42:21   Log-Likelihood:            -3.3453e+06\n",
      "No. Observations:                            1796287   AIC:                         6.691e+06\n",
      "Df Residuals:                                1796275   BIC:                         6.691e+06\n",
      "Df Model:                                         11                                         \n",
      "Covariance Type:                           nonrobust                                         \n",
      "====================================================================================\n",
      "                       coef    std err          t      P>|t|      [0.025      0.975]\n",
      "------------------------------------------------------------------------------------\n",
      "Intercept            2.6268      0.003    870.338      0.000       2.621       2.633\n",
      "pd                7.262e-05   6.96e-07    104.395      0.000    7.13e-05     7.4e-05\n",
      "Precipitation       -0.0250      0.006     -4.076      0.000      -0.037      -0.013\n",
      "Temperature         -0.0107      0.000    -66.502      0.000      -0.011      -0.010\n",
      "Parking              0.0002   1.68e-05     14.006      0.000       0.000       0.000\n",
      "university        -2.55e-05   2.81e-06     -9.085      0.000    -3.1e-05      -2e-05\n",
      "Biergarten          -0.0001   1.24e-05    -11.091      0.000      -0.000      -0.000\n",
      "Kino                -0.0002   6.63e-06    -25.754      0.000      -0.000      -0.000\n",
      "Restaurant          -0.0004   5.94e-05     -7.147      0.000      -0.001      -0.000\n",
      "Community_Centre     0.0003   8.21e-06     36.819      0.000       0.000       0.000\n",
      "Hospital         -2.086e-05   2.61e-06     -8.002      0.000    -2.6e-05   -1.57e-05\n",
      "Bahnhof            5.28e-05   2.46e-06     21.434      0.000     4.8e-05    5.76e-05\n",
      "==============================================================================\n",
      "Omnibus:                 53526014.506   Durbin-Watson:                   1.535\n",
      "Prob(Omnibus):                  0.000   Jarque-Bera (JB):           134689.174\n",
      "Skew:                           0.024   Prob(JB):                         0.00\n",
      "Kurtosis:                       1.659   Cond. No.                     1.61e+04\n",
      "==============================================================================\n",
      "\n",
      "Notes:\n",
      "[1] Standard Errors assume that the covariance matrix of the errors is correctly specified.\n",
      "[2] The condition number is large, 1.61e+04. This might indicate that there are\n",
      "strong multicollinearity or other numerical problems.\n"
     ]
    }
   ],
   "source": [
    "print(results.summary())"
   ]
  },
  {
   "cell_type": "markdown",
   "id": "0ae9a452",
   "metadata": {},
   "source": [
    "# Reciprocal ols with normal variable"
   ]
  },
  {
   "cell_type": "code",
   "execution_count": 97,
   "id": "2c135ffb",
   "metadata": {},
   "outputs": [],
   "source": [
    "df['Charging_Time_in_hours_recd']=(1/df['Charging_Time_in_hours'])"
   ]
  },
  {
   "cell_type": "code",
   "execution_count": 98,
   "id": "dcee4297",
   "metadata": {},
   "outputs": [],
   "source": [
    "results = smf.ols(\"Charging_Time_in_hours_recd ~ pd+Precipitation+Temperature+Parking+university+Biergarten+Kino+Restaurant+Community_Centre+Hospital+Bahnhof\",\n",
    "                  data=df).fit()"
   ]
  },
  {
   "cell_type": "code",
   "execution_count": 99,
   "id": "cc9d51e5",
   "metadata": {},
   "outputs": [
    {
     "name": "stdout",
     "output_type": "stream",
     "text": [
      "                                 OLS Regression Results                                \n",
      "=======================================================================================\n",
      "Dep. Variable:     Charging_Time_in_hours_recd   R-squared:                         nan\n",
      "Model:                                     OLS   Adj. R-squared:                    nan\n",
      "Method:                          Least Squares   F-statistic:                       nan\n",
      "Date:                         Fri, 31 Dec 2021   Prob (F-statistic):                nan\n",
      "Time:                                 13:42:23   Log-Likelihood:                    nan\n",
      "No. Observations:                      1796287   AIC:                               nan\n",
      "Df Residuals:                          1796275   BIC:                               nan\n",
      "Df Model:                                   11                                         \n",
      "Covariance Type:                     nonrobust                                         \n",
      "====================================================================================\n",
      "                       coef    std err          t      P>|t|      [0.025      0.975]\n",
      "------------------------------------------------------------------------------------\n",
      "Intercept               nan        nan        nan        nan         nan         nan\n",
      "pd                     -inf        nan        nan        nan         nan         nan\n",
      "Precipitation          -inf        nan        nan        nan         nan         nan\n",
      "Temperature             nan        nan        nan        nan         nan         nan\n",
      "Parking                 nan        nan        nan        nan         nan         nan\n",
      "university              nan        nan        nan        nan         nan         nan\n",
      "Biergarten              nan        nan        nan        nan         nan         nan\n",
      "Kino                    nan        nan        nan        nan         nan         nan\n",
      "Restaurant             -inf        nan        nan        nan         nan         nan\n",
      "Community_Centre       -inf        nan        nan        nan         nan         nan\n",
      "Hospital                nan        nan        nan        nan         nan         nan\n",
      "Bahnhof                -inf        nan        nan        nan         nan         nan\n",
      "==============================================================================\n",
      "Omnibus:                          nan   Durbin-Watson:                     nan\n",
      "Prob(Omnibus):                    nan   Jarque-Bera (JB):                  nan\n",
      "Skew:                             nan   Prob(JB):                          nan\n",
      "Kurtosis:                         nan   Cond. No.                     1.61e+04\n",
      "==============================================================================\n",
      "\n",
      "Notes:\n",
      "[1] Standard Errors assume that the covariance matrix of the errors is correctly specified.\n",
      "[2] The condition number is large, 1.61e+04. This might indicate that there are\n",
      "strong multicollinearity or other numerical problems.\n"
     ]
    },
    {
     "name": "stderr",
     "output_type": "stream",
     "text": [
      "/home/col-gku/.local/lib/python3.8/site-packages/statsmodels/regression/linear_model.py:1666: RuntimeWarning: invalid value encountered in subtract\n",
      "  return np.sum(weights * (model.endog - mean)**2)\n"
     ]
    }
   ],
   "source": [
    "print(results.summary())"
   ]
  },
  {
   "cell_type": "markdown",
   "id": "af04185b",
   "metadata": {},
   "source": [
    "#  Reciprocal ols with standardization variable"
   ]
  },
  {
   "cell_type": "code",
   "execution_count": 100,
   "id": "04278f5e",
   "metadata": {},
   "outputs": [],
   "source": [
    "results = smf.ols(\"Charging_Time_in_hours_recd ~ pd_New+Precipitation_New+Temperature_New+Parking_New+university_New+Biergarten_New+Kino_New+Restaurant_New+Community_Centre_New+Hospital_New+Bahnhof_New\",\n",
    "                  data=df).fit()"
   ]
  },
  {
   "cell_type": "code",
   "execution_count": 101,
   "id": "a2c5f2c3",
   "metadata": {},
   "outputs": [
    {
     "name": "stdout",
     "output_type": "stream",
     "text": [
      "                                 OLS Regression Results                                \n",
      "=======================================================================================\n",
      "Dep. Variable:     Charging_Time_in_hours_recd   R-squared:                         nan\n",
      "Model:                                     OLS   Adj. R-squared:                    nan\n",
      "Method:                          Least Squares   F-statistic:                       nan\n",
      "Date:                         Fri, 31 Dec 2021   Prob (F-statistic):                nan\n",
      "Time:                                 13:42:24   Log-Likelihood:                    nan\n",
      "No. Observations:                      1796287   AIC:                               nan\n",
      "Df Residuals:                          1796275   BIC:                               nan\n",
      "Df Model:                                   11                                         \n",
      "Covariance Type:                     nonrobust                                         \n",
      "========================================================================================\n",
      "                           coef    std err          t      P>|t|      [0.025      0.975]\n",
      "----------------------------------------------------------------------------------------\n",
      "Intercept                   nan        nan        nan        nan         nan         nan\n",
      "pd_New                     -inf        nan        nan        nan         nan         nan\n",
      "Precipitation_New          -inf        nan        nan        nan         nan         nan\n",
      "Temperature_New             nan        nan        nan        nan         nan         nan\n",
      "Parking_New                 nan        nan        nan        nan         nan         nan\n",
      "university_New              nan        nan        nan        nan         nan         nan\n",
      "Biergarten_New              nan        nan        nan        nan         nan         nan\n",
      "Kino_New                    nan        nan        nan        nan         nan         nan\n",
      "Restaurant_New             -inf        nan        nan        nan         nan         nan\n",
      "Community_Centre_New       -inf        nan        nan        nan         nan         nan\n",
      "Hospital_New                nan        nan        nan        nan         nan         nan\n",
      "Bahnhof_New                -inf        nan        nan        nan         nan         nan\n",
      "==============================================================================\n",
      "Omnibus:                          nan   Durbin-Watson:                     nan\n",
      "Prob(Omnibus):                    nan   Jarque-Bera (JB):                  nan\n",
      "Skew:                             nan   Prob(JB):                          nan\n",
      "Kurtosis:                         nan   Cond. No.                         77.0\n",
      "==============================================================================\n",
      "\n",
      "Notes:\n",
      "[1] Standard Errors assume that the covariance matrix of the errors is correctly specified.\n"
     ]
    },
    {
     "name": "stderr",
     "output_type": "stream",
     "text": [
      "/home/col-gku/.local/lib/python3.8/site-packages/statsmodels/regression/linear_model.py:1666: RuntimeWarning: invalid value encountered in subtract\n",
      "  return np.sum(weights * (model.endog - mean)**2)\n"
     ]
    }
   ],
   "source": [
    "print(results.summary())"
   ]
  },
  {
   "cell_type": "markdown",
   "id": "f6f7419f",
   "metadata": {},
   "source": [
    "# Box cox Transformation with normal variable"
   ]
  },
  {
   "cell_type": "code",
   "execution_count": 32,
   "id": "00baa2ea",
   "metadata": {},
   "outputs": [],
   "source": [
    "df1 = df.copy()"
   ]
  },
  {
   "cell_type": "code",
   "execution_count": 33,
   "id": "537ff9c2",
   "metadata": {},
   "outputs": [],
   "source": [
    "df2 = df1[[\"Charging_Time_in_hours\",\"Count_Charging\",\"pd\",\"Precipitation\",\"Temperature\",'Parking','university','Biergarten','Kino','Restaurant','Community_Centre','Hospital','Bahnhof',]]"
   ]
  },
  {
   "cell_type": "code",
   "execution_count": 34,
   "id": "a7244756",
   "metadata": {},
   "outputs": [],
   "source": [
    "df2 =df2[df2>0]"
   ]
  },
  {
   "cell_type": "code",
   "execution_count": 35,
   "id": "63a8f186",
   "metadata": {},
   "outputs": [
    {
     "data": {
      "text/html": [
       "<div>\n",
       "<style scoped>\n",
       "    .dataframe tbody tr th:only-of-type {\n",
       "        vertical-align: middle;\n",
       "    }\n",
       "\n",
       "    .dataframe tbody tr th {\n",
       "        vertical-align: top;\n",
       "    }\n",
       "\n",
       "    .dataframe thead th {\n",
       "        text-align: right;\n",
       "    }\n",
       "</style>\n",
       "<table border=\"1\" class=\"dataframe\">\n",
       "  <thead>\n",
       "    <tr style=\"text-align: right;\">\n",
       "      <th></th>\n",
       "      <th>Charging_Time_in_hours</th>\n",
       "      <th>Count_Charging</th>\n",
       "      <th>pd</th>\n",
       "      <th>Precipitation</th>\n",
       "      <th>Temperature</th>\n",
       "      <th>Parking</th>\n",
       "      <th>university</th>\n",
       "      <th>Biergarten</th>\n",
       "      <th>Kino</th>\n",
       "      <th>Restaurant</th>\n",
       "      <th>Community_Centre</th>\n",
       "      <th>Hospital</th>\n",
       "      <th>Bahnhof</th>\n",
       "    </tr>\n",
       "  </thead>\n",
       "  <tbody>\n",
       "    <tr>\n",
       "      <th>0</th>\n",
       "      <td>23.999722</td>\n",
       "      <td>58</td>\n",
       "      <td>158.737964</td>\n",
       "      <td>NaN</td>\n",
       "      <td>9.566667</td>\n",
       "      <td>17.647338</td>\n",
       "      <td>1000.000000</td>\n",
       "      <td>13.084341</td>\n",
       "      <td>1000.000000</td>\n",
       "      <td>0.850239</td>\n",
       "      <td>4.189868</td>\n",
       "      <td>1000.0</td>\n",
       "      <td>7.285195</td>\n",
       "    </tr>\n",
       "    <tr>\n",
       "      <th>1</th>\n",
       "      <td>0.017222</td>\n",
       "      <td>58</td>\n",
       "      <td>158.737964</td>\n",
       "      <td>NaN</td>\n",
       "      <td>9.566667</td>\n",
       "      <td>17.647338</td>\n",
       "      <td>1000.000000</td>\n",
       "      <td>13.084341</td>\n",
       "      <td>1000.000000</td>\n",
       "      <td>0.850239</td>\n",
       "      <td>4.189868</td>\n",
       "      <td>1000.0</td>\n",
       "      <td>7.285195</td>\n",
       "    </tr>\n",
       "    <tr>\n",
       "      <th>2</th>\n",
       "      <td>0.971389</td>\n",
       "      <td>58</td>\n",
       "      <td>158.737964</td>\n",
       "      <td>NaN</td>\n",
       "      <td>9.566667</td>\n",
       "      <td>17.647338</td>\n",
       "      <td>1000.000000</td>\n",
       "      <td>13.084341</td>\n",
       "      <td>1000.000000</td>\n",
       "      <td>0.850239</td>\n",
       "      <td>4.189868</td>\n",
       "      <td>1000.0</td>\n",
       "      <td>7.285195</td>\n",
       "    </tr>\n",
       "    <tr>\n",
       "      <th>3</th>\n",
       "      <td>23.028889</td>\n",
       "      <td>58</td>\n",
       "      <td>158.737964</td>\n",
       "      <td>NaN</td>\n",
       "      <td>9.566667</td>\n",
       "      <td>17.647338</td>\n",
       "      <td>1000.000000</td>\n",
       "      <td>13.084341</td>\n",
       "      <td>1000.000000</td>\n",
       "      <td>0.850239</td>\n",
       "      <td>4.189868</td>\n",
       "      <td>1000.0</td>\n",
       "      <td>7.285195</td>\n",
       "    </tr>\n",
       "    <tr>\n",
       "      <th>4</th>\n",
       "      <td>23.046389</td>\n",
       "      <td>58</td>\n",
       "      <td>158.737964</td>\n",
       "      <td>NaN</td>\n",
       "      <td>9.566667</td>\n",
       "      <td>17.647338</td>\n",
       "      <td>1000.000000</td>\n",
       "      <td>13.084341</td>\n",
       "      <td>1000.000000</td>\n",
       "      <td>0.850239</td>\n",
       "      <td>4.189868</td>\n",
       "      <td>1000.0</td>\n",
       "      <td>7.285195</td>\n",
       "    </tr>\n",
       "    <tr>\n",
       "      <th>...</th>\n",
       "      <td>...</td>\n",
       "      <td>...</td>\n",
       "      <td>...</td>\n",
       "      <td>...</td>\n",
       "      <td>...</td>\n",
       "      <td>...</td>\n",
       "      <td>...</td>\n",
       "      <td>...</td>\n",
       "      <td>...</td>\n",
       "      <td>...</td>\n",
       "      <td>...</td>\n",
       "      <td>...</td>\n",
       "      <td>...</td>\n",
       "    </tr>\n",
       "    <tr>\n",
       "      <th>1940929</th>\n",
       "      <td>20.967778</td>\n",
       "      <td>331</td>\n",
       "      <td>2142.121993</td>\n",
       "      <td>NaN</td>\n",
       "      <td>8.033333</td>\n",
       "      <td>3.144525</td>\n",
       "      <td>3.657024</td>\n",
       "      <td>1.871055</td>\n",
       "      <td>3.975142</td>\n",
       "      <td>0.948615</td>\n",
       "      <td>2.124286</td>\n",
       "      <td>1000.0</td>\n",
       "      <td>6.690153</td>\n",
       "    </tr>\n",
       "    <tr>\n",
       "      <th>1940930</th>\n",
       "      <td>21.409167</td>\n",
       "      <td>331</td>\n",
       "      <td>2142.121993</td>\n",
       "      <td>NaN</td>\n",
       "      <td>8.033333</td>\n",
       "      <td>3.144525</td>\n",
       "      <td>3.657024</td>\n",
       "      <td>1.871055</td>\n",
       "      <td>3.975142</td>\n",
       "      <td>0.948615</td>\n",
       "      <td>2.124286</td>\n",
       "      <td>1000.0</td>\n",
       "      <td>6.690153</td>\n",
       "    </tr>\n",
       "    <tr>\n",
       "      <th>1940931</th>\n",
       "      <td>0.859444</td>\n",
       "      <td>331</td>\n",
       "      <td>2142.121993</td>\n",
       "      <td>NaN</td>\n",
       "      <td>8.033333</td>\n",
       "      <td>3.144525</td>\n",
       "      <td>3.657024</td>\n",
       "      <td>1.871055</td>\n",
       "      <td>3.975142</td>\n",
       "      <td>0.948615</td>\n",
       "      <td>2.124286</td>\n",
       "      <td>1000.0</td>\n",
       "      <td>6.690153</td>\n",
       "    </tr>\n",
       "    <tr>\n",
       "      <th>1940932</th>\n",
       "      <td>1.465833</td>\n",
       "      <td>331</td>\n",
       "      <td>2142.121993</td>\n",
       "      <td>NaN</td>\n",
       "      <td>8.033333</td>\n",
       "      <td>3.144525</td>\n",
       "      <td>3.657024</td>\n",
       "      <td>1.871055</td>\n",
       "      <td>3.975142</td>\n",
       "      <td>0.948615</td>\n",
       "      <td>2.124286</td>\n",
       "      <td>1000.0</td>\n",
       "      <td>6.690153</td>\n",
       "    </tr>\n",
       "    <tr>\n",
       "      <th>1940933</th>\n",
       "      <td>8.859722</td>\n",
       "      <td>331</td>\n",
       "      <td>2142.121993</td>\n",
       "      <td>NaN</td>\n",
       "      <td>8.033333</td>\n",
       "      <td>3.144525</td>\n",
       "      <td>3.657024</td>\n",
       "      <td>1.871055</td>\n",
       "      <td>3.975142</td>\n",
       "      <td>0.948615</td>\n",
       "      <td>2.124286</td>\n",
       "      <td>1000.0</td>\n",
       "      <td>6.690153</td>\n",
       "    </tr>\n",
       "  </tbody>\n",
       "</table>\n",
       "<p>1796287 rows × 13 columns</p>\n",
       "</div>"
      ],
      "text/plain": [
       "         Charging_Time_in_hours  Count_Charging           pd  Precipitation  \\\n",
       "0                     23.999722              58   158.737964            NaN   \n",
       "1                      0.017222              58   158.737964            NaN   \n",
       "2                      0.971389              58   158.737964            NaN   \n",
       "3                     23.028889              58   158.737964            NaN   \n",
       "4                     23.046389              58   158.737964            NaN   \n",
       "...                         ...             ...          ...            ...   \n",
       "1940929               20.967778             331  2142.121993            NaN   \n",
       "1940930               21.409167             331  2142.121993            NaN   \n",
       "1940931                0.859444             331  2142.121993            NaN   \n",
       "1940932                1.465833             331  2142.121993            NaN   \n",
       "1940933                8.859722             331  2142.121993            NaN   \n",
       "\n",
       "         Temperature    Parking   university  Biergarten         Kino  \\\n",
       "0           9.566667  17.647338  1000.000000   13.084341  1000.000000   \n",
       "1           9.566667  17.647338  1000.000000   13.084341  1000.000000   \n",
       "2           9.566667  17.647338  1000.000000   13.084341  1000.000000   \n",
       "3           9.566667  17.647338  1000.000000   13.084341  1000.000000   \n",
       "4           9.566667  17.647338  1000.000000   13.084341  1000.000000   \n",
       "...              ...        ...          ...         ...          ...   \n",
       "1940929     8.033333   3.144525     3.657024    1.871055     3.975142   \n",
       "1940930     8.033333   3.144525     3.657024    1.871055     3.975142   \n",
       "1940931     8.033333   3.144525     3.657024    1.871055     3.975142   \n",
       "1940932     8.033333   3.144525     3.657024    1.871055     3.975142   \n",
       "1940933     8.033333   3.144525     3.657024    1.871055     3.975142   \n",
       "\n",
       "         Restaurant  Community_Centre  Hospital   Bahnhof  \n",
       "0          0.850239          4.189868    1000.0  7.285195  \n",
       "1          0.850239          4.189868    1000.0  7.285195  \n",
       "2          0.850239          4.189868    1000.0  7.285195  \n",
       "3          0.850239          4.189868    1000.0  7.285195  \n",
       "4          0.850239          4.189868    1000.0  7.285195  \n",
       "...             ...               ...       ...       ...  \n",
       "1940929    0.948615          2.124286    1000.0  6.690153  \n",
       "1940930    0.948615          2.124286    1000.0  6.690153  \n",
       "1940931    0.948615          2.124286    1000.0  6.690153  \n",
       "1940932    0.948615          2.124286    1000.0  6.690153  \n",
       "1940933    0.948615          2.124286    1000.0  6.690153  \n",
       "\n",
       "[1796287 rows x 13 columns]"
      ]
     },
     "execution_count": 35,
     "metadata": {},
     "output_type": "execute_result"
    }
   ],
   "source": [
    "df2"
   ]
  },
  {
   "cell_type": "code",
   "execution_count": 36,
   "id": "df090201",
   "metadata": {},
   "outputs": [],
   "source": [
    "df2[\"Charging_Time_in_hours_bx\"], _ = stats.boxcox(df2.Charging_Time_in_hours)"
   ]
  },
  {
   "cell_type": "code",
   "execution_count": 37,
   "id": "0a6c245d",
   "metadata": {},
   "outputs": [],
   "source": [
    "results = smf.ols(\"Charging_Time_in_hours_bx ~ pd+Precipitation+Temperature+Parking+university+Biergarten+Kino+Restaurant+Community_Centre+Hospital+Bahnhof\",\n",
    "                  data=df2).fit()"
   ]
  },
  {
   "cell_type": "code",
   "execution_count": 38,
   "id": "d738e08b",
   "metadata": {},
   "outputs": [
    {
     "name": "stdout",
     "output_type": "stream",
     "text": [
      "\\begin{center}\n",
      "\\begin{tabular}{lclc}\n",
      "\\toprule\n",
      "\\textbf{Dep. Variable:}    & Charging\\_Time\\_in\\_hours\\_bx & \\textbf{  R-squared:         } &      0.001   \\\\\n",
      "\\textbf{Model:}            &              OLS              & \\textbf{  Adj. R-squared:    } &      0.001   \\\\\n",
      "\\textbf{Method:}           &         Least Squares         & \\textbf{  F-statistic:       } &      51.99   \\\\\n",
      "\\textbf{Date:}             &        Tue, 01 Feb 2022       & \\textbf{  Prob (F-statistic):} &  1.67e-115   \\\\\n",
      "\\textbf{Time:}             &            17:21:39           & \\textbf{  Log-Likelihood:    } & -1.3213e+07  \\\\\n",
      "\\textbf{No. Observations:} &             527431            & \\textbf{  AIC:               } &  2.643e+07   \\\\\n",
      "\\textbf{Df Residuals:}     &             527419            & \\textbf{  BIC:               } &  2.643e+07   \\\\\n",
      "\\textbf{Df Model:}         &                 11            & \\textbf{                     } &              \\\\\n",
      "\\bottomrule\n",
      "\\end{tabular}\n",
      "\\begin{tabular}{lcccccc}\n",
      "                           & \\textbf{coef} & \\textbf{std err} & \\textbf{t} & \\textbf{P$> |$t$|$} & \\textbf{[0.025} & \\textbf{0.975]}  \\\\\n",
      "\\midrule\n",
      "\\textbf{Intercept}         &    1.002e+10  &     7.63e+07     &   131.260  &         0.000        &     9.87e+09    &     1.02e+10     \\\\\n",
      "\\textbf{pd}                &    1.271e+05  &     1.62e+04     &     7.831  &         0.000        &     9.53e+04    &     1.59e+05     \\\\\n",
      "\\textbf{Precipitation}     &   -4.564e+08  &     7.56e+07     &    -6.041  &         0.000        &    -6.04e+08    &    -3.08e+08     \\\\\n",
      "\\textbf{Temperature}       &   -3.462e+07  &     4.12e+06     &    -8.407  &         0.000        &    -4.27e+07    &    -2.65e+07     \\\\\n",
      "\\textbf{Parking}           &    2.383e+06  &     1.55e+06     &     1.542  &         0.123        &    -6.46e+05    &     5.41e+06     \\\\\n",
      "\\textbf{university}        &    1.921e+04  &     6.56e+04     &     0.293  &         0.770        &    -1.09e+05    &     1.48e+05     \\\\\n",
      "\\textbf{Biergarten}        &   -3.604e+06  &     9.92e+05     &    -3.634  &         0.000        &    -5.55e+06    &    -1.66e+06     \\\\\n",
      "\\textbf{Kino}              &    1.512e+06  &     2.19e+05     &     6.900  &         0.000        &     1.08e+06    &     1.94e+06     \\\\\n",
      "\\textbf{Restaurant}        &     -1.8e+06  &     1.61e+06     &    -1.115  &         0.265        &    -4.96e+06    &     1.36e+06     \\\\\n",
      "\\textbf{Community\\_Centre} &    1.893e+06  &     2.04e+05     &     9.287  &         0.000        &     1.49e+06    &     2.29e+06     \\\\\n",
      "\\textbf{Hospital}          &   -7.933e+05  &     7.57e+04     &   -10.480  &         0.000        &    -9.42e+05    &    -6.45e+05     \\\\\n",
      "\\textbf{Bahnhof}           &    5.529e+05  &     5.43e+04     &    10.187  &         0.000        &     4.46e+05    &     6.59e+05     \\\\\n",
      "\\bottomrule\n",
      "\\end{tabular}\n",
      "\\begin{tabular}{lclc}\n",
      "\\textbf{Omnibus:}       & 138915.899 & \\textbf{  Durbin-Watson:     } &     1.698   \\\\\n",
      "\\textbf{Prob(Omnibus):} &    0.000   & \\textbf{  Jarque-Bera (JB):  } & 278147.204  \\\\\n",
      "\\textbf{Skew:}          &    1.666   & \\textbf{  Prob(JB):          } &      0.00   \\\\\n",
      "\\textbf{Kurtosis:}      &    4.246   & \\textbf{  Cond. No.          } &  9.98e+03   \\\\\n",
      "\\bottomrule\n",
      "\\end{tabular}\n",
      "%\\caption{OLS Regression Results}\n",
      "\\end{center}\n",
      "\n",
      "Notes: \\newline\n",
      " [1] Standard Errors assume that the covariance matrix of the errors is correctly specified. \\newline\n",
      " [2] The condition number is large, 9.98e+03. This might indicate that there are \\newline\n",
      " strong multicollinearity or other numerical problems.\n"
     ]
    }
   ],
   "source": [
    "print((results.summary()).as_latex())"
   ]
  },
  {
   "cell_type": "markdown",
   "id": "69bd5b55",
   "metadata": {},
   "source": [
    "# Box cox Transformation with standarddization variable"
   ]
  },
  {
   "cell_type": "code",
   "execution_count": 39,
   "id": "2c72d96f",
   "metadata": {},
   "outputs": [],
   "source": [
    "df3 = df[['Charging_Time_in_hours','pd_New', 'Precipitation_New','Temperature_New','Parking_New','university_New','Biergarten_New','Kino_New','Restaurant_New','Community_Centre_New','Hospital_New','Bahnhof_New']]\n"
   ]
  },
  {
   "cell_type": "code",
   "execution_count": 40,
   "id": "7cbd256b",
   "metadata": {},
   "outputs": [],
   "source": [
    "df3 =df3[df3>0]"
   ]
  },
  {
   "cell_type": "code",
   "execution_count": 41,
   "id": "d25fb53f",
   "metadata": {},
   "outputs": [],
   "source": [
    "df3[\"Charging_Time_in_hours_bx\"], _ = stats.boxcox(df3.Charging_Time_in_hours)"
   ]
  },
  {
   "cell_type": "code",
   "execution_count": 42,
   "id": "a06e5cfb",
   "metadata": {},
   "outputs": [],
   "source": [
    "results = smf.ols(\"Charging_Time_in_hours_bx ~ pd_New+Precipitation_New+Temperature_New+Parking_New+university_New+Biergarten_New+Kino_New+Restaurant_New+Community_Centre_New+Hospital_New+Bahnhof_New\",\n",
    "                  data=df3).fit()"
   ]
  },
  {
   "cell_type": "code",
   "execution_count": 44,
   "id": "29b9c471",
   "metadata": {},
   "outputs": [
    {
     "name": "stdout",
     "output_type": "stream",
     "text": [
      "\\begin{center}\n",
      "\\begin{tabular}{lclc}\n",
      "\\toprule\n",
      "\\textbf{Dep. Variable:}         & Charging\\_Time\\_in\\_hours\\_bx & \\textbf{  R-squared:         } &      0.001   \\\\\n",
      "\\textbf{Model:}                 &              OLS              & \\textbf{  Adj. R-squared:    } &      0.001   \\\\\n",
      "\\textbf{Method:}                &         Least Squares         & \\textbf{  F-statistic:       } &      49.56   \\\\\n",
      "\\textbf{Date:}                  &        Tue, 01 Feb 2022       & \\textbf{  Prob (F-statistic):} &  8.16e-110   \\\\\n",
      "\\textbf{Time:}                  &            17:23:45           & \\textbf{  Log-Likelihood:    } & -1.4285e+07  \\\\\n",
      "\\textbf{No. Observations:}      &             570205            & \\textbf{  AIC:               } &  2.857e+07   \\\\\n",
      "\\textbf{Df Residuals:}          &             570193            & \\textbf{  BIC:               } &  2.857e+07   \\\\\n",
      "\\textbf{Df Model:}              &                 11            & \\textbf{                     } &              \\\\\n",
      "\\bottomrule\n",
      "\\end{tabular}\n",
      "\\begin{tabular}{lcccccc}\n",
      "                                & \\textbf{coef} & \\textbf{std err} & \\textbf{t} & \\textbf{P$> |$t$|$} & \\textbf{[0.025} & \\textbf{0.975]}  \\\\\n",
      "\\midrule\n",
      "\\textbf{Intercept}              &    1.011e+10  &     1.01e+08     &   100.027  &         0.000        &     9.92e+09    &     1.03e+10     \\\\\n",
      "\\textbf{pd\\_New}                &    3.251e+07  &     3.71e+06     &     8.767  &         0.000        &     2.52e+07    &     3.98e+07     \\\\\n",
      "\\textbf{Precipitation\\_New}     &   -1.887e+08  &     3.12e+07     &    -6.055  &         0.000        &     -2.5e+08    &    -1.28e+08     \\\\\n",
      "\\textbf{Temperature\\_New}       &   -5.083e+07  &     8.47e+06     &    -5.998  &         0.000        &    -6.74e+07    &    -3.42e+07     \\\\\n",
      "\\textbf{Parking\\_New}           &    1.345e+08  &      7.7e+07     &     1.747  &         0.081        &    -1.64e+07    &     2.85e+08     \\\\\n",
      "\\textbf{university\\_New}        &    1.858e+06  &     3.15e+06     &     0.590  &         0.555        &    -4.31e+06    &     8.02e+06     \\\\\n",
      "\\textbf{Biergarten\\_New}        &   -1.841e+08  &     4.96e+07     &    -3.715  &         0.000        &    -2.81e+08    &     -8.7e+07     \\\\\n",
      "\\textbf{Kino\\_New}              &    7.747e+07  &     1.05e+07     &     7.396  &         0.000        &     5.69e+07    &      9.8e+07     \\\\\n",
      "\\textbf{Restaurant\\_New}        &    -1.02e+08  &     8.03e+07     &    -1.270  &         0.204        &    -2.59e+08    &     5.54e+07     \\\\\n",
      "\\textbf{Community\\_Centre\\_New} &     8.74e+07  &     9.65e+06     &     9.060  &         0.000        &     6.85e+07    &     1.06e+08     \\\\\n",
      "\\textbf{Hospital\\_New}          &   -3.738e+07  &     3.65e+06     &   -10.232  &         0.000        &    -4.45e+07    &    -3.02e+07     \\\\\n",
      "\\textbf{Bahnhof\\_New}           &    2.593e+07  &     2.61e+06     &     9.940  &         0.000        &     2.08e+07    &      3.1e+07     \\\\\n",
      "\\bottomrule\n",
      "\\end{tabular}\n",
      "\\begin{tabular}{lclc}\n",
      "\\textbf{Omnibus:}       & 150635.054 & \\textbf{  Durbin-Watson:     } &     1.691   \\\\\n",
      "\\textbf{Prob(Omnibus):} &    0.000   & \\textbf{  Jarque-Bera (JB):  } & 302236.333  \\\\\n",
      "\\textbf{Skew:}          &    1.669   & \\textbf{  Prob(JB):          } &      0.00   \\\\\n",
      "\\textbf{Kurtosis:}      &    4.255   & \\textbf{  Cond. No.          } &      81.9   \\\\\n",
      "\\bottomrule\n",
      "\\end{tabular}\n",
      "%\\caption{OLS Regression Results}\n",
      "\\end{center}\n",
      "\n",
      "Notes: \\newline\n",
      " [1] Standard Errors assume that the covariance matrix of the errors is correctly specified.\n"
     ]
    }
   ],
   "source": [
    "print((results.summary()).as_latex())"
   ]
  },
  {
   "cell_type": "markdown",
   "id": "8bb1cbfc",
   "metadata": {},
   "source": [
    "# Weighted least square variable"
   ]
  },
  {
   "cell_type": "code",
   "execution_count": 45,
   "id": "164704ce",
   "metadata": {},
   "outputs": [],
   "source": [
    "dt = pd.read_csv(\"data_after_normalization.csv\")"
   ]
  },
  {
   "cell_type": "code",
   "execution_count": 46,
   "id": "251c31f3",
   "metadata": {},
   "outputs": [
    {
     "name": "stdout",
     "output_type": "stream",
     "text": [
      "<class 'pandas.core.frame.DataFrame'>\n",
      "RangeIndex: 1796287 entries, 0 to 1796286\n",
      "Data columns (total 40 columns):\n",
      " #   Column                      Dtype  \n",
      "---  ------                      -----  \n",
      " 0   Unnamed: 0                  int64  \n",
      " 1   park_id                     object \n",
      " 2   clc_code                    object \n",
      " 3   area_code                   int64  \n",
      " 4   evse_id                     object \n",
      " 5   datetime_start              object \n",
      " 6   datetime_stop               object \n",
      " 7   city                        object \n",
      " 8   latitude                    float64\n",
      " 9   longitude                   float64\n",
      " 10  postal_code                 int64  \n",
      " 11  Charging_Time_in_hours      float64\n",
      " 12  year                        int64  \n",
      " 13  month                       int64  \n",
      " 14  day                         int64  \n",
      " 15  day_of_week_name_Start      object \n",
      " 16  Precipitation               float64\n",
      " 17  Temperature                 float64\n",
      " 18  pd                          float64\n",
      " 19  Count_Charging              int64  \n",
      " 20  Charging_time_in_hours_log  float64\n",
      " 21  Bahnhof                     float64\n",
      " 22  Restaurant                  float64\n",
      " 23  Biergarten                  float64\n",
      " 24  Community_Centre            float64\n",
      " 25  Hospital                    float64\n",
      " 26  Kino                        float64\n",
      " 27  Parking                     float64\n",
      " 28  university                  float64\n",
      " 29  Temperature_New             float64\n",
      " 30  Precipitation_New           float64\n",
      " 31  pd_New                      float64\n",
      " 32  Bahnhof_New                 float64\n",
      " 33  Restaurant_New              float64\n",
      " 34  Biergarten_New              float64\n",
      " 35  Community_Centre_New        float64\n",
      " 36  Hospital_New                float64\n",
      " 37  Kino_New                    float64\n",
      " 38  Parking_New                 float64\n",
      " 39  university_New              float64\n",
      "dtypes: float64(26), int64(7), object(7)\n",
      "memory usage: 548.2+ MB\n"
     ]
    }
   ],
   "source": [
    "dt.info()"
   ]
  },
  {
   "cell_type": "code",
   "execution_count": 47,
   "id": "01367609",
   "metadata": {},
   "outputs": [],
   "source": [
    "dt1 =dt[[\"park_id\",\"clc_code\",\"area_code\",\"evse_id\",\"datetime_start\",\"datetime_stop\",\"city\",\"latitude\",\"longitude\",\n",
    "        \"postal_code\",\"Charging_Time_in_hours\",\"year\",\"month\",\"day\",\"day_of_week_name_Start\",\"Precipitation\",\"Temperature\",\n",
    "        \"pd\",\"Count_Charging\",\"Charging_time_in_hours_log\",\"Bahnhof\",\"Restaurant\",\"Biergarten\",\"Community_Centre\",\n",
    "        \"Hospital\",\"Kino\",\"Parking\",\"university\",\"Charging_Time_in_hours\"]]"
   ]
  },
  {
   "cell_type": "code",
   "execution_count": 51,
   "id": "776a4c30",
   "metadata": {},
   "outputs": [],
   "source": [
    "results = smf.wls(\"Charging_time_in_hours_log ~ pd_New+Precipitation_New+Temperature_New+Parking_New+university_New+Biergarten_New+Kino_New+Restaurant_New+Community_Centre_New+Hospital_New+Bahnhof_New\",\n",
    "                  data=dt).fit()\n"
   ]
  },
  {
   "cell_type": "code",
   "execution_count": 53,
   "id": "df0a8c09",
   "metadata": {},
   "outputs": [
    {
     "name": "stdout",
     "output_type": "stream",
     "text": [
      "\\begin{center}\n",
      "\\begin{tabular}{lclc}\n",
      "\\toprule\n",
      "\\textbf{Dep. Variable:}         & Charging\\_time\\_in\\_hours\\_log & \\textbf{  R-squared:         } &      0.012   \\\\\n",
      "\\textbf{Model:}                 &              WLS               & \\textbf{  Adj. R-squared:    } &      0.012   \\\\\n",
      "\\textbf{Method:}                &         Least Squares          & \\textbf{  F-statistic:       } &      1903.   \\\\\n",
      "\\textbf{Date:}                  &        Tue, 01 Feb 2022        & \\textbf{  Prob (F-statistic):} &      0.00    \\\\\n",
      "\\textbf{Time:}                  &            17:28:38            & \\textbf{  Log-Likelihood:    } & -3.6515e+06  \\\\\n",
      "\\textbf{No. Observations:}      &            1796283             & \\textbf{  AIC:               } &  7.303e+06   \\\\\n",
      "\\textbf{Df Residuals:}          &            1796271             & \\textbf{  BIC:               } &  7.303e+06   \\\\\n",
      "\\textbf{Df Model:}              &                 11             & \\textbf{                     } &              \\\\\n",
      "\\bottomrule\n",
      "\\end{tabular}\n",
      "\\begin{tabular}{lcccccc}\n",
      "                                & \\textbf{coef} & \\textbf{std err} & \\textbf{t} & \\textbf{P$> |$t$|$} & \\textbf{[0.025} & \\textbf{0.975]}  \\\\\n",
      "\\midrule\n",
      "\\textbf{Intercept}              &       1.4383  &        0.005     &   268.186  &         0.000        &        1.428    &        1.449     \\\\\n",
      "\\textbf{pd\\_New}                &       0.0234  &        0.000     &   119.433  &         0.000        &        0.023    &        0.024     \\\\\n",
      "\\textbf{Precipitation\\_New}     &      -0.0156  &        0.003     &    -5.225  &         0.000        &       -0.022    &       -0.010     \\\\\n",
      "\\textbf{Temperature\\_New}       &      -0.0271  &        0.000     &   -59.593  &         0.000        &       -0.028    &       -0.026     \\\\\n",
      "\\textbf{Parking\\_New}           &       0.0127  &        0.001     &    12.798  &         0.000        &        0.011    &        0.015     \\\\\n",
      "\\textbf{university\\_New}        &      -0.0017  &        0.000     &   -10.442  &         0.000        &       -0.002    &       -0.001     \\\\\n",
      "\\textbf{Biergarten\\_New}        &      -0.0077  &        0.001     &   -10.471  &         0.000        &       -0.009    &       -0.006     \\\\\n",
      "\\textbf{Kino\\_New}              &      -0.0126  &        0.000     &   -31.977  &         0.000        &       -0.013    &       -0.012     \\\\\n",
      "\\textbf{Restaurant\\_New}        &      -0.0157  &        0.004     &    -4.450  &         0.000        &       -0.023    &       -0.009     \\\\\n",
      "\\textbf{Community\\_Centre\\_New} &       0.0160  &        0.000     &    32.822  &         0.000        &        0.015    &        0.017     \\\\\n",
      "\\textbf{Hospital\\_New}          &      -0.0011  &        0.000     &    -7.251  &         0.000        &       -0.001    &       -0.001     \\\\\n",
      "\\textbf{Bahnhof\\_New}           &       0.0027  &        0.000     &    18.431  &         0.000        &        0.002    &        0.003     \\\\\n",
      "\\bottomrule\n",
      "\\end{tabular}\n",
      "\\begin{tabular}{lclc}\n",
      "\\textbf{Omnibus:}       & 492765.439 & \\textbf{  Durbin-Watson:     } &      1.495   \\\\\n",
      "\\textbf{Prob(Omnibus):} &    0.000   & \\textbf{  Jarque-Bera (JB):  } & 1187635.290  \\\\\n",
      "\\textbf{Skew:}          &   -1.539   & \\textbf{  Prob(JB):          } &       0.00   \\\\\n",
      "\\textbf{Kurtosis:}      &    5.529   & \\textbf{  Cond. No.          } &       77.0   \\\\\n",
      "\\bottomrule\n",
      "\\end{tabular}\n",
      "%\\caption{WLS Regression Results}\n",
      "\\end{center}\n",
      "\n",
      "Notes: \\newline\n",
      " [1] Standard Errors assume that the covariance matrix of the errors is correctly specified.\n"
     ]
    }
   ],
   "source": [
    "print((results.summary()).as_latex())"
   ]
  },
  {
   "cell_type": "code",
   "execution_count": 119,
   "id": "5bb32b5e",
   "metadata": {},
   "outputs": [],
   "source": [
    "results1 = smf.wls(\"Charging_Time_in_hours ~ pd_New+Precipitation_New+Temperature_New+Parking_New+university_New+Biergarten_New+Kino_New+Restaurant_New+Community_Centre_New+Hospital_New+Bahnhof_New\",\n",
    "                  data=dt).fit()"
   ]
  },
  {
   "cell_type": "code",
   "execution_count": 50,
   "id": "f2ef0167",
   "metadata": {},
   "outputs": [
    {
     "ename": "NameError",
     "evalue": "name 'results1' is not defined",
     "output_type": "error",
     "traceback": [
      "\u001b[0;31m---------------------------------------------------------------------------\u001b[0m",
      "\u001b[0;31mNameError\u001b[0m                                 Traceback (most recent call last)",
      "\u001b[0;32m<ipython-input-50-b2a81794709a>\u001b[0m in \u001b[0;36m<module>\u001b[0;34m\u001b[0m\n\u001b[0;32m----> 1\u001b[0;31m \u001b[0mprint\u001b[0m\u001b[0;34m(\u001b[0m\u001b[0mresults1\u001b[0m\u001b[0;34m.\u001b[0m\u001b[0msummary\u001b[0m\u001b[0;34m(\u001b[0m\u001b[0;34m)\u001b[0m\u001b[0;34m)\u001b[0m\u001b[0;34m\u001b[0m\u001b[0;34m\u001b[0m\u001b[0m\n\u001b[0m",
      "\u001b[0;31mNameError\u001b[0m: name 'results1' is not defined"
     ]
    }
   ],
   "source": [
    "print(results1.summary())"
   ]
  },
  {
   "cell_type": "code",
   "execution_count": null,
   "id": "b96dc9db",
   "metadata": {},
   "outputs": [],
   "source": []
  },
  {
   "cell_type": "code",
   "execution_count": 63,
   "id": "4539fed9",
   "metadata": {},
   "outputs": [],
   "source": [
    "results1 = smf.wls(\"Charging_time_in_hours_log ~ pd+Precipitation+Temperature+Parking+university+Biergarten+Kino+Restaurant+Community_Centre+Hospital+Bahnhof\",\n",
    "                  data=dt).fit()"
   ]
  },
  {
   "cell_type": "code",
   "execution_count": 64,
   "id": "1f7c3914",
   "metadata": {},
   "outputs": [
    {
     "name": "stdout",
     "output_type": "stream",
     "text": [
      "                                WLS Regression Results                                \n",
      "======================================================================================\n",
      "Dep. Variable:     Charging_time_in_hours_log   R-squared:                       0.012\n",
      "Model:                                    WLS   Adj. R-squared:                  0.012\n",
      "Method:                         Least Squares   F-statistic:                     1903.\n",
      "Date:                        Fri, 31 Dec 2021   Prob (F-statistic):               0.00\n",
      "Time:                                13:41:06   Log-Likelihood:            -3.6515e+06\n",
      "No. Observations:                     1796283   AIC:                         7.303e+06\n",
      "Df Residuals:                         1796271   BIC:                         7.303e+06\n",
      "Df Model:                                  11                                         \n",
      "Covariance Type:                    nonrobust                                         \n",
      "====================================================================================\n",
      "                       coef    std err          t      P>|t|      [0.025      0.975]\n",
      "------------------------------------------------------------------------------------\n",
      "Intercept            1.2826      0.004    358.364      0.000       1.276       1.290\n",
      "pd                9.853e-05   8.25e-07    119.433      0.000    9.69e-05       0.000\n",
      "Precipitation       -0.0380      0.007     -5.225      0.000      -0.052      -0.024\n",
      "Temperature         -0.0113      0.000    -59.593      0.000      -0.012      -0.011\n",
      "Parking              0.0003   1.99e-05     12.798      0.000       0.000       0.000\n",
      "university       -3.476e-05   3.33e-06    -10.442      0.000   -4.13e-05   -2.82e-05\n",
      "Biergarten          -0.0002   1.47e-05    -10.471      0.000      -0.000      -0.000\n",
      "Kino                -0.0003   7.87e-06    -31.977      0.000      -0.000      -0.000\n",
      "Restaurant          -0.0003   7.05e-05     -4.450      0.000      -0.000      -0.000\n",
      "Community_Centre     0.0003   9.74e-06     32.822      0.000       0.000       0.000\n",
      "Hospital         -2.241e-05   3.09e-06     -7.251      0.000   -2.85e-05   -1.64e-05\n",
      "Bahnhof           5.384e-05   2.92e-06     18.431      0.000    4.81e-05    5.96e-05\n",
      "==============================================================================\n",
      "Omnibus:                   492765.439   Durbin-Watson:                   1.495\n",
      "Prob(Omnibus):                  0.000   Jarque-Bera (JB):          1187635.290\n",
      "Skew:                          -1.539   Prob(JB):                         0.00\n",
      "Kurtosis:                       5.529   Cond. No.                     1.61e+04\n",
      "==============================================================================\n",
      "\n",
      "Notes:\n",
      "[1] Standard Errors assume that the covariance matrix of the errors is correctly specified.\n",
      "[2] The condition number is large, 1.61e+04. This might indicate that there are\n",
      "strong multicollinearity or other numerical problems.\n"
     ]
    }
   ],
   "source": [
    "print(results1.summary())"
   ]
  },
  {
   "cell_type": "code",
   "execution_count": null,
   "id": "2fcf7c23",
   "metadata": {},
   "outputs": [],
   "source": []
  },
  {
   "cell_type": "code",
   "execution_count": 65,
   "id": "fd43f2cc",
   "metadata": {},
   "outputs": [],
   "source": [
    " from scipy.linalg import toeplitz"
   ]
  },
  {
   "cell_type": "code",
   "execution_count": 66,
   "id": "00b6d3ec",
   "metadata": {},
   "outputs": [],
   "source": [
    "order = toeplitz(np.arange(16))"
   ]
  },
  {
   "cell_type": "markdown",
   "id": "03be4c07",
   "metadata": {},
   "source": [
    "### endog: response variable,y\n"
   ]
  },
  {
   "cell_type": "markdown",
   "id": "8dceebf0",
   "metadata": {},
   "source": [
    "### exog :explanatory variable ,X"
   ]
  },
  {
   "cell_type": "code",
   "execution_count": null,
   "id": "851e3b47",
   "metadata": {},
   "outputs": [],
   "source": []
  },
  {
   "cell_type": "markdown",
   "id": "02231bee",
   "metadata": {},
   "source": [
    "https://jbhender.github.io/Stats506/F17/Projects/Abalone_WLS.html"
   ]
  },
  {
   "cell_type": "code",
   "execution_count": null,
   "id": "4cf94380",
   "metadata": {},
   "outputs": [],
   "source": []
  }
 ],
 "metadata": {
  "kernelspec": {
   "display_name": "Python 3",
   "language": "python",
   "name": "python3"
  },
  "language_info": {
   "codemirror_mode": {
    "name": "ipython",
    "version": 3
   },
   "file_extension": ".py",
   "mimetype": "text/x-python",
   "name": "python",
   "nbconvert_exporter": "python",
   "pygments_lexer": "ipython3",
   "version": "3.8.8"
  }
 },
 "nbformat": 4,
 "nbformat_minor": 5
}
