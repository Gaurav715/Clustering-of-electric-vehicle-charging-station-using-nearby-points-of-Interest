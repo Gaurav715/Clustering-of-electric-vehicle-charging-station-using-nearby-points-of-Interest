{
 "cells": [
  {
   "cell_type": "code",
   "execution_count": 1,
   "id": "f2964ae5",
   "metadata": {},
   "outputs": [],
   "source": [
    "import pandas as pd\n",
    "import numpy as np\n",
    "import seaborn as sns\n",
    "import matplotlib.pyplot as plt\n",
    "import dask\n",
    "import dask.dataframe as dd\n",
    "\n",
    "from sklearn.model_selection import GridSearchCV, KFold,KFold, cross_val_score\n",
    "\n",
    "from sklearn.preprocessing import PolynomialFeatures, StandardScaler,RobustScaler \n",
    "\n",
    "from sklearn.pipeline import make_pipeline\n",
    "\n",
    "from sklearn.model_selection import train_test_split\n",
    "import statsmodels.formula.api as smf\n",
    "import statsmodels.stats.api as sms\n",
    "from statsmodels.compat import lzip\n",
    "from sklearn.svm import SVC\n",
    "from sklearn.tree import DecisionTreeClassifier # Import Decision Tree Classifier\n",
    "from sklearn.linear_model import LogisticRegression,LinearRegression,Lasso\n",
    "\n",
    "from sklearn.metrics import accuracy_score, f1_score,mean_squared_error,classification_report,confusion_matrix\n",
    "\n",
    "from sklearn.naive_bayes import GaussianNB\n",
    "from sklearn.discriminant_analysis import QuadraticDiscriminantAnalysis\n",
    "\n",
    "from sklearn.model_selection import cross_val_score\n",
    "from sklearn.preprocessing import OneHotEncoder\n",
    "\n",
    "from sklearn.compose import make_column_transformer\n",
    "from sklearn.pipeline import make_pipeline\n",
    "import pandas as pd\n",
    "import numpy as np\n",
    "import seaborn as sns\n",
    "import matplotlib.pyplot as plt\n",
    "import dask\n",
    "import dask.dataframe as dd\n",
    "\n",
    "import plotly.express as px\n",
    "import plotly.graph_objects as go\n",
    "\n",
    "from sklearn.model_selection import GridSearchCV, KFold,KFold, cross_val_score\n",
    "\n",
    "from sklearn.preprocessing import PolynomialFeatures, StandardScaler,RobustScaler \n",
    "\n",
    "from sklearn.pipeline import make_pipeline\n",
    "\n",
    "from sklearn.model_selection import train_test_split\n",
    "\n",
    "from sklearn.svm import SVC\n",
    "from sklearn.tree import DecisionTreeClassifier # Import Decision Tree Classifier\n",
    "from sklearn.linear_model import LogisticRegression,LinearRegression,Lasso\n",
    "\n",
    "from sklearn.metrics import accuracy_score, f1_score,mean_squared_error,classification_report,confusion_matrix\n",
    "\n",
    "from sklearn.naive_bayes import GaussianNB\n",
    "from sklearn.discriminant_analysis import QuadraticDiscriminantAnalysis\n",
    "\n",
    "from sklearn.model_selection import cross_val_score\n",
    "from sklearn.preprocessing import OneHotEncoder\n",
    "\n",
    "from sklearn.compose import make_column_transformer\n",
    "\n",
    "from scipy import stats\n",
    "import matplotlib.pyplot as plt\n",
    "from sklearn.pipeline import make_pipeline\n",
    "\n",
    "import statsmodels.api as sm\n",
    "from linearmodels.panel import PooledOLS"
   ]
  },
  {
   "cell_type": "code",
   "execution_count": 2,
   "id": "3c55152f",
   "metadata": {},
   "outputs": [],
   "source": [
    "df = pd.read_pickle(\"data_after_normalization-v1.pickle\")"
   ]
  },
  {
   "cell_type": "code",
   "execution_count": 3,
   "id": "d2251d99",
   "metadata": {},
   "outputs": [],
   "source": [
    "df = df.drop(['Charging_Time_in_hours', 'Precipitation','Temperature','pd','Bahnhof','Restaurant'\n",
    "              ,'Biergarten','Community_Centre','Hospital','Kino','Parking','university','Charging_time_in_hours_log_New'], axis = 1)"
   ]
  },
  {
   "cell_type": "code",
   "execution_count": 4,
   "id": "8654afb4",
   "metadata": {},
   "outputs": [],
   "source": [
    "df = df.rename(columns = {'Temperature_New':'Temperature', 'Precipitation_New':'Precipitation',\n",
    "                          'pd_New':'pd','Bahnhof_New':'Bahnhof','Restaurant_New':'Restaurant','Biergarten_New':'Biergarten',\n",
    "                          'Community_Centre_New':'Community_Centre', 'Hospital_New':'Hospital',\n",
    "                         'Kino_New':'Kino', 'Parking_New':'Parking','university_New':'university', 'Charging_Time_in_hours_New':'Charging_Time_in_hours',\n",
    "                          })"
   ]
  },
  {
   "cell_type": "code",
   "execution_count": 5,
   "id": "d1b87089",
   "metadata": {},
   "outputs": [],
   "source": [
    "df['Year'] = pd.to_datetime(df['datetime_start'], format='%Y')"
   ]
  },
  {
   "cell_type": "code",
   "execution_count": 6,
   "id": "c1825b5d",
   "metadata": {},
   "outputs": [],
   "source": [
    "df['Month'] = pd.to_datetime(df['datetime_start'], format='%M')"
   ]
  },
  {
   "cell_type": "code",
   "execution_count": 7,
   "id": "b4a3e774",
   "metadata": {},
   "outputs": [],
   "source": [
    "df['Day'] = pd.to_datetime(df['datetime_start'], format='%D')"
   ]
  },
  {
   "cell_type": "code",
   "execution_count": 8,
   "id": "f82fb40f",
   "metadata": {},
   "outputs": [],
   "source": [
    "data = df.copy()"
   ]
  },
  {
   "cell_type": "code",
   "execution_count": 9,
   "id": "61689997",
   "metadata": {},
   "outputs": [],
   "source": [
    "from linearmodels import PanelOLS\n",
    "import pandas as pd"
   ]
  },
  {
   "cell_type": "code",
   "execution_count": 10,
   "id": "0546f321",
   "metadata": {},
   "outputs": [
    {
     "name": "stderr",
     "output_type": "stream",
     "text": [
      "/home/col-gku/.local/lib/python3.8/site-packages/linearmodels/shared/exceptions.py:35: MissingValueWarning: \n",
      "Inputs contain missing values. Dropping rows with missing observations.\n",
      "  warnings.warn(missing_value_warning_msg, MissingValueWarning)\n"
     ]
    }
   ],
   "source": [
    "mod_ = PanelOLS.from_formula('Charging_time_in_hours_log ~ clc_code + month +year+ day_of_week_name_Start +pd+Precipitation+Temperature+Parking+university+Biergarten+Kino+Restaurant+Community_Centre+Hospital+Bahnhof',data=data.set_index(['park_id', 'Year']),drop_absorbed=True)"
   ]
  },
  {
   "cell_type": "code",
   "execution_count": 11,
   "id": "9bb82b05",
   "metadata": {},
   "outputs": [],
   "source": [
    "result1 = mod_.fit(cov_type='clustered', cluster_entity=True)"
   ]
  },
  {
   "cell_type": "code",
   "execution_count": 12,
   "id": "5b6e067b",
   "metadata": {},
   "outputs": [
    {
     "name": "stdout",
     "output_type": "stream",
     "text": [
      "                              PanelOLS Estimation Summary                               \n",
      "========================================================================================\n",
      "Dep. Variable:     Charging_time_in_hours_log   R-squared:                        0.0202\n",
      "Estimator:                           PanelOLS   R-squared (Between):             -0.0883\n",
      "No. Observations:                     1796283   R-squared (Within):               0.0066\n",
      "Date:                        Mon, Jan 17 2022   R-squared (Overall):              0.0202\n",
      "Time:                                13:40:28   Log-likelihood                -3.644e+06\n",
      "Cov. Estimator:                     Clustered                                           \n",
      "                                                F-statistic:                      1122.2\n",
      "Entities:                                1197   P-value                           0.0000\n",
      "Avg Obs:                               1500.7   Distribution:              F(33,1796249)\n",
      "Min Obs:                               1.0000                                           \n",
      "Max Obs:                            1.837e+04   F-statistic (robust):             479.94\n",
      "                                                P-value                           0.0000\n",
      "Time periods:                          761826   Distribution:              F(33,1796249)\n",
      "Avg Obs:                               2.3579                                           \n",
      "Min Obs:                               1.0000                                           \n",
      "Max Obs:                               161.00                                           \n",
      "                                                                                        \n",
      "                                          Parameter Estimates                                          \n",
      "=======================================================================================================\n",
      "                                     Parameter  Std. Err.     T-stat    P-value    Lower CI    Upper CI\n",
      "-------------------------------------------------------------------------------------------------------\n",
      "clc_code[Industrial]                    1.2773     0.0539     23.698     0.0000      1.1716      1.3829\n",
      "clc_code[Suburban]                      1.1460     0.0503     22.782     0.0000      1.0474      1.2446\n",
      "clc_code[Uninhabited]                   1.1650     0.1632     7.1381     0.0000      0.8451      1.4849\n",
      "clc_code[Urban]                         1.4201     0.0494     28.725     0.0000      1.3232      1.5171\n",
      "month[T.2]                              0.0597     0.0134     4.4508     0.0000      0.0334      0.0859\n",
      "month[T.3]                              0.1336     0.0171     7.8026     0.0000      0.1000      0.1671\n",
      "month[T.4]                              0.1336     0.0186     7.1739     0.0000      0.0971      0.1702\n",
      "month[T.5]                              0.2011     0.0179     11.234     0.0000      0.1660      0.2361\n",
      "month[T.6]                              0.2516     0.0163     15.439     0.0000      0.2196      0.2835\n",
      "month[T.7]                              0.2919     0.0166     17.534     0.0000      0.2593      0.3246\n",
      "month[T.8]                              0.2401     0.0172     13.986     0.0000      0.2064      0.2737\n",
      "month[T.9]                              0.2547     0.0203     12.550     0.0000      0.2149      0.2945\n",
      "month[T.10]                             0.2506     0.0178     14.059     0.0000      0.2157      0.2856\n",
      "month[T.11]                             0.1643     0.0181     9.0851     0.0000      0.1289      0.1998\n",
      "month[T.12]                             0.1241     0.0169     7.3554     0.0000      0.0910      0.1571\n",
      "year[T.2020]                            0.0868     0.0211     4.1180     0.0000      0.0455      0.1280\n",
      "year[T.2021]                            0.2307     0.0281     8.2184     0.0000      0.1757      0.2857\n",
      "day_of_week_name_Start[T.Monday]       -0.0478     0.0081    -5.8848     0.0000     -0.0637     -0.0319\n",
      "day_of_week_name_Start[T.Saturday]     -0.0516     0.0106    -4.8440     0.0000     -0.0725     -0.0307\n",
      "day_of_week_name_Start[T.Sunday]       -0.1628     0.0144    -11.330     0.0000     -0.1910     -0.1346\n",
      "day_of_week_name_Start[T.Thursday]     -0.0367     0.0080    -4.5715     0.0000     -0.0524     -0.0209\n",
      "day_of_week_name_Start[T.Tuesday]      -0.0410     0.0084    -4.8592     0.0000     -0.0575     -0.0244\n",
      "day_of_week_name_Start[T.Wednesday]    -0.0408     0.0085    -4.7921     0.0000     -0.0575     -0.0241\n",
      "pd                                      0.0209     0.0019     10.903     0.0000      0.0171      0.0246\n",
      "Precipitation                          -0.0070     0.0066    -1.0670     0.2860     -0.0200      0.0059\n",
      "Temperature                            -0.0359     0.0017    -21.659     0.0000     -0.0391     -0.0326\n",
      "Parking                                 0.0112     0.0077     1.4565     0.1453     -0.0039      0.0263\n",
      "university                             -0.0031     0.0016    -1.9673     0.0491     -0.0063  -1.177e-05\n",
      "Biergarten                             -0.0099     0.0045    -2.1937     0.0283     -0.0188     -0.0011\n",
      "Kino                                   -0.0098     0.0034    -2.8927     0.0038     -0.0164     -0.0032\n",
      "Restaurant                             -0.0121     0.0079    -1.5399     0.1236     -0.0275      0.0033\n",
      "Community_Centre                        0.0169     0.0028     5.9385     0.0000      0.0113      0.0224\n",
      "Hospital                               -0.0011     0.0014    -0.8023     0.4224     -0.0039      0.0016\n",
      "Bahnhof                                 0.0029     0.0016     1.8141     0.0697     -0.0002      0.0060\n",
      "=======================================================================================================\n",
      "\n",
      "\n"
     ]
    }
   ],
   "source": [
    "print(result1)"
   ]
  },
  {
   "cell_type": "code",
   "execution_count": null,
   "id": "2dcbbf90",
   "metadata": {},
   "outputs": [],
   "source": []
  },
  {
   "cell_type": "code",
   "execution_count": null,
   "id": "a452595c",
   "metadata": {},
   "outputs": [],
   "source": []
  }
 ],
 "metadata": {
  "kernelspec": {
   "display_name": "Python 3",
   "language": "python",
   "name": "python3"
  },
  "language_info": {
   "codemirror_mode": {
    "name": "ipython",
    "version": 3
   },
   "file_extension": ".py",
   "mimetype": "text/x-python",
   "name": "python",
   "nbconvert_exporter": "python",
   "pygments_lexer": "ipython3",
   "version": "3.8.8"
  }
 },
 "nbformat": 4,
 "nbformat_minor": 5
}
