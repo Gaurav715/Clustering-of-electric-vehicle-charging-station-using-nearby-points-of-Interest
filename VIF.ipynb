{
 "cells": [
  {
   "cell_type": "code",
   "execution_count": 1,
   "id": "f0cebd47",
   "metadata": {},
   "outputs": [],
   "source": [
    "import pandas as pd\n",
    "import numpy as np\n",
    "import seaborn as sns\n",
    "import matplotlib.pyplot as plt\n",
    "import dask\n",
    "import dask.dataframe as dd\n",
    "\n",
    "from sklearn.model_selection import GridSearchCV, KFold,KFold, cross_val_score\n",
    "\n",
    "from sklearn.preprocessing import PolynomialFeatures, StandardScaler,RobustScaler \n",
    "\n",
    "from sklearn.pipeline import make_pipeline\n",
    "\n",
    "from sklearn.model_selection import train_test_split\n",
    "\n",
    "from sklearn.svm import SVC\n",
    "from sklearn.tree import DecisionTreeClassifier # Import Decision Tree Classifier\n",
    "from sklearn.linear_model import LogisticRegression,LinearRegression,Lasso\n",
    "\n",
    "from sklearn.metrics import accuracy_score, f1_score,mean_squared_error,classification_report,confusion_matrix\n",
    "\n",
    "from sklearn.naive_bayes import GaussianNB\n",
    "from sklearn.discriminant_analysis import QuadraticDiscriminantAnalysis\n",
    "\n",
    "from sklearn.model_selection import cross_val_score\n",
    "from sklearn.preprocessing import OneHotEncoder\n",
    "\n",
    "from sklearn.compose import make_column_transformer\n",
    "from sklearn.pipeline import make_pipeline\n",
    "import pandas as pd\n",
    "import numpy as np\n",
    "import seaborn as sns\n",
    "import matplotlib.pyplot as plt\n",
    "import dask\n",
    "import dask.dataframe as dd\n",
    "\n",
    "import plotly.express as px\n",
    "import plotly.graph_objects as go\n",
    "\n",
    "from sklearn.model_selection import GridSearchCV, KFold,KFold, cross_val_score\n",
    "\n",
    "from sklearn.preprocessing import PolynomialFeatures, StandardScaler,RobustScaler \n",
    "\n",
    "from sklearn.pipeline import make_pipeline\n",
    "\n",
    "from sklearn.model_selection import train_test_split\n",
    "\n",
    "from sklearn.svm import SVC\n",
    "from sklearn.tree import DecisionTreeClassifier # Import Decision Tree Classifier\n",
    "from sklearn.linear_model import LogisticRegression,LinearRegression,Lasso\n",
    "\n",
    "from sklearn.metrics import accuracy_score, f1_score,mean_squared_error,classification_report,confusion_matrix\n",
    "\n",
    "from sklearn.naive_bayes import GaussianNB\n",
    "from sklearn.discriminant_analysis import QuadraticDiscriminantAnalysis\n",
    "\n",
    "from sklearn.model_selection import cross_val_score\n",
    "from sklearn.preprocessing import OneHotEncoder\n",
    "\n",
    "from sklearn.compose import make_column_transformer\n",
    "from sklearn.pipeline import make_pipeline"
   ]
  },
  {
   "cell_type": "code",
   "execution_count": 2,
   "id": "b482b01c",
   "metadata": {},
   "outputs": [],
   "source": [
    "df = pd.read_pickle(r'Final-v1.pickle')"
   ]
  },
  {
   "cell_type": "code",
   "execution_count": 3,
   "id": "3e043b2e",
   "metadata": {},
   "outputs": [],
   "source": [
    "df[\"postal_code\"] = df[\"postal_code\"].astype('int')\n",
    "df[\"postal_code\"] = df[\"postal_code\"].astype('category')"
   ]
  },
  {
   "cell_type": "code",
   "execution_count": 4,
   "id": "660a86e1",
   "metadata": {},
   "outputs": [],
   "source": [
    "df = df.rename(columns={\"Nearest_Bahnhof_km\": \"Bahnhof\",\"Nearest_Hospital_km\":\"Hospital\",\n",
    "                        \"Nearest_Community_Centre_km\": \"Community_Centre\",\"Nearest_Cafe_km\":\"Restaurant\",\n",
    "                        \"Nearest_Biergarten_km\": \"Biergarten\",\"Nearest_Kino_km\":\"Kino\",\n",
    "                        \"Nearest_Parking_km\": \"Parking\",\"Nearest_university_km\":\"university\",})"
   ]
  },
  {
   "cell_type": "code",
   "execution_count": 5,
   "id": "fe1410f9",
   "metadata": {},
   "outputs": [],
   "source": [
    "#df.to_pickle(\"end_result-v2.pickle\")"
   ]
  },
  {
   "cell_type": "code",
   "execution_count": 6,
   "id": "6144ff8c",
   "metadata": {},
   "outputs": [],
   "source": [
    "#df.to_csv(\"end_result-v2.csv\")"
   ]
  },
  {
   "cell_type": "code",
   "execution_count": 7,
   "id": "75deccd1",
   "metadata": {},
   "outputs": [],
   "source": [
    "from patsy import dmatrices"
   ]
  },
  {
   "cell_type": "code",
   "execution_count": 8,
   "id": "836c4b99",
   "metadata": {},
   "outputs": [],
   "source": [
    "%%capture\n",
    "#gather features\n",
    "#features = \"+\".join(data.columns - [\"Charging_time_in_hours_log_New\"])\n",
    "\n",
    "# get y and X dataframes based on this regression:\n",
    "y, X = dmatrices('Charging_Time_in_hours ~ Count_Charging+Temperature+Precipitation+pd+Bahnhof+Restaurant+Biergarten+Community_Centre+Hospital+Kino+Parking+university' , df, return_type='dataframe')"
   ]
  },
  {
   "cell_type": "code",
   "execution_count": 9,
   "id": "f04fc3d0",
   "metadata": {},
   "outputs": [],
   "source": [
    "from patsy import dmatrices\n",
    "import statsmodels.api as sm\n",
    "from statsmodels.stats.outliers_influence import variance_inflation_factor"
   ]
  },
  {
   "cell_type": "code",
   "execution_count": 10,
   "id": "5f68abfe",
   "metadata": {},
   "outputs": [],
   "source": [
    "vif = pd.DataFrame()\n",
    "vif[\"VIF Factor\"] = [variance_inflation_factor(X.values, i) for i in range(X.shape[1])]"
   ]
  },
  {
   "cell_type": "code",
   "execution_count": 11,
   "id": "5354a95d",
   "metadata": {},
   "outputs": [],
   "source": [
    "vif[\"features\"] = X.columns"
   ]
  },
  {
   "cell_type": "code",
   "execution_count": 12,
   "id": "0700d081",
   "metadata": {},
   "outputs": [
    {
     "data": {
      "text/html": [
       "<div>\n",
       "<style scoped>\n",
       "    .dataframe tbody tr th:only-of-type {\n",
       "        vertical-align: middle;\n",
       "    }\n",
       "\n",
       "    .dataframe tbody tr th {\n",
       "        vertical-align: top;\n",
       "    }\n",
       "\n",
       "    .dataframe thead th {\n",
       "        text-align: right;\n",
       "    }\n",
       "</style>\n",
       "<table border=\"1\" class=\"dataframe\">\n",
       "  <thead>\n",
       "    <tr style=\"text-align: right;\">\n",
       "      <th></th>\n",
       "      <th>VIF Factor</th>\n",
       "      <th>features</th>\n",
       "    </tr>\n",
       "  </thead>\n",
       "  <tbody>\n",
       "    <tr>\n",
       "      <th>0</th>\n",
       "      <td>7.22251</td>\n",
       "      <td>Intercept</td>\n",
       "    </tr>\n",
       "    <tr>\n",
       "      <th>1</th>\n",
       "      <td>1.10318</td>\n",
       "      <td>Count_Charging</td>\n",
       "    </tr>\n",
       "    <tr>\n",
       "      <th>2</th>\n",
       "      <td>1.00138</td>\n",
       "      <td>Temperature</td>\n",
       "    </tr>\n",
       "    <tr>\n",
       "      <th>3</th>\n",
       "      <td>1.00635</td>\n",
       "      <td>Precipitation</td>\n",
       "    </tr>\n",
       "    <tr>\n",
       "      <th>4</th>\n",
       "      <td>1.07193</td>\n",
       "      <td>pd</td>\n",
       "    </tr>\n",
       "    <tr>\n",
       "      <th>5</th>\n",
       "      <td>1.07167</td>\n",
       "      <td>Bahnhof</td>\n",
       "    </tr>\n",
       "    <tr>\n",
       "      <th>6</th>\n",
       "      <td>1.09989</td>\n",
       "      <td>Restaurant</td>\n",
       "    </tr>\n",
       "    <tr>\n",
       "      <th>7</th>\n",
       "      <td>1.31501</td>\n",
       "      <td>Biergarten</td>\n",
       "    </tr>\n",
       "    <tr>\n",
       "      <th>8</th>\n",
       "      <td>1.05388</td>\n",
       "      <td>Community_Centre</td>\n",
       "    </tr>\n",
       "    <tr>\n",
       "      <th>9</th>\n",
       "      <td>1.08340</td>\n",
       "      <td>Hospital</td>\n",
       "    </tr>\n",
       "    <tr>\n",
       "      <th>10</th>\n",
       "      <td>1.09836</td>\n",
       "      <td>Kino</td>\n",
       "    </tr>\n",
       "    <tr>\n",
       "      <th>11</th>\n",
       "      <td>1.38100</td>\n",
       "      <td>Parking</td>\n",
       "    </tr>\n",
       "    <tr>\n",
       "      <th>12</th>\n",
       "      <td>1.11229</td>\n",
       "      <td>university</td>\n",
       "    </tr>\n",
       "  </tbody>\n",
       "</table>\n",
       "</div>"
      ],
      "text/plain": [
       "    VIF Factor          features\n",
       "0      7.22251         Intercept\n",
       "1      1.10318    Count_Charging\n",
       "2      1.00138       Temperature\n",
       "3      1.00635     Precipitation\n",
       "4      1.07193                pd\n",
       "5      1.07167           Bahnhof\n",
       "6      1.09989        Restaurant\n",
       "7      1.31501        Biergarten\n",
       "8      1.05388  Community_Centre\n",
       "9      1.08340          Hospital\n",
       "10     1.09836              Kino\n",
       "11     1.38100           Parking\n",
       "12     1.11229        university"
      ]
     },
     "execution_count": 12,
     "metadata": {},
     "output_type": "execute_result"
    }
   ],
   "source": [
    "vif.round(5)"
   ]
  },
  {
   "cell_type": "code",
   "execution_count": 13,
   "id": "afc9c938",
   "metadata": {},
   "outputs": [
    {
     "name": "stdout",
     "output_type": "stream",
     "text": [
      "\\begin{tabular}{rl}\n",
      "\\toprule\n",
      " VIF Factor &         features \\\\\n",
      "\\midrule\n",
      "   7.222506 &        Intercept \\\\\n",
      "   1.103180 &   Count\\_Charging \\\\\n",
      "   1.001382 &      Temperature \\\\\n",
      "   1.006353 &    Precipitation \\\\\n",
      "   1.071929 &               pd \\\\\n",
      "   1.071675 &          Bahnhof \\\\\n",
      "   1.099892 &       Restaurant \\\\\n",
      "   1.315014 &       Biergarten \\\\\n",
      "   1.053879 & Community\\_Centre \\\\\n",
      "   1.083401 &         Hospital \\\\\n",
      "   1.098363 &             Kino \\\\\n",
      "   1.380999 &          Parking \\\\\n",
      "   1.112290 &       university \\\\\n",
      "\\bottomrule\n",
      "\\end{tabular}\n",
      "\n"
     ]
    }
   ],
   "source": [
    "print(vif.to_latex(index=False))"
   ]
  },
  {
   "cell_type": "code",
   "execution_count": null,
   "id": "d59f24a5",
   "metadata": {},
   "outputs": [],
   "source": []
  }
 ],
 "metadata": {
  "kernelspec": {
   "display_name": "Python 3",
   "language": "python",
   "name": "python3"
  },
  "language_info": {
   "codemirror_mode": {
    "name": "ipython",
    "version": 3
   },
   "file_extension": ".py",
   "mimetype": "text/x-python",
   "name": "python",
   "nbconvert_exporter": "python",
   "pygments_lexer": "ipython3",
   "version": "3.8.8"
  }
 },
 "nbformat": 4,
 "nbformat_minor": 5
}
