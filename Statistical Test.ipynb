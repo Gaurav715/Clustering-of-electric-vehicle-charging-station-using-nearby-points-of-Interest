{
 "cells": [
  {
   "cell_type": "code",
   "execution_count": 34,
   "id": "a4f00704",
   "metadata": {},
   "outputs": [],
   "source": [
    "import pandas as pd\n",
    "import numpy as np\n",
    "import seaborn as sns\n",
    "import matplotlib.pyplot as plt\n",
    "import dask\n",
    "import dask.dataframe as dd\n",
    "\n",
    "from sklearn.model_selection import GridSearchCV, KFold,KFold, cross_val_score\n",
    "\n",
    "from sklearn.preprocessing import PolynomialFeatures, StandardScaler,RobustScaler \n",
    "\n",
    "from sklearn.pipeline import make_pipeline\n",
    "\n",
    "from sklearn.model_selection import train_test_split\n",
    "import statsmodels.formula.api as smf\n",
    "import statsmodels.stats.api as sms\n",
    "from statsmodels.compat import lzip\n",
    "from sklearn.svm import SVC\n",
    "from sklearn.tree import DecisionTreeClassifier # Import Decision Tree Classifier\n",
    "from sklearn.linear_model import LogisticRegression,LinearRegression,Lasso\n",
    "\n",
    "from sklearn.metrics import accuracy_score, f1_score,mean_squared_error,classification_report,confusion_matrix\n",
    "\n",
    "from sklearn.naive_bayes import GaussianNB\n",
    "from sklearn.discriminant_analysis import QuadraticDiscriminantAnalysis\n",
    "\n",
    "from sklearn.model_selection import cross_val_score\n",
    "from sklearn.preprocessing import OneHotEncoder\n",
    "\n",
    "from sklearn.compose import make_column_transformer\n",
    "from sklearn.pipeline import make_pipeline\n",
    "import pandas as pd\n",
    "import numpy as np\n",
    "import seaborn as sns\n",
    "import matplotlib.pyplot as plt\n",
    "import dask\n",
    "import dask.dataframe as dd\n",
    "\n",
    "import plotly.express as px\n",
    "import plotly.graph_objects as go\n",
    "\n",
    "from sklearn.model_selection import GridSearchCV, KFold,KFold, cross_val_score\n",
    "\n",
    "from sklearn.preprocessing import PolynomialFeatures, StandardScaler,RobustScaler \n",
    "\n",
    "from sklearn.pipeline import make_pipeline\n",
    "\n",
    "from sklearn.model_selection import train_test_split\n",
    "\n",
    "from sklearn.svm import SVC\n",
    "from sklearn.tree import DecisionTreeClassifier # Import Decision Tree Classifier\n",
    "from sklearn.linear_model import LogisticRegression,LinearRegression,Lasso\n",
    "\n",
    "from sklearn.metrics import accuracy_score, f1_score,mean_squared_error,classification_report,confusion_matrix\n",
    "\n",
    "from sklearn.naive_bayes import GaussianNB\n",
    "from sklearn.discriminant_analysis import QuadraticDiscriminantAnalysis\n",
    "\n",
    "from sklearn.model_selection import cross_val_score\n",
    "from sklearn.preprocessing import OneHotEncoder\n",
    "\n",
    "from sklearn.compose import make_column_transformer\n",
    "\n",
    "from scipy import stats\n",
    "import matplotlib.pyplot as plt\n",
    "from sklearn.pipeline import make_pipeline"
   ]
  },
  {
   "cell_type": "code",
   "execution_count": 35,
   "id": "9683b48b",
   "metadata": {},
   "outputs": [],
   "source": [
    "df =pd.read_pickle(\"data_after_normalization.pickle\")"
   ]
  },
  {
   "cell_type": "code",
   "execution_count": 82,
   "id": "f2cafefd",
   "metadata": {},
   "outputs": [
    {
     "name": "stdout",
     "output_type": "stream",
     "text": [
      "<class 'pandas.core.frame.DataFrame'>\n",
      "Int64Index: 1796287 entries, 0 to 1940933\n",
      "Data columns (total 39 columns):\n",
      " #   Column                      Dtype         \n",
      "---  ------                      -----         \n",
      " 0   park_id                     object        \n",
      " 1   clc_code                    object        \n",
      " 2   area_code                   object        \n",
      " 3   evse_id                     object        \n",
      " 4   datetime_start              datetime64[ns]\n",
      " 5   datetime_stop               datetime64[ns]\n",
      " 6   city                        object        \n",
      " 7   latitude                    float64       \n",
      " 8   longitude                   float64       \n",
      " 9   postal_code                 category      \n",
      " 10  Charging_Time_in_hours      float64       \n",
      " 11  year                        category      \n",
      " 12  month                       category      \n",
      " 13  day                         category      \n",
      " 14  day_of_week_name_Start      object        \n",
      " 15  Precipitation               float64       \n",
      " 16  Temperature                 float64       \n",
      " 17  pd                          float64       \n",
      " 18  Count_Charging              int64         \n",
      " 19  Charging_time_in_hours_log  float64       \n",
      " 20  Bahnhof                     float64       \n",
      " 21  Restaurant                  float64       \n",
      " 22  Biergarten                  float64       \n",
      " 23  Community_Centre            float64       \n",
      " 24  Hospital                    float64       \n",
      " 25  Kino                        float64       \n",
      " 26  Parking                     float64       \n",
      " 27  university                  float64       \n",
      " 28  Temperature_New             float64       \n",
      " 29  Precipitation_New           float64       \n",
      " 30  pd_New                      float64       \n",
      " 31  Bahnhof_New                 float64       \n",
      " 32  Restaurant_New              float64       \n",
      " 33  Biergarten_New              float64       \n",
      " 34  Community_Centre_New        float64       \n",
      " 35  Hospital_New                float64       \n",
      " 36  Kino_New                    float64       \n",
      " 37  Parking_New                 float64       \n",
      " 38  university_New              float64       \n",
      "dtypes: category(4), datetime64[ns](2), float64(26), int64(1), object(6)\n",
      "memory usage: 502.0+ MB\n"
     ]
    }
   ],
   "source": [
    "df.info()"
   ]
  },
  {
   "cell_type": "markdown",
   "id": "744c2af5",
   "metadata": {},
   "source": [
    "# Generalized Least Squares with AR covariance structure"
   ]
  },
  {
   "cell_type": "code",
   "execution_count": 192,
   "id": "3591ae0a",
   "metadata": {},
   "outputs": [],
   "source": [
    "Y= df[[\"Charging_Time_in_hours\"]]"
   ]
  },
  {
   "cell_type": "code",
   "execution_count": 193,
   "id": "10e49c14",
   "metadata": {},
   "outputs": [],
   "source": [
    "X = df[[\"pd_New\",\"Precipitation_New\",\"Temperature_New\",\"Parking_New\",\"university_New\",\"Biergarten_New\",\"Kino_New\",\"Restaurant_New\",\"Community_Centre_New\",\"Hospital_New\",\"Bahnhof_New\",]]"
   ]
  },
  {
   "cell_type": "code",
   "execution_count": 194,
   "id": "43905b5b",
   "metadata": {},
   "outputs": [
    {
     "name": "stderr",
     "output_type": "stream",
     "text": [
      "/home/col-gku/.local/lib/python3.8/site-packages/statsmodels/tsa/tsatools.py:142: FutureWarning: In a future version of pandas all arguments of concat except for the argument 'objs' will be keyword-only\n",
      "  x = pd.concat(x[::order], 1)\n"
     ]
    }
   ],
   "source": [
    "X = sm.add_constant(X)"
   ]
  },
  {
   "cell_type": "code",
   "execution_count": 201,
   "id": "66b40c96",
   "metadata": {},
   "outputs": [],
   "source": [
    "model = sm.GLS(Y, X, rho=2)"
   ]
  },
  {
   "cell_type": "code",
   "execution_count": 211,
   "id": "ebb0460c",
   "metadata": {},
   "outputs": [],
   "source": [
    "res_wls = model.fit()"
   ]
  },
  {
   "cell_type": "code",
   "execution_count": 212,
   "id": "7b92a3ce",
   "metadata": {},
   "outputs": [
    {
     "name": "stdout",
     "output_type": "stream",
     "text": [
      "                              GLS Regression Results                              \n",
      "==================================================================================\n",
      "Dep. Variable:     Charging_Time_in_hours   R-squared:                       0.007\n",
      "Model:                                GLS   Adj. R-squared:                  0.007\n",
      "Method:                     Least Squares   F-statistic:                     1145.\n",
      "Date:                    Fri, 31 Dec 2021   Prob (F-statistic):               0.00\n",
      "Time:                            14:27:44   Log-Likelihood:            -6.4363e+06\n",
      "No. Observations:                 1796287   AIC:                         1.287e+07\n",
      "Df Residuals:                     1796275   BIC:                         1.287e+07\n",
      "Df Model:                              11                                         \n",
      "Covariance Type:                nonrobust                                         \n",
      "========================================================================================\n",
      "                           coef    std err          t      P>|t|      [0.025      0.975]\n",
      "----------------------------------------------------------------------------------------\n",
      "const                   10.2410      0.025    405.158      0.000      10.191      10.291\n",
      "pd_New                   0.0749      0.001     81.199      0.000       0.073       0.077\n",
      "Precipitation_New       -0.0433      0.014     -3.071      0.002      -0.071      -0.016\n",
      "Temperature_New         -0.1311      0.002    -61.087      0.000      -0.135      -0.127\n",
      "Parking_New              0.0609      0.005     13.004      0.000       0.052       0.070\n",
      "university_New          -0.0047      0.001     -5.944      0.000      -0.006      -0.003\n",
      "Biergarten_New          -0.0360      0.003    -10.388      0.000      -0.043      -0.029\n",
      "Kino_New                -0.0368      0.002    -19.841      0.000      -0.040      -0.033\n",
      "Restaurant_New          -0.1227      0.017     -7.388      0.000      -0.155      -0.090\n",
      "Community_Centre_New     0.0768      0.002     33.448      0.000       0.072       0.081\n",
      "Hospital_New            -0.0045      0.001     -6.212      0.000      -0.006      -0.003\n",
      "Bahnhof_New              0.0133      0.001     19.339      0.000       0.012       0.015\n",
      "==============================================================================\n",
      "Omnibus:                 24452440.421   Durbin-Watson:                   1.577\n",
      "Prob(Omnibus):                  0.000   Jarque-Bera (JB):           207172.721\n",
      "Skew:                           0.476   Prob(JB):                         0.00\n",
      "Kurtosis:                       1.636   Cond. No.                         77.0\n",
      "==============================================================================\n",
      "\n",
      "Notes:\n",
      "[1] Standard Errors assume that the covariance matrix of the errors is correctly specified.\n"
     ]
    }
   ],
   "source": [
    "print(res_wls.summary())"
   ]
  },
  {
   "cell_type": "markdown",
   "id": "ed5d82e4",
   "metadata": {},
   "source": [
    "# OLS "
   ]
  },
  {
   "cell_type": "code",
   "execution_count": 213,
   "id": "3f60bc62",
   "metadata": {},
   "outputs": [
    {
     "name": "stdout",
     "output_type": "stream",
     "text": [
      "const                   10.240982\n",
      "pd_New                   0.074941\n",
      "Precipitation_New       -0.043318\n",
      "Temperature_New         -0.131111\n",
      "Parking_New              0.060886\n",
      "university_New          -0.004663\n",
      "Biergarten_New          -0.036047\n",
      "Kino_New                -0.036785\n",
      "Restaurant_New          -0.122701\n",
      "Community_Centre_New     0.076774\n",
      "Hospital_New            -0.004524\n",
      "Bahnhof_New              0.013312\n",
      "dtype: float64\n",
      "const                   10.240982\n",
      "pd_New                   0.074941\n",
      "Precipitation_New       -0.043318\n",
      "Temperature_New         -0.131111\n",
      "Parking_New              0.060886\n",
      "university_New          -0.004663\n",
      "Biergarten_New          -0.036047\n",
      "Kino_New                -0.036785\n",
      "Restaurant_New          -0.122701\n",
      "Community_Centre_New     0.076774\n",
      "Hospital_New            -0.004524\n",
      "Bahnhof_New              0.013312\n",
      "dtype: float64\n"
     ]
    }
   ],
   "source": [
    "res_ols = sm.OLS(Y, X).fit()\n",
    "print(res_ols.params)\n",
    "print(res_wls.params)\n"
   ]
  },
  {
   "cell_type": "code",
   "execution_count": 214,
   "id": "f069b86e",
   "metadata": {},
   "outputs": [
    {
     "name": "stdout",
     "output_type": "stream",
     "text": [
      "=====================\n",
      "          x1   const \n",
      "---------------------\n",
      "WLS     0.0253 0.0009\n",
      "OLS     0.0253 0.0009\n",
      "OLS_HC0 0.0251 0.0009\n",
      "OLS_HC1 0.0251 0.0009\n",
      "OLS_HC3 0.0251 0.0009\n",
      "OLS_HC3 0.0251 0.0009\n",
      "---------------------\n"
     ]
    }
   ],
   "source": [
    "se = np.vstack(\n",
    "    [\n",
    "        [res_wls.bse],\n",
    "        [res_ols.bse],\n",
    "        [res_ols.HC0_se],\n",
    "        [res_ols.HC1_se],\n",
    "        [res_ols.HC2_se],\n",
    "        [res_ols.HC3_se],\n",
    "    ]\n",
    ")\n",
    "se = np.round(se, 4)\n",
    "colnames = [\"x1\", \"const\"]\n",
    "rownames = [\"WLS\", \"OLS\", \"OLS_HC0\", \"OLS_HC1\", \"OLS_HC3\", \"OLS_HC3\"]\n",
    "tabl = SimpleTable(se, colnames, rownames, txt_fmt=default_txt_fmt)\n",
    "print(tabl)\n",
    "\n"
   ]
  },
  {
   "cell_type": "code",
   "execution_count": 215,
   "id": "7b736ab2",
   "metadata": {},
   "outputs": [],
   "source": [
    "covb = res_ols.cov_params()\n",
    "prediction_var = res_ols.mse_resid + (X * np.dot(covb, X.T).T).sum(1)\n",
    "prediction_std = np.sqrt(prediction_var)\n",
    "tppf = stats.t.ppf(0.975, res_ols.df_resid)\n",
    "\n"
   ]
  },
  {
   "cell_type": "code",
   "execution_count": 216,
   "id": "5cf00123",
   "metadata": {},
   "outputs": [],
   "source": [
    "pred_ols = res_ols.get_prediction()\n",
    "iv_l_ols = pred_ols.summary_frame()[\"obs_ci_lower\"]\n",
    "iv_u_ols = pred_ols.summary_frame()[\"obs_ci_upper\"]"
   ]
  },
  {
   "cell_type": "code",
   "execution_count": 220,
   "id": "fc83e4e8",
   "metadata": {},
   "outputs": [
    {
     "ename": "IndexError",
     "evalue": "Boolean index has wrong length: 50 instead of 1796287",
     "output_type": "error",
     "traceback": [
      "\u001b[0;31m---------------------------------------------------------------------------\u001b[0m",
      "\u001b[0;31mIndexError\u001b[0m                                Traceback (most recent call last)",
      "\u001b[0;32m<ipython-input-220-bbcd88b5ee87>\u001b[0m in \u001b[0;36m<module>\u001b[0;34m\u001b[0m\n\u001b[0;32m----> 1\u001b[0;31m \u001b[0mresid1\u001b[0m \u001b[0;34m=\u001b[0m \u001b[0mres_ols\u001b[0m\u001b[0;34m.\u001b[0m\u001b[0mresid\u001b[0m\u001b[0;34m[\u001b[0m\u001b[0mw\u001b[0m \u001b[0;34m==\u001b[0m \u001b[0;36m1.0\u001b[0m\u001b[0;34m]\u001b[0m\u001b[0;34m\u001b[0m\u001b[0;34m\u001b[0m\u001b[0m\n\u001b[0m\u001b[1;32m      2\u001b[0m \u001b[0mvar1\u001b[0m \u001b[0;34m=\u001b[0m \u001b[0mresid1\u001b[0m\u001b[0;34m.\u001b[0m\u001b[0mvar\u001b[0m\u001b[0;34m(\u001b[0m\u001b[0mddof\u001b[0m\u001b[0;34m=\u001b[0m\u001b[0mint\u001b[0m\u001b[0;34m(\u001b[0m\u001b[0mres_ols\u001b[0m\u001b[0;34m.\u001b[0m\u001b[0mdf_model\u001b[0m\u001b[0;34m)\u001b[0m \u001b[0;34m+\u001b[0m \u001b[0;36m1\u001b[0m\u001b[0;34m)\u001b[0m\u001b[0;34m\u001b[0m\u001b[0;34m\u001b[0m\u001b[0m\n\u001b[1;32m      3\u001b[0m \u001b[0mresid2\u001b[0m \u001b[0;34m=\u001b[0m \u001b[0mres_ols\u001b[0m\u001b[0;34m.\u001b[0m\u001b[0mresid\u001b[0m\u001b[0;34m[\u001b[0m\u001b[0mw\u001b[0m \u001b[0;34m!=\u001b[0m \u001b[0;36m1.0\u001b[0m\u001b[0;34m]\u001b[0m\u001b[0;34m\u001b[0m\u001b[0;34m\u001b[0m\u001b[0m\n\u001b[1;32m      4\u001b[0m \u001b[0mvar2\u001b[0m \u001b[0;34m=\u001b[0m \u001b[0mresid2\u001b[0m\u001b[0;34m.\u001b[0m\u001b[0mvar\u001b[0m\u001b[0;34m(\u001b[0m\u001b[0mddof\u001b[0m\u001b[0;34m=\u001b[0m\u001b[0mint\u001b[0m\u001b[0;34m(\u001b[0m\u001b[0mres_ols\u001b[0m\u001b[0;34m.\u001b[0m\u001b[0mdf_model\u001b[0m\u001b[0;34m)\u001b[0m \u001b[0;34m+\u001b[0m \u001b[0;36m1\u001b[0m\u001b[0;34m)\u001b[0m\u001b[0;34m\u001b[0m\u001b[0;34m\u001b[0m\u001b[0m\n\u001b[1;32m      5\u001b[0m \u001b[0mw_est\u001b[0m \u001b[0;34m=\u001b[0m \u001b[0mw\u001b[0m\u001b[0;34m.\u001b[0m\u001b[0mcopy\u001b[0m\u001b[0;34m(\u001b[0m\u001b[0;34m)\u001b[0m\u001b[0;34m\u001b[0m\u001b[0;34m\u001b[0m\u001b[0m\n",
      "\u001b[0;32m~/.local/lib/python3.8/site-packages/pandas/core/series.py\u001b[0m in \u001b[0;36m__getitem__\u001b[0;34m(self, key)\u001b[0m\n\u001b[1;32m    960\u001b[0m \u001b[0;34m\u001b[0m\u001b[0m\n\u001b[1;32m    961\u001b[0m         \u001b[0;32mif\u001b[0m \u001b[0mcom\u001b[0m\u001b[0;34m.\u001b[0m\u001b[0mis_bool_indexer\u001b[0m\u001b[0;34m(\u001b[0m\u001b[0mkey\u001b[0m\u001b[0;34m)\u001b[0m\u001b[0;34m:\u001b[0m\u001b[0;34m\u001b[0m\u001b[0;34m\u001b[0m\u001b[0m\n\u001b[0;32m--> 962\u001b[0;31m             \u001b[0mkey\u001b[0m \u001b[0;34m=\u001b[0m \u001b[0mcheck_bool_indexer\u001b[0m\u001b[0;34m(\u001b[0m\u001b[0mself\u001b[0m\u001b[0;34m.\u001b[0m\u001b[0mindex\u001b[0m\u001b[0;34m,\u001b[0m \u001b[0mkey\u001b[0m\u001b[0;34m)\u001b[0m\u001b[0;34m\u001b[0m\u001b[0;34m\u001b[0m\u001b[0m\n\u001b[0m\u001b[1;32m    963\u001b[0m             \u001b[0mkey\u001b[0m \u001b[0;34m=\u001b[0m \u001b[0mnp\u001b[0m\u001b[0;34m.\u001b[0m\u001b[0masarray\u001b[0m\u001b[0;34m(\u001b[0m\u001b[0mkey\u001b[0m\u001b[0;34m,\u001b[0m \u001b[0mdtype\u001b[0m\u001b[0;34m=\u001b[0m\u001b[0mbool\u001b[0m\u001b[0;34m)\u001b[0m\u001b[0;34m\u001b[0m\u001b[0;34m\u001b[0m\u001b[0m\n\u001b[1;32m    964\u001b[0m             \u001b[0;32mreturn\u001b[0m \u001b[0mself\u001b[0m\u001b[0;34m.\u001b[0m\u001b[0m_get_values\u001b[0m\u001b[0;34m(\u001b[0m\u001b[0mkey\u001b[0m\u001b[0;34m)\u001b[0m\u001b[0;34m\u001b[0m\u001b[0;34m\u001b[0m\u001b[0m\n",
      "\u001b[0;32m~/.local/lib/python3.8/site-packages/pandas/core/indexing.py\u001b[0m in \u001b[0;36mcheck_bool_indexer\u001b[0;34m(index, key)\u001b[0m\n\u001b[1;32m   2399\u001b[0m         \u001b[0;31m# key may contain nan elements, check_array_indexer needs bool array\u001b[0m\u001b[0;34m\u001b[0m\u001b[0;34m\u001b[0m\u001b[0;34m\u001b[0m\u001b[0m\n\u001b[1;32m   2400\u001b[0m         \u001b[0mresult\u001b[0m \u001b[0;34m=\u001b[0m \u001b[0mpd_array\u001b[0m\u001b[0;34m(\u001b[0m\u001b[0mresult\u001b[0m\u001b[0;34m,\u001b[0m \u001b[0mdtype\u001b[0m\u001b[0;34m=\u001b[0m\u001b[0mbool\u001b[0m\u001b[0;34m)\u001b[0m\u001b[0;34m\u001b[0m\u001b[0;34m\u001b[0m\u001b[0m\n\u001b[0;32m-> 2401\u001b[0;31m     \u001b[0;32mreturn\u001b[0m \u001b[0mcheck_array_indexer\u001b[0m\u001b[0;34m(\u001b[0m\u001b[0mindex\u001b[0m\u001b[0;34m,\u001b[0m \u001b[0mresult\u001b[0m\u001b[0;34m)\u001b[0m\u001b[0;34m\u001b[0m\u001b[0;34m\u001b[0m\u001b[0m\n\u001b[0m\u001b[1;32m   2402\u001b[0m \u001b[0;34m\u001b[0m\u001b[0m\n\u001b[1;32m   2403\u001b[0m \u001b[0;34m\u001b[0m\u001b[0m\n",
      "\u001b[0;32m~/.local/lib/python3.8/site-packages/pandas/core/indexers.py\u001b[0m in \u001b[0;36mcheck_array_indexer\u001b[0;34m(array, indexer)\u001b[0m\n\u001b[1;32m    559\u001b[0m         \u001b[0;31m# GH26658\u001b[0m\u001b[0;34m\u001b[0m\u001b[0;34m\u001b[0m\u001b[0;34m\u001b[0m\u001b[0m\n\u001b[1;32m    560\u001b[0m         \u001b[0;32mif\u001b[0m \u001b[0mlen\u001b[0m\u001b[0;34m(\u001b[0m\u001b[0mindexer\u001b[0m\u001b[0;34m)\u001b[0m \u001b[0;34m!=\u001b[0m \u001b[0mlen\u001b[0m\u001b[0;34m(\u001b[0m\u001b[0marray\u001b[0m\u001b[0;34m)\u001b[0m\u001b[0;34m:\u001b[0m\u001b[0;34m\u001b[0m\u001b[0;34m\u001b[0m\u001b[0m\n\u001b[0;32m--> 561\u001b[0;31m             raise IndexError(\n\u001b[0m\u001b[1;32m    562\u001b[0m                 \u001b[0;34mf\"Boolean index has wrong length: \"\u001b[0m\u001b[0;34m\u001b[0m\u001b[0;34m\u001b[0m\u001b[0m\n\u001b[1;32m    563\u001b[0m                 \u001b[0;34mf\"{len(indexer)} instead of {len(array)}\"\u001b[0m\u001b[0;34m\u001b[0m\u001b[0;34m\u001b[0m\u001b[0m\n",
      "\u001b[0;31mIndexError\u001b[0m: Boolean index has wrong length: 50 instead of 1796287"
     ]
    }
   ],
   "source": [
    "resid1 = res_ols.resid[w == 1.0]\n",
    "var1 = resid1.var(ddof=int(res_ols.df_model) + 1)\n",
    "resid2 = res_ols.resid[w != 1.0]\n",
    "var2 = resid2.var(ddof=int(res_ols.df_model) + 1)\n",
    "w_est = w.copy()\n",
    "w_est[w != 1.0] = np.sqrt(var2) / np.sqrt(var1)\n",
    "res_fwls = sm.WLS(Y, X, 1.0 / ((w_est ** 2))).fit()\n",
    "print(res_fwls.summary())"
   ]
  },
  {
   "cell_type": "code",
   "execution_count": null,
   "id": "75cfbe48",
   "metadata": {},
   "outputs": [],
   "source": []
  },
  {
   "cell_type": "code",
   "execution_count": null,
   "id": "42e400d4",
   "metadata": {},
   "outputs": [],
   "source": []
  },
  {
   "cell_type": "code",
   "execution_count": null,
   "id": "f318ab49",
   "metadata": {},
   "outputs": [],
   "source": []
  },
  {
   "cell_type": "code",
   "execution_count": null,
   "id": "736b3a6d",
   "metadata": {},
   "outputs": [],
   "source": []
  },
  {
   "cell_type": "code",
   "execution_count": null,
   "id": "950fe946",
   "metadata": {},
   "outputs": [],
   "source": []
  },
  {
   "cell_type": "code",
   "execution_count": null,
   "id": "75709d07",
   "metadata": {},
   "outputs": [],
   "source": []
  },
  {
   "cell_type": "code",
   "execution_count": null,
   "id": "ad02b3e0",
   "metadata": {},
   "outputs": [],
   "source": []
  },
  {
   "cell_type": "markdown",
   "id": "79b58e66",
   "metadata": {},
   "source": [
    "# WLS"
   ]
  },
  {
   "cell_type": "code",
   "execution_count": 154,
   "id": "2fb42e63",
   "metadata": {},
   "outputs": [],
   "source": [
    "data.exog = df[[\"pd_New\",\"Precipitation_New\",\"Temperature_New\",\"Parking_New\",\"university_New\",\"Biergarten_New\",\"Kino_New\",\"Restaurant_New\",\"Community_Centre_New\",\"Hospital_New\",\"Bahnhof_New\",]]\n"
   ]
  },
  {
   "cell_type": "code",
   "execution_count": 155,
   "id": "6b56d86b",
   "metadata": {},
   "outputs": [],
   "source": [
    "import matplotlib.pyplot as plt\n",
    "import numpy as np\n",
    "import statsmodels.api as sm\n",
    "from scipy import stats\n",
    "from statsmodels.iolib.table import SimpleTable, default_txt_fmt"
   ]
  },
  {
   "cell_type": "code",
   "execution_count": null,
   "id": "a7e64942",
   "metadata": {},
   "outputs": [],
   "source": [
    "mod_wls = sm.WLS(y, X, weights=res_ols.params)\n",
    "res_wls = mod_wls.fit()\n",
    "print(res_wls.summary())\n"
   ]
  },
  {
   "cell_type": "code",
   "execution_count": null,
   "id": "14c5b7c6",
   "metadata": {},
   "outputs": [],
   "source": []
  },
  {
   "cell_type": "code",
   "execution_count": null,
   "id": "153e50ab",
   "metadata": {},
   "outputs": [],
   "source": []
  },
  {
   "cell_type": "code",
   "execution_count": null,
   "id": "6de2a710",
   "metadata": {},
   "outputs": [],
   "source": []
  },
  {
   "cell_type": "code",
   "execution_count": null,
   "id": "eacb49c1",
   "metadata": {},
   "outputs": [],
   "source": []
  }
 ],
 "metadata": {
  "kernelspec": {
   "display_name": "Python 3",
   "language": "python",
   "name": "python3"
  },
  "language_info": {
   "codemirror_mode": {
    "name": "ipython",
    "version": 3
   },
   "file_extension": ".py",
   "mimetype": "text/x-python",
   "name": "python",
   "nbconvert_exporter": "python",
   "pygments_lexer": "ipython3",
   "version": "3.8.8"
  }
 },
 "nbformat": 4,
 "nbformat_minor": 5
}
