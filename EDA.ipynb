{
 "cells": [
  {
   "cell_type": "code",
   "execution_count": 171,
   "id": "1f509fc2",
   "metadata": {},
   "outputs": [],
   "source": [
    "import pandas as pd\n",
    "import numpy as np\n",
    "import seaborn as sns\n",
    "import matplotlib.pyplot as plt\n",
    "import dask\n",
    "import dask.dataframe as dd\n",
    "\n",
    "from sklearn.model_selection import GridSearchCV, KFold,KFold, cross_val_score\n",
    "\n",
    "from sklearn.preprocessing import PolynomialFeatures, StandardScaler,RobustScaler \n",
    "\n",
    "from sklearn.pipeline import make_pipeline\n",
    "\n",
    "from sklearn.model_selection import train_test_split\n",
    "import statsmodels.formula.api as smf\n",
    "import statsmodels.stats.api as sms\n",
    "from statsmodels.compat import lzip\n",
    "from sklearn.svm import SVC\n",
    "from sklearn.tree import DecisionTreeClassifier # Import Decision Tree Classifier\n",
    "from sklearn.linear_model import LogisticRegression,LinearRegression,Lasso\n",
    "\n",
    "from sklearn.metrics import accuracy_score, f1_score,mean_squared_error,classification_report,confusion_matrix\n",
    "\n",
    "from sklearn.naive_bayes import GaussianNB\n",
    "from sklearn.discriminant_analysis import QuadraticDiscriminantAnalysis\n",
    "\n",
    "from sklearn.model_selection import cross_val_score\n",
    "from sklearn.preprocessing import OneHotEncoder\n",
    "\n",
    "from sklearn.compose import make_column_transformer\n",
    "from sklearn.pipeline import make_pipeline\n",
    "import pandas as pd\n",
    "import numpy as np\n",
    "import seaborn as sns\n",
    "import matplotlib.pyplot as plt\n",
    "import dask\n",
    "import dask.dataframe as dd\n",
    "\n",
    "import plotly.express as px\n",
    "import plotly.graph_objects as go\n",
    "\n",
    "from sklearn.model_selection import GridSearchCV, KFold,KFold, cross_val_score\n",
    "\n",
    "from sklearn.preprocessing import PolynomialFeatures, StandardScaler,RobustScaler \n",
    "\n",
    "from sklearn.pipeline import make_pipeline\n",
    "\n",
    "from sklearn.model_selection import train_test_split\n",
    "\n",
    "from sklearn.svm import SVC\n",
    "from sklearn.tree import DecisionTreeClassifier # Import Decision Tree Classifier\n",
    "from sklearn.linear_model import LogisticRegression,LinearRegression,Lasso\n",
    "\n",
    "from sklearn.metrics import accuracy_score, f1_score,mean_squared_error,classification_report,confusion_matrix\n",
    "\n",
    "from sklearn.naive_bayes import GaussianNB\n",
    "from sklearn.discriminant_analysis import QuadraticDiscriminantAnalysis\n",
    "\n",
    "from sklearn.model_selection import cross_val_score\n",
    "from sklearn.preprocessing import OneHotEncoder\n",
    "\n",
    "from sklearn.compose import make_column_transformer\n",
    "\n",
    "from scipy import stats\n",
    "import matplotlib.pyplot as plt\n",
    "from sklearn.pipeline import make_pipeline"
   ]
  },
  {
   "cell_type": "code",
   "execution_count": 172,
   "id": "3880705a",
   "metadata": {},
   "outputs": [],
   "source": [
    "df = pd.read_pickle(\"data_after_normalization-v1.pickle\")"
   ]
  },
  {
   "cell_type": "code",
   "execution_count": 173,
   "id": "81de590e",
   "metadata": {},
   "outputs": [],
   "source": [
    "df = df.drop(['Precipitation','Temperature','pd','Bahnhof','Restaurant'\n",
    "              ,'Biergarten','Community_Centre','Hospital','Kino','Parking','university','Charging_time_in_hours_log_New'], axis = 1)"
   ]
  },
  {
   "cell_type": "code",
   "execution_count": 174,
   "id": "4e77f96b",
   "metadata": {},
   "outputs": [],
   "source": [
    "df = df.rename(columns = {'Temperature_New':'Temperature', 'Precipitation_New':'Precipitation',\n",
    "                          'pd_New':'pd','Bahnhof_New':'Bahnhof','Restaurant_New':'Restaurant','Biergarten_New':'Biergarten',\n",
    "                          'Community_Centre_New':'Community_Centre', 'Hospital_New':'Hospital',\n",
    "                         'Kino_New':'Kino', 'Parking_New':'Parking','university_New':'university', 'Charging_Time_in_hours_New':'Charging_Time_in_hours',\n",
    "                          })"
   ]
  },
  {
   "cell_type": "code",
   "execution_count": 175,
   "id": "e26782d2",
   "metadata": {},
   "outputs": [],
   "source": [
    "df['Year'] = pd.to_datetime(df['datetime_start'], format='%Y')"
   ]
  },
  {
   "cell_type": "code",
   "execution_count": 176,
   "id": "d1b1b694",
   "metadata": {},
   "outputs": [
    {
     "name": "stdout",
     "output_type": "stream",
     "text": [
      "<class 'pandas.core.frame.DataFrame'>\n",
      "Int64Index: 1796287 entries, 0 to 1940933\n",
      "Data columns (total 30 columns):\n",
      " #   Column                      Dtype         \n",
      "---  ------                      -----         \n",
      " 0   park_id                     object        \n",
      " 1   clc_code                    object        \n",
      " 2   area_code                   object        \n",
      " 3   evse_id                     object        \n",
      " 4   datetime_start              datetime64[ns]\n",
      " 5   datetime_stop               datetime64[ns]\n",
      " 6   city                        object        \n",
      " 7   latitude                    float64       \n",
      " 8   longitude                   float64       \n",
      " 9   postal_code                 category      \n",
      " 10  Charging_Time_in_hours      float64       \n",
      " 11  year                        category      \n",
      " 12  month                       category      \n",
      " 13  day                         category      \n",
      " 14  day_of_week_name_Start      object        \n",
      " 15  Count_Charging              int64         \n",
      " 16  Charging_time_in_hours_log  float64       \n",
      " 17  Temperature                 float64       \n",
      " 18  Precipitation               float64       \n",
      " 19  pd                          float64       \n",
      " 20  Bahnhof                     float64       \n",
      " 21  Restaurant                  float64       \n",
      " 22  Biergarten                  float64       \n",
      " 23  Community_Centre            float64       \n",
      " 24  Hospital                    float64       \n",
      " 25  Kino                        float64       \n",
      " 26  Parking                     float64       \n",
      " 27  university                  float64       \n",
      " 28  Charging_Time_in_hours      float64       \n",
      " 29  Year                        datetime64[ns]\n",
      "dtypes: category(4), datetime64[ns](3), float64(16), int64(1), object(6)\n",
      "memory usage: 378.6+ MB\n"
     ]
    }
   ],
   "source": [
    "df.info()"
   ]
  },
  {
   "cell_type": "markdown",
   "id": "e4441e75",
   "metadata": {},
   "source": [
    "#  Charging time "
   ]
  },
  {
   "cell_type": "code",
   "execution_count": 177,
   "id": "f2049ad3",
   "metadata": {},
   "outputs": [],
   "source": [
    "df1 = df.groupby(['park_id']).mean().sort_values(['Charging_time_in_hours_log'],ascending=False)['Charging_time_in_hours_log']"
   ]
  },
  {
   "cell_type": "code",
   "execution_count": 178,
   "id": "799722f0",
   "metadata": {},
   "outputs": [
    {
     "data": {
      "text/plain": [
       "<bound method NDFrame.head of park_id\n",
       "sl_23895782                                2.491815\n",
       "sl_23894954                                2.239343\n",
       "sl_23895452                                2.237327\n",
       "hj_5535a319-b3eb-46af-b9a9-6346358ae7f6    2.200532\n",
       "sl_23894535                                2.173911\n",
       "                                             ...   \n",
       "sl_23894931                               -2.232757\n",
       "sl_23896428                               -2.305367\n",
       "sl_23895556                               -2.494023\n",
       "sl_23894668                               -2.846355\n",
       "sl_23896393                               -2.929893\n",
       "Name: Charging_time_in_hours_log, Length: 1197, dtype: float64>"
      ]
     },
     "execution_count": 178,
     "metadata": {},
     "output_type": "execute_result"
    }
   ],
   "source": [
    "df1.head"
   ]
  },
  {
   "cell_type": "code",
   "execution_count": 179,
   "id": "d395ddf2",
   "metadata": {},
   "outputs": [],
   "source": [
    "df1.to_csv(\"Park_idandCT.csv\")"
   ]
  },
  {
   "cell_type": "code",
   "execution_count": 180,
   "id": "a46c51b1",
   "metadata": {},
   "outputs": [],
   "source": [
    "df2 = df.groupby(['city']).mean().sort_values(['Charging_time_in_hours_log'],ascending=False)['Charging_time_in_hours_log']"
   ]
  },
  {
   "cell_type": "code",
   "execution_count": 181,
   "id": "db041c42",
   "metadata": {},
   "outputs": [],
   "source": [
    "df2.head\n",
    "df2.to_csv(\"cityandCT.csv\")"
   ]
  },
  {
   "cell_type": "code",
   "execution_count": 182,
   "id": "d9d3a98c",
   "metadata": {},
   "outputs": [],
   "source": [
    "df3 = df.groupby(['clc_code']).mean().sort_values(['Charging_time_in_hours_log'],ascending=False)['Charging_time_in_hours_log']"
   ]
  },
  {
   "cell_type": "code",
   "execution_count": 183,
   "id": "cc04a7ac",
   "metadata": {},
   "outputs": [],
   "source": [
    "df3.head()\n",
    "df3.to_csv(\"clcandCT.csv\")"
   ]
  },
  {
   "cell_type": "code",
   "execution_count": 184,
   "id": "cc81578f",
   "metadata": {},
   "outputs": [],
   "source": [
    "df4 = df.groupby(['year']).mean().sort_values(['Charging_time_in_hours_log'],ascending=False)['Charging_time_in_hours_log']"
   ]
  },
  {
   "cell_type": "code",
   "execution_count": 185,
   "id": "7ea4f24d",
   "metadata": {},
   "outputs": [],
   "source": [
    "df4\n",
    "df4.to_csv(\"yearandCT.csv\")"
   ]
  },
  {
   "cell_type": "code",
   "execution_count": 186,
   "id": "839079b8",
   "metadata": {},
   "outputs": [],
   "source": [
    "df5 = df.groupby(['month']).mean().sort_values(['Charging_time_in_hours_log'],ascending=False)['Charging_time_in_hours_log']"
   ]
  },
  {
   "cell_type": "code",
   "execution_count": 187,
   "id": "54e38639",
   "metadata": {},
   "outputs": [],
   "source": [
    "df5\n",
    "df5.to_csv(\"monthandCT.csv\")"
   ]
  },
  {
   "cell_type": "code",
   "execution_count": 188,
   "id": "ac78611b",
   "metadata": {},
   "outputs": [],
   "source": [
    "df6 = df.groupby(['day']).mean().sort_values(['Charging_time_in_hours_log'],ascending=False)['Charging_time_in_hours_log']"
   ]
  },
  {
   "cell_type": "code",
   "execution_count": 189,
   "id": "38168e32",
   "metadata": {},
   "outputs": [],
   "source": [
    "df6\n",
    "df6.to_csv(\"dayandCT.csv\")"
   ]
  },
  {
   "cell_type": "code",
   "execution_count": 190,
   "id": "d6b9cbb3",
   "metadata": {},
   "outputs": [],
   "source": [
    "df6 = df.groupby(['day_of_week_name_Start']).mean().sort_values(['Charging_time_in_hours_log'],ascending=False)['Charging_time_in_hours_log']"
   ]
  },
  {
   "cell_type": "code",
   "execution_count": 191,
   "id": "35be7591",
   "metadata": {},
   "outputs": [],
   "source": [
    "df6\n",
    "df6.to_csv(\"weekandCT.csv\")"
   ]
  },
  {
   "cell_type": "markdown",
   "id": "26c0a3f3",
   "metadata": {},
   "source": [
    "# Count"
   ]
  },
  {
   "cell_type": "code",
   "execution_count": 192,
   "id": "1fec92b3",
   "metadata": {},
   "outputs": [],
   "source": [
    "df_1 = df.groupby(['park_id']).count().sort_values(['Count_Charging'],ascending=False)['Count_Charging']"
   ]
  },
  {
   "cell_type": "code",
   "execution_count": 193,
   "id": "0047cd6d",
   "metadata": {},
   "outputs": [],
   "source": [
    "df_1.head()\n",
    "df_1.to_csv(\"PARKandCC.csv\")"
   ]
  },
  {
   "cell_type": "code",
   "execution_count": 194,
   "id": "3dc9edac",
   "metadata": {},
   "outputs": [],
   "source": [
    "df_2 = df.groupby(['city']).count().sort_values(['Count_Charging'],ascending=False)['Count_Charging']"
   ]
  },
  {
   "cell_type": "code",
   "execution_count": 195,
   "id": "b0a1a588",
   "metadata": {},
   "outputs": [],
   "source": [
    "df_2.head()\n",
    "df_2.to_csv(\"CITYandCC.csv\")"
   ]
  },
  {
   "cell_type": "code",
   "execution_count": 196,
   "id": "f86348dd",
   "metadata": {},
   "outputs": [],
   "source": [
    "df_3 = df.groupby(['clc_code']).count().sort_values(['Count_Charging'],ascending=False)['Count_Charging']"
   ]
  },
  {
   "cell_type": "code",
   "execution_count": 197,
   "id": "e9d34bad",
   "metadata": {},
   "outputs": [],
   "source": [
    "df_3.head()\n",
    "df_3.to_csv(\"CLCandCC.csv\")"
   ]
  },
  {
   "cell_type": "code",
   "execution_count": 198,
   "id": "3526e831",
   "metadata": {},
   "outputs": [],
   "source": [
    "df_4 = df.groupby(['year']).count().sort_values(['Count_Charging'],ascending=False)['Count_Charging']"
   ]
  },
  {
   "cell_type": "code",
   "execution_count": 199,
   "id": "50e0de9f",
   "metadata": {},
   "outputs": [],
   "source": [
    "df_4.head()\n",
    "df_4.to_csv(\"YEARandCC.csv\")"
   ]
  },
  {
   "cell_type": "code",
   "execution_count": 200,
   "id": "9f85d3cd",
   "metadata": {},
   "outputs": [],
   "source": [
    "df_5 = df.groupby(['month']).count().sort_values(['Count_Charging'],ascending=False)['Count_Charging']"
   ]
  },
  {
   "cell_type": "code",
   "execution_count": 201,
   "id": "1234b12d",
   "metadata": {},
   "outputs": [],
   "source": [
    "df_5\n",
    "df_5.to_csv(\"MONTHandCC.csv\")"
   ]
  },
  {
   "cell_type": "code",
   "execution_count": 202,
   "id": "f55c4f84",
   "metadata": {},
   "outputs": [],
   "source": [
    "df_6 = df.groupby(['day']).count().sort_values(['Count_Charging'],ascending=False)['Count_Charging']"
   ]
  },
  {
   "cell_type": "code",
   "execution_count": 203,
   "id": "c4034a23",
   "metadata": {},
   "outputs": [],
   "source": [
    "df_6.head()\n",
    "df_6.to_csv(\"DAYandCC.csv\")"
   ]
  },
  {
   "cell_type": "code",
   "execution_count": 204,
   "id": "7de19006",
   "metadata": {},
   "outputs": [],
   "source": [
    "df_7 = df.groupby(['day_of_week_name_Start']).count().sort_values(['Count_Charging'],ascending=False)['Count_Charging']"
   ]
  },
  {
   "cell_type": "code",
   "execution_count": 205,
   "id": "cec084aa",
   "metadata": {},
   "outputs": [],
   "source": [
    "df_7.head()\n",
    "df_7.to_csv(\"WEEkandCC.csv\")"
   ]
  },
  {
   "cell_type": "code",
   "execution_count": null,
   "id": "86a97501",
   "metadata": {},
   "outputs": [],
   "source": []
  },
  {
   "cell_type": "code",
   "execution_count": null,
   "id": "d9a0ec4b",
   "metadata": {},
   "outputs": [],
   "source": []
  },
  {
   "cell_type": "code",
   "execution_count": 84,
   "id": "ce6bb0b2",
   "metadata": {},
   "outputs": [],
   "source": [
    "df =df.groupby(\"Year\").mean().reset_index()"
   ]
  },
  {
   "cell_type": "code",
   "execution_count": 85,
   "id": "850132a3",
   "metadata": {},
   "outputs": [
    {
     "name": "stdout",
     "output_type": "stream",
     "text": [
      "<class 'pandas.core.frame.DataFrame'>\n",
      "RangeIndex: 761829 entries, 0 to 761828\n",
      "Data columns (total 17 columns):\n",
      " #   Column                      Non-Null Count   Dtype         \n",
      "---  ------                      --------------   -----         \n",
      " 0   Year                        761829 non-null  datetime64[ns]\n",
      " 1   latitude                    761829 non-null  float64       \n",
      " 2   longitude                   761829 non-null  float64       \n",
      " 3   Count_Charging              761829 non-null  float64       \n",
      " 4   Charging_time_in_hours_log  761826 non-null  float64       \n",
      " 5   Temperature                 761829 non-null  float64       \n",
      " 6   Precipitation               761829 non-null  float64       \n",
      " 7   pd                          761829 non-null  float64       \n",
      " 8   Bahnhof                     761829 non-null  float64       \n",
      " 9   Restaurant                  761829 non-null  float64       \n",
      " 10  Biergarten                  761829 non-null  float64       \n",
      " 11  Community_Centre            761829 non-null  float64       \n",
      " 12  Hospital                    761829 non-null  float64       \n",
      " 13  Kino                        761829 non-null  float64       \n",
      " 14  Parking                     761829 non-null  float64       \n",
      " 15  university                  761829 non-null  float64       \n",
      " 16  Charging_Time_in_hours      761829 non-null  float64       \n",
      "dtypes: datetime64[ns](1), float64(16)\n",
      "memory usage: 98.8 MB\n"
     ]
    }
   ],
   "source": [
    "df.info()"
   ]
  },
  {
   "cell_type": "code",
   "execution_count": 70,
   "id": "4ab22d3b",
   "metadata": {},
   "outputs": [],
   "source": [
    "data = df.copy()"
   ]
  },
  {
   "cell_type": "code",
   "execution_count": 71,
   "id": "2a878776",
   "metadata": {},
   "outputs": [],
   "source": [
    "year = pd.Categorical(data.park_id)\n",
    "data = data.set_index([\"park_id\"])"
   ]
  },
  {
   "cell_type": "code",
   "execution_count": 72,
   "id": "9b858f32",
   "metadata": {},
   "outputs": [],
   "source": [
    "data[\"parkid\"] = year"
   ]
  },
  {
   "cell_type": "code",
   "execution_count": 73,
   "id": "7f1aa1a7",
   "metadata": {},
   "outputs": [],
   "source": [
    "import statsmodels.api as sm\n",
    "from linearmodels.panel import PooledOLS"
   ]
  },
  {
   "cell_type": "code",
   "execution_count": 74,
   "id": "d63ca8a5",
   "metadata": {},
   "outputs": [
    {
     "name": "stderr",
     "output_type": "stream",
     "text": [
      "/home/col-gku/.local/lib/python3.8/site-packages/statsmodels/tsa/tsatools.py:142: FutureWarning: In a future version of pandas all arguments of concat except for the argument 'objs' will be keyword-only\n",
      "  x = pd.concat(x[::order], 1)\n"
     ]
    }
   ],
   "source": [
    "exog_vars = [\"Restaurant\", \"Biergarten\", \"Community_Centre\", \"Hospital\", \"Kino\", \"Parking\",\"university\"]\n",
    "exog = sm.add_constant(data[exog_vars])\n"
   ]
  },
  {
   "cell_type": "code",
   "execution_count": null,
   "id": "9d3cb5a1",
   "metadata": {},
   "outputs": [],
   "source": []
  },
  {
   "cell_type": "code",
   "execution_count": null,
   "id": "775aff42",
   "metadata": {},
   "outputs": [],
   "source": []
  }
 ],
 "metadata": {
  "kernelspec": {
   "display_name": "Python 3",
   "language": "python",
   "name": "python3"
  },
  "language_info": {
   "codemirror_mode": {
    "name": "ipython",
    "version": 3
   },
   "file_extension": ".py",
   "mimetype": "text/x-python",
   "name": "python",
   "nbconvert_exporter": "python",
   "pygments_lexer": "ipython3",
   "version": "3.8.8"
  }
 },
 "nbformat": 4,
 "nbformat_minor": 5
}
