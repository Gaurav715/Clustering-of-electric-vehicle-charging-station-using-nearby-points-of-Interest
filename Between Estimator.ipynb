{
 "cells": [
  {
   "cell_type": "code",
   "execution_count": 2,
   "id": "0ef4032c",
   "metadata": {},
   "outputs": [],
   "source": [
    "import pandas as pd\n",
    "import numpy as np\n",
    "import seaborn as sns\n",
    "import matplotlib.pyplot as plt\n",
    "import dask\n",
    "import dask.dataframe as dd\n",
    "\n",
    "from sklearn.model_selection import GridSearchCV, KFold,KFold, cross_val_score\n",
    "\n",
    "from sklearn.preprocessing import PolynomialFeatures, StandardScaler,RobustScaler \n",
    "\n",
    "from sklearn.pipeline import make_pipeline\n",
    "\n",
    "from sklearn.model_selection import train_test_split\n",
    "import statsmodels.formula.api as smf\n",
    "import statsmodels.stats.api as sms\n",
    "from statsmodels.compat import lzip\n",
    "from sklearn.svm import SVC\n",
    "from sklearn.tree import DecisionTreeClassifier # Import Decision Tree Classifier\n",
    "from sklearn.linear_model import LogisticRegression,LinearRegression,Lasso\n",
    "\n",
    "from sklearn.metrics import accuracy_score, f1_score,mean_squared_error,classification_report,confusion_matrix\n",
    "\n",
    "from sklearn.naive_bayes import GaussianNB\n",
    "from sklearn.discriminant_analysis import QuadraticDiscriminantAnalysis\n",
    "\n",
    "from sklearn.model_selection import cross_val_score\n",
    "from sklearn.preprocessing import OneHotEncoder\n",
    "\n",
    "from sklearn.compose import make_column_transformer\n",
    "from sklearn.pipeline import make_pipeline\n",
    "import pandas as pd\n",
    "import numpy as np\n",
    "import seaborn as sns\n",
    "import matplotlib.pyplot as plt\n",
    "import dask\n",
    "import dask.dataframe as dd\n",
    "\n",
    "import plotly.express as px\n",
    "import plotly.graph_objects as go\n",
    "\n",
    "from sklearn.model_selection import GridSearchCV, KFold,KFold, cross_val_score\n",
    "\n",
    "from sklearn.preprocessing import PolynomialFeatures, StandardScaler,RobustScaler \n",
    "\n",
    "from sklearn.pipeline import make_pipeline\n",
    "\n",
    "from sklearn.model_selection import train_test_split\n",
    "\n",
    "from sklearn.svm import SVC\n",
    "from sklearn.tree import DecisionTreeClassifier # Import Decision Tree Classifier\n",
    "from sklearn.linear_model import LogisticRegression,LinearRegression,Lasso\n",
    "\n",
    "from sklearn.metrics import accuracy_score, f1_score,mean_squared_error,classification_report,confusion_matrix\n",
    "\n",
    "from sklearn.naive_bayes import GaussianNB\n",
    "from sklearn.discriminant_analysis import QuadraticDiscriminantAnalysis\n",
    "\n",
    "from sklearn.model_selection import cross_val_score\n",
    "from sklearn.preprocessing import OneHotEncoder\n",
    "\n",
    "from sklearn.compose import make_column_transformer\n",
    "\n",
    "from scipy import stats\n",
    "import matplotlib.pyplot as plt\n",
    "from sklearn.pipeline import make_pipeline\n",
    "\n",
    "import statsmodels.api as sm\n",
    "from linearmodels.panel import PooledOLS"
   ]
  },
  {
   "cell_type": "code",
   "execution_count": 3,
   "id": "e55fa789",
   "metadata": {},
   "outputs": [],
   "source": [
    "df = pd.read_pickle(\"data_after_normalization-v1.pickle\")"
   ]
  },
  {
   "cell_type": "code",
   "execution_count": 4,
   "id": "53934b22",
   "metadata": {},
   "outputs": [],
   "source": [
    "df = df.drop(['Charging_Time_in_hours', 'Precipitation','Temperature','pd','Bahnhof','Restaurant'\n",
    "              ,'Biergarten','Community_Centre','Hospital','Kino','Parking','university','Charging_time_in_hours_log_New'], axis = 1)"
   ]
  },
  {
   "cell_type": "code",
   "execution_count": 5,
   "id": "9986afab",
   "metadata": {},
   "outputs": [],
   "source": [
    "df = df.rename(columns = {'Temperature_New':'Temperature', 'Precipitation_New':'Precipitation',\n",
    "                          'pd_New':'pd','Bahnhof_New':'Bahnhof','Restaurant_New':'Restaurant','Biergarten_New':'Biergarten',\n",
    "                          'Community_Centre_New':'Community_Centre', 'Hospital_New':'Hospital',\n",
    "                         'Kino_New':'Kino', 'Parking_New':'Parking','university_New':'university', 'Charging_Time_in_hours_New':'Charging_Time_in_hours',\n",
    "                          })"
   ]
  },
  {
   "cell_type": "code",
   "execution_count": 6,
   "id": "d76cc9cc",
   "metadata": {},
   "outputs": [],
   "source": [
    "df['Year'] = pd.to_datetime(df['datetime_start'], format='%Y')"
   ]
  },
  {
   "cell_type": "code",
   "execution_count": 7,
   "id": "97210560",
   "metadata": {},
   "outputs": [],
   "source": [
    "df['Month'] = pd.to_datetime(df['datetime_start'], format='%M')"
   ]
  },
  {
   "cell_type": "code",
   "execution_count": 8,
   "id": "fffcee14",
   "metadata": {},
   "outputs": [],
   "source": [
    "df['Day'] = pd.to_datetime(df['datetime_start'], format='%D')"
   ]
  },
  {
   "cell_type": "code",
   "execution_count": 9,
   "id": "e6141477",
   "metadata": {},
   "outputs": [],
   "source": [
    "data = df.copy()"
   ]
  },
  {
   "cell_type": "code",
   "execution_count": 10,
   "id": "723edb90",
   "metadata": {},
   "outputs": [],
   "source": [
    "year = pd.Categorical(data.Year)\n",
    "data = data.set_index([\"evse_id\",\"Year\"])"
   ]
  },
  {
   "cell_type": "code",
   "execution_count": 11,
   "id": "1e6b7e25",
   "metadata": {},
   "outputs": [],
   "source": [
    "data[\"Year\"] = year"
   ]
  },
  {
   "cell_type": "code",
   "execution_count": 12,
   "id": "7d6b5e20",
   "metadata": {},
   "outputs": [
    {
     "name": "stderr",
     "output_type": "stream",
     "text": [
      "/home/col-gku/.local/lib/python3.8/site-packages/statsmodels/tsa/tsatools.py:142: FutureWarning: In a future version of pandas all arguments of concat except for the argument 'objs' will be keyword-only\n",
      "  x = pd.concat(x[::order], 1)\n"
     ]
    }
   ],
   "source": [
    "exog_vars = [\"Temperature\",\"pd\",\"Precipitation\",\"day_of_week_name_Start\",\"month\",\"year\",\"clc_code\",\"Restaurant\", \"Biergarten\", \"Community_Centre\", \"Hospital\", \"Kino\", \"Parking\" ,\"university\",\"Bahnhof\"]\n",
    "exog = sm.add_constant(data[exog_vars])"
   ]
  },
  {
   "cell_type": "code",
   "execution_count": 13,
   "id": "f29054fd",
   "metadata": {},
   "outputs": [
    {
     "name": "stderr",
     "output_type": "stream",
     "text": [
      "/home/col-gku/.local/lib/python3.8/site-packages/linearmodels/shared/exceptions.py:35: MissingValueWarning: \n",
      "Inputs contain missing values. Dropping rows with missing observations.\n",
      "  warnings.warn(missing_value_warning_msg, MissingValueWarning)\n"
     ]
    },
    {
     "name": "stdout",
     "output_type": "stream",
     "text": [
      "\\begin{center}\n",
      "\\begin{tabular}{lclc}\n",
      "\\toprule\n",
      "\\textbf{Dep. Variable:}                       & Charging\\_time\\_in\\_hours\\_log & \\textbf{  R-squared:         }   &      0.2664      \\\\\n",
      "\\textbf{Estimator:}                           &           BetweenOLS           & \\textbf{  R-squared (Between):}  &      0.2664      \\\\\n",
      "\\textbf{No. Observations:}                    &              1877              & \\textbf{  R-squared (Within):}   &     -0.2746      \\\\\n",
      "\\textbf{Date:}                                &        Wed, Jan 26 2022        & \\textbf{  R-squared (Overall):}  &     -0.2814      \\\\\n",
      "\\textbf{Time:}                                &            11:42:44            & \\textbf{  Log-likelihood     }   &     -1941.1      \\\\\n",
      "\\textbf{Cov. Estimator:}                      &           Unadjusted           & \\textbf{                     }   &                  \\\\\n",
      "\\textbf{}                                     &                                & \\textbf{  F-statistic:       }   &      20.279      \\\\\n",
      "\\textbf{Entities:}                            &              1877              & \\textbf{  P-value            }   &      0.0000      \\\\\n",
      "\\textbf{Avg Obs:}                             &             957.00             & \\textbf{  Distribution:      }   &    F(33,1843)    \\\\\n",
      "\\textbf{Min Obs:}                             &             1.0000             & \\textbf{                     }   &                  \\\\\n",
      "\\textbf{Max Obs:}                             &           1.068e+04            & \\textbf{  F-statistic (robust):} &      20.279      \\\\\n",
      "\\textbf{}                                     &                                & \\textbf{  P-value            }   &      0.0000      \\\\\n",
      "\\textbf{Time periods:}                        &             761826             & \\textbf{  Distribution:      }   &    F(33,1843)    \\\\\n",
      "\\textbf{Avg Obs:}                             &             2.3579             & \\textbf{                     }   &                  \\\\\n",
      "\\textbf{Min Obs:}                             &             1.0000             & \\textbf{                     }   &                  \\\\\n",
      "\\textbf{Max Obs:}                             &             161.00             & \\textbf{                     }   &                  \\\\\n",
      "\\bottomrule\n",
      "\\end{tabular}\n",
      "\\begin{tabular}{lcccccc}\n",
      "                                              & \\textbf{Parameter} & \\textbf{Std. Err.} & \\textbf{T-stat} & \\textbf{P-value} & \\textbf{Lower CI} & \\textbf{Upper CI}  \\\\\n",
      "\\midrule\n",
      "\\textbf{const}                                &       3.2858       &       0.4549       &      7.2235     &      0.0000      &       2.3937      &       4.1779       \\\\\n",
      "\\textbf{Temperature}                          &      -0.1852       &       0.0338       &     -5.4828     &      0.0000      &      -0.2515      &      -0.1190       \\\\\n",
      "\\textbf{pd}                                   &       0.0302       &       0.0022       &      13.477     &      0.0000      &       0.0258      &       0.0345       \\\\\n",
      "\\textbf{Precipitation}                        &       0.0583       &       0.1450       &      0.4018     &      0.6879      &      -0.2262      &       0.3427       \\\\\n",
      "\\textbf{day\\_of\\_week\\_name\\_Start.Monday}    &      -1.0705       &       0.3079       &     -3.4764     &      0.0005      &      -1.6745      &      -0.4666       \\\\\n",
      "\\textbf{day\\_of\\_week\\_name\\_Start.Saturday}  &      -1.5927       &       0.2923       &     -5.4492     &      0.0000      &      -2.1659      &      -1.0194       \\\\\n",
      "\\textbf{day\\_of\\_week\\_name\\_Start.Sunday}    &      -2.4055       &       0.3138       &     -7.6649     &      0.0000      &      -3.0210      &      -1.7900       \\\\\n",
      "\\textbf{day\\_of\\_week\\_name\\_Start.Thursday}  &      -2.3432       &       0.2686       &     -8.7222     &      0.0000      &      -2.8701      &      -1.8163       \\\\\n",
      "\\textbf{day\\_of\\_week\\_name\\_Start.Tuesday}   &      -0.7664       &       0.2703       &     -2.8357     &      0.0046      &      -1.2965      &      -0.2363       \\\\\n",
      "\\textbf{day\\_of\\_week\\_name\\_Start.Wednesday} &      -0.8057       &       0.2745       &     -2.9354     &      0.0034      &      -1.3440      &      -0.2674       \\\\\n",
      "\\textbf{month.2}                              &       0.7698       &       0.4311       &      1.7856     &      0.0743      &      -0.0757      &       1.6154       \\\\\n",
      "\\textbf{month.3}                              &      -0.2096       &       0.3770       &     -0.5559     &      0.5783      &      -0.9490      &       0.5298       \\\\\n",
      "\\textbf{month.4}                              &       0.9289       &       0.4024       &      2.3082     &      0.0211      &       0.1396      &       1.7182       \\\\\n",
      "\\textbf{month.5}                              &       0.2560       &       0.4028       &      0.6357     &      0.5251      &      -0.5339      &       1.0460       \\\\\n",
      "\\textbf{month.6}                              &       0.6814       &       0.4125       &      1.6520     &      0.0987      &      -0.1276      &       1.4905       \\\\\n",
      "\\textbf{month.7}                              &       0.2485       &       0.3914       &      0.6349     &      0.5255      &      -0.5191      &       1.0161       \\\\\n",
      "\\textbf{month.8}                              &       0.6467       &       0.4135       &      1.5640     &      0.1180      &      -0.1643      &       1.4576       \\\\\n",
      "\\textbf{month.9}                              &       1.2222       &       0.4465       &      2.7375     &      0.0063      &       0.3466      &       2.0978       \\\\\n",
      "\\textbf{month.10}                             &       1.0261       &       0.4339       &      2.3651     &      0.0181      &       0.1752      &       1.8770       \\\\\n",
      "\\textbf{month.11}                             &       0.7675       &       0.4660       &      1.6472     &      0.0997      &      -0.1464      &       1.6814       \\\\\n",
      "\\textbf{month.12}                             &      -0.2473       &       0.4736       &     -0.5222     &      0.6016      &      -1.1760      &       0.6815       \\\\\n",
      "\\textbf{year.2020}                            &      -0.2580       &       0.1092       &     -2.3625     &      0.0183      &      -0.4722      &      -0.0438       \\\\\n",
      "\\textbf{year.2021}                            &       0.1506       &       0.1265       &      1.1913     &      0.2337      &      -0.0974      &       0.3986       \\\\\n",
      "\\textbf{clc\\_code.Suburban}                   &      -0.0031       &       0.0424       &     -0.0743     &      0.9408      &      -0.0862      &       0.0799       \\\\\n",
      "\\textbf{clc\\_code.Uninhabited}                &      -0.3506       &       0.0951       &     -3.6877     &      0.0002      &      -0.5370      &      -0.1641       \\\\\n",
      "\\textbf{clc\\_code.Urban}                      &       0.1754       &       0.0490       &      3.5833     &      0.0003      &       0.0794      &       0.2714       \\\\\n",
      "\\textbf{Restaurant}                           &       0.0228       &       0.0365       &      0.6232     &      0.5332      &      -0.0489      &       0.0944       \\\\\n",
      "\\textbf{Biergarten}                           &      -0.0138       &       0.0064       &     -2.1441     &      0.0322      &      -0.0264      &      -0.0012       \\\\\n",
      "\\textbf{Community\\_Centre}                    &       0.0171       &       0.0074       &      2.3314     &      0.0198      &       0.0027      &       0.0316       \\\\\n",
      "\\textbf{Hospital}                             &      -0.0021       &       0.0018       &     -1.1504     &      0.2501      &      -0.0057      &       0.0015       \\\\\n",
      "\\textbf{Kino}                                 &      -0.0026       &       0.0039       &     -0.6612     &      0.5085      &      -0.0102      &       0.0051       \\\\\n",
      "\\textbf{Parking}                              &       0.0070       &       0.0095       &      0.7323     &      0.4641      &      -0.0117      &       0.0256       \\\\\n",
      "\\textbf{university}                           &      -0.0033       &       0.0020       &     -1.6833     &      0.0925      &      -0.0071      &       0.0005       \\\\\n",
      "\\textbf{Bahnhof}                              &      -0.0005       &       0.0017       &     -0.2860     &      0.7749      &      -0.0039      &       0.0029       \\\\\n",
      "\\bottomrule\n",
      "\\end{tabular}\n",
      "%\\caption{BetweenOLS Estimation Summary}\n",
      "\\end{center}\n"
     ]
    }
   ],
   "source": [
    "from linearmodels.panel import BetweenOLS\n",
    "mod3 = BetweenOLS(data.Charging_time_in_hours_log, exog)\n",
    "be_res = mod3.fit(weights=True,rank_check=False)\n",
    "print((be_res.summary).as_latex())"
   ]
  },
  {
   "cell_type": "code",
   "execution_count": 15,
   "id": "50cc8b7a",
   "metadata": {},
   "outputs": [
    {
     "name": "stderr",
     "output_type": "stream",
     "text": [
      "/home/col-gku/.local/lib/python3.8/site-packages/linearmodels/shared/exceptions.py:35: MissingValueWarning: \n",
      "Inputs contain missing values. Dropping rows with missing observations.\n",
      "  warnings.warn(missing_value_warning_msg, MissingValueWarning)\n"
     ]
    },
    {
     "ename": "AttributeError",
     "evalue": "'Summary' object has no attribute 'as_latex_tabular'",
     "output_type": "error",
     "traceback": [
      "\u001b[0;31m---------------------------------------------------------------------------\u001b[0m",
      "\u001b[0;31mAttributeError\u001b[0m                            Traceback (most recent call last)",
      "\u001b[0;32m<ipython-input-15-ad74030b0619>\u001b[0m in \u001b[0;36m<module>\u001b[0;34m\u001b[0m\n\u001b[1;32m      2\u001b[0m \u001b[0mmod3\u001b[0m \u001b[0;34m=\u001b[0m \u001b[0mBetweenOLS\u001b[0m\u001b[0;34m(\u001b[0m\u001b[0mdata\u001b[0m\u001b[0;34m.\u001b[0m\u001b[0mCharging_time_in_hours_log\u001b[0m\u001b[0;34m,\u001b[0m \u001b[0mexog\u001b[0m\u001b[0;34m)\u001b[0m\u001b[0;34m\u001b[0m\u001b[0;34m\u001b[0m\u001b[0m\n\u001b[1;32m      3\u001b[0m \u001b[0mbe_res\u001b[0m \u001b[0;34m=\u001b[0m \u001b[0mmod3\u001b[0m\u001b[0;34m.\u001b[0m\u001b[0mfit\u001b[0m\u001b[0;34m(\u001b[0m\u001b[0mweights\u001b[0m\u001b[0;34m=\u001b[0m\u001b[0;32mTrue\u001b[0m\u001b[0;34m,\u001b[0m\u001b[0mrank_check\u001b[0m\u001b[0;34m=\u001b[0m\u001b[0;32mFalse\u001b[0m\u001b[0;34m)\u001b[0m\u001b[0;34m\u001b[0m\u001b[0;34m\u001b[0m\u001b[0m\n\u001b[0;32m----> 4\u001b[0;31m \u001b[0mprint\u001b[0m\u001b[0;34m(\u001b[0m\u001b[0;34m(\u001b[0m\u001b[0mbe_res\u001b[0m\u001b[0;34m.\u001b[0m\u001b[0msummary\u001b[0m\u001b[0;34m)\u001b[0m\u001b[0;34m.\u001b[0m\u001b[0mas_latex_tabular\u001b[0m\u001b[0;34m(\u001b[0m\u001b[0;34m)\u001b[0m\u001b[0;34m)\u001b[0m\u001b[0;34m\u001b[0m\u001b[0;34m\u001b[0m\u001b[0m\n\u001b[0m",
      "\u001b[0;31mAttributeError\u001b[0m: 'Summary' object has no attribute 'as_latex_tabular'"
     ]
    }
   ],
   "source": [
    "from linearmodels.panel import BetweenOLS\n",
    "mod3 = BetweenOLS(data.Charging_time_in_hours_log, exog)\n",
    "be_res = mod3.fit(weights=True,rank_check=False)\n",
    "print((be_res.summary).as_latex_tabular())"
   ]
  },
  {
   "cell_type": "code",
   "execution_count": null,
   "id": "c9cd4566",
   "metadata": {},
   "outputs": [],
   "source": [
    "#import sys\n",
    "#filename  = open(\"be_res\",'w')\n",
    "#sys.stdout = filename\n",
    "#print(be_res)"
   ]
  },
  {
   "cell_type": "code",
   "execution_count": null,
   "id": "a449c8e7",
   "metadata": {},
   "outputs": [],
   "source": [
    "print(be_res.summary().as_latex())"
   ]
  },
  {
   "cell_type": "code",
   "execution_count": null,
   "id": "f1a36768",
   "metadata": {},
   "outputs": [],
   "source": []
  },
  {
   "cell_type": "code",
   "execution_count": null,
   "id": "c5412b79",
   "metadata": {},
   "outputs": [],
   "source": []
  }
 ],
 "metadata": {
  "kernelspec": {
   "display_name": "Python 3",
   "language": "python",
   "name": "python3"
  },
  "language_info": {
   "codemirror_mode": {
    "name": "ipython",
    "version": 3
   },
   "file_extension": ".py",
   "mimetype": "text/x-python",
   "name": "python",
   "nbconvert_exporter": "python",
   "pygments_lexer": "ipython3",
   "version": "3.8.8"
  }
 },
 "nbformat": 4,
 "nbformat_minor": 5
}
