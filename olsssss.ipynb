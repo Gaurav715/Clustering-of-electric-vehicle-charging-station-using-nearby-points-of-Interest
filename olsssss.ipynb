{
 "cells": [
  {
   "cell_type": "code",
   "execution_count": 30,
   "id": "9ac05c27",
   "metadata": {},
   "outputs": [],
   "source": [
    "import pandas as pd\n",
    "import numpy as np\n",
    "import seaborn as sns\n",
    "import matplotlib.pyplot as plt\n",
    "import dask\n",
    "import dask.dataframe as dd\n",
    "\n",
    "from sklearn.model_selection import GridSearchCV, KFold,KFold, cross_val_score\n",
    "\n",
    "from sklearn.preprocessing import PolynomialFeatures, StandardScaler,RobustScaler \n",
    "\n",
    "from sklearn.pipeline import make_pipeline\n",
    "\n",
    "from sklearn.model_selection import train_test_split\n",
    "import statsmodels.formula.api as smf\n",
    "import statsmodels.stats.api as sms\n",
    "from statsmodels.compat import lzip\n",
    "from sklearn.svm import SVC\n",
    "from sklearn.tree import DecisionTreeClassifier # Import Decision Tree Classifier\n",
    "from sklearn.linear_model import LogisticRegression,LinearRegression,Lasso\n",
    "\n",
    "from sklearn.metrics import accuracy_score, f1_score,mean_squared_error,classification_report,confusion_matrix\n",
    "\n",
    "from sklearn.naive_bayes import GaussianNB\n",
    "from sklearn.discriminant_analysis import QuadraticDiscriminantAnalysis\n",
    "\n",
    "from sklearn.model_selection import cross_val_score\n",
    "from sklearn.preprocessing import OneHotEncoder\n",
    "\n",
    "from sklearn.compose import make_column_transformer\n",
    "from sklearn.pipeline import make_pipeline\n",
    "import pandas as pd\n",
    "import numpy as np\n",
    "import seaborn as sns\n",
    "import matplotlib.pyplot as plt\n",
    "import dask\n",
    "import dask.dataframe as dd\n",
    "\n",
    "import plotly.express as px\n",
    "import plotly.graph_objects as go\n",
    "\n",
    "from sklearn.model_selection import GridSearchCV, KFold,KFold, cross_val_score\n",
    "\n",
    "from sklearn.preprocessing import PolynomialFeatures, StandardScaler,RobustScaler \n",
    "\n",
    "from sklearn.pipeline import make_pipeline\n",
    "\n",
    "from sklearn.model_selection import train_test_split\n",
    "\n",
    "from sklearn.svm import SVC\n",
    "from sklearn.tree import DecisionTreeClassifier # Import Decision Tree Classifier\n",
    "from sklearn.linear_model import LogisticRegression,LinearRegression,Lasso\n",
    "\n",
    "from sklearn.metrics import accuracy_score, f1_score,mean_squared_error,classification_report,confusion_matrix\n",
    "\n",
    "from sklearn.naive_bayes import GaussianNB\n",
    "from sklearn.discriminant_analysis import QuadraticDiscriminantAnalysis\n",
    "\n",
    "from sklearn.model_selection import cross_val_score\n",
    "from sklearn.preprocessing import OneHotEncoder\n",
    "\n",
    "from sklearn.compose import make_column_transformer\n",
    "\n",
    "from scipy import stats\n",
    "import matplotlib.pyplot as plt\n",
    "from sklearn.pipeline import make_pipeline"
   ]
  },
  {
   "cell_type": "code",
   "execution_count": 41,
   "id": "562701d2",
   "metadata": {},
   "outputs": [],
   "source": [
    "df = pd.read_pickle(\"data_after_normalization.pickle\")"
   ]
  },
  {
   "cell_type": "code",
   "execution_count": 42,
   "id": "533356d8",
   "metadata": {},
   "outputs": [],
   "source": [
    "dt = df.copy()"
   ]
  },
  {
   "cell_type": "code",
   "execution_count": 43,
   "id": "4f70c0bd",
   "metadata": {},
   "outputs": [
    {
     "name": "stdout",
     "output_type": "stream",
     "text": [
      "<class 'pandas.core.frame.DataFrame'>\n",
      "Int64Index: 1796287 entries, 0 to 1940933\n",
      "Data columns (total 39 columns):\n",
      " #   Column                      Dtype         \n",
      "---  ------                      -----         \n",
      " 0   park_id                     object        \n",
      " 1   clc_code                    object        \n",
      " 2   area_code                   object        \n",
      " 3   evse_id                     object        \n",
      " 4   datetime_start              datetime64[ns]\n",
      " 5   datetime_stop               datetime64[ns]\n",
      " 6   city                        object        \n",
      " 7   latitude                    float64       \n",
      " 8   longitude                   float64       \n",
      " 9   postal_code                 category      \n",
      " 10  Charging_Time_in_hours      float64       \n",
      " 11  year                        category      \n",
      " 12  month                       category      \n",
      " 13  day                         category      \n",
      " 14  day_of_week_name_Start      object        \n",
      " 15  Precipitation               float64       \n",
      " 16  Temperature                 float64       \n",
      " 17  pd                          float64       \n",
      " 18  Count_Charging              int64         \n",
      " 19  Charging_time_in_hours_log  float64       \n",
      " 20  Bahnhof                     float64       \n",
      " 21  Restaurant                  float64       \n",
      " 22  Biergarten                  float64       \n",
      " 23  Community_Centre            float64       \n",
      " 24  Hospital                    float64       \n",
      " 25  Kino                        float64       \n",
      " 26  Parking                     float64       \n",
      " 27  university                  float64       \n",
      " 28  Temperature_New             float64       \n",
      " 29  Precipitation_New           float64       \n",
      " 30  pd_New                      float64       \n",
      " 31  Bahnhof_New                 float64       \n",
      " 32  Restaurant_New              float64       \n",
      " 33  Biergarten_New              float64       \n",
      " 34  Community_Centre_New        float64       \n",
      " 35  Hospital_New                float64       \n",
      " 36  Kino_New                    float64       \n",
      " 37  Parking_New                 float64       \n",
      " 38  university_New              float64       \n",
      "dtypes: category(4), datetime64[ns](2), float64(26), int64(1), object(6)\n",
      "memory usage: 501.9+ MB\n"
     ]
    }
   ],
   "source": [
    "df.info()"
   ]
  },
  {
   "cell_type": "code",
   "execution_count": 56,
   "id": "cc26a1d2",
   "metadata": {},
   "outputs": [],
   "source": [
    "dt1 =dt[[\"Charging_Time_in_hours\",\"Precipitation_New\",\"Temperature_New\",\n",
    "        \"pd_New\",\"Charging_time_in_hours_log\",\"Bahnhof_New\",\"Restaurant_New\",\"Biergarten_New\",\"Community_Centre_New\",\n",
    "        \"Hospital_New\",\"Kino_New\",\"Parking_New\",\"university_New\"]]"
   ]
  },
  {
   "cell_type": "code",
   "execution_count": 57,
   "id": "77c36c91",
   "metadata": {},
   "outputs": [],
   "source": [
    "dt1 = dt1.rename(columns={\"Precipitation_New\": \"Precipitation\",\"Temperature_New\":\"Temperature\",\n",
    "                         \"pd_New\": \"pd\",\"Bahnhof_New\":\"Bahnhof\",\"Restaurant_New\": \"Restaurant\",\n",
    "                         \"Biergarten_New\":\"Biergarten\",\"Community_Centre_New\":\"Community_Centre\",\n",
    "                         \"Hospital_New\":\"Hospital\",\"Kino_New\":\"Kino\",\"Parking_New\":\"Parking\",\n",
    "                         \"university_New\":\"university\"})"
   ]
  },
  {
   "cell_type": "code",
   "execution_count": 58,
   "id": "332bc67f",
   "metadata": {},
   "outputs": [],
   "source": [
    "dt1 =dt1[dt1>0]"
   ]
  },
  {
   "cell_type": "code",
   "execution_count": 60,
   "id": "ecf94da8",
   "metadata": {},
   "outputs": [],
   "source": [
    "dt1[\"Charging_Time_in_hours_bx\"], _ = stats.boxcox(dt1.Charging_Time_in_hours)"
   ]
  },
  {
   "cell_type": "code",
   "execution_count": 65,
   "id": "b71803ca",
   "metadata": {},
   "outputs": [],
   "source": [
    "dt1.to_csv(\"bxcx.csv\")"
   ]
  },
  {
   "cell_type": "code",
   "execution_count": 62,
   "id": "edcb609a",
   "metadata": {},
   "outputs": [],
   "source": [
    "results = smf.ols(\"Charging_Time_in_hours_bx ~ pd+Precipitation+Temperature+Parking+university+Biergarten+Kino+Restaurant+Community_Centre+Hospital+Bahnhof\",\n",
    "                  data=dt1).fit()"
   ]
  },
  {
   "cell_type": "code",
   "execution_count": 63,
   "id": "1b0dde5b",
   "metadata": {},
   "outputs": [
    {
     "name": "stdout",
     "output_type": "stream",
     "text": [
      "                                OLS Regression Results                               \n",
      "=====================================================================================\n",
      "Dep. Variable:     Charging_Time_in_hours_bx   R-squared:                       0.001\n",
      "Model:                                   OLS   Adj. R-squared:                  0.001\n",
      "Method:                        Least Squares   F-statistic:                     49.56\n",
      "Date:                       Thu, 23 Dec 2021   Prob (F-statistic):          8.16e-110\n",
      "Time:                               23:51:08   Log-Likelihood:            -1.4285e+07\n",
      "No. Observations:                     570205   AIC:                         2.857e+07\n",
      "Df Residuals:                         570193   BIC:                         2.857e+07\n",
      "Df Model:                                 11                                         \n",
      "Covariance Type:                   nonrobust                                         \n",
      "====================================================================================\n",
      "                       coef    std err          t      P>|t|      [0.025      0.975]\n",
      "------------------------------------------------------------------------------------\n",
      "Intercept         1.011e+10   1.01e+08    100.027      0.000    9.92e+09    1.03e+10\n",
      "pd                3.251e+07   3.71e+06      8.767      0.000    2.52e+07    3.98e+07\n",
      "Precipitation    -1.887e+08   3.12e+07     -6.055      0.000    -2.5e+08   -1.28e+08\n",
      "Temperature      -5.083e+07   8.47e+06     -5.998      0.000   -6.74e+07   -3.42e+07\n",
      "Parking           1.345e+08    7.7e+07      1.747      0.081   -1.64e+07    2.85e+08\n",
      "university        1.858e+06   3.15e+06      0.590      0.555   -4.31e+06    8.02e+06\n",
      "Biergarten       -1.841e+08   4.96e+07     -3.715      0.000   -2.81e+08    -8.7e+07\n",
      "Kino              7.747e+07   1.05e+07      7.396      0.000    5.69e+07     9.8e+07\n",
      "Restaurant        -1.02e+08   8.03e+07     -1.270      0.204   -2.59e+08    5.54e+07\n",
      "Community_Centre   8.74e+07   9.65e+06      9.060      0.000    6.85e+07    1.06e+08\n",
      "Hospital         -3.738e+07   3.65e+06    -10.232      0.000   -4.45e+07   -3.02e+07\n",
      "Bahnhof           2.593e+07   2.61e+06      9.940      0.000    2.08e+07     3.1e+07\n",
      "==============================================================================\n",
      "Omnibus:                   150635.054   Durbin-Watson:                   1.691\n",
      "Prob(Omnibus):                  0.000   Jarque-Bera (JB):           302236.333\n",
      "Skew:                           1.669   Prob(JB):                         0.00\n",
      "Kurtosis:                       4.255   Cond. No.                         81.9\n",
      "==============================================================================\n",
      "\n",
      "Notes:\n",
      "[1] Standard Errors assume that the covariance matrix of the errors is correctly specified.\n"
     ]
    }
   ],
   "source": [
    "print(results.summary())"
   ]
  },
  {
   "cell_type": "code",
   "execution_count": 49,
   "id": "edbbe744",
   "metadata": {},
   "outputs": [],
   "source": [
    "dt2 =dt[[\"Charging_Time_in_hours\",\"Precipitation_New\",\"Temperature_New\",\n",
    "        \"pd_New\",\"Charging_time_in_hours_log\",\"Bahnhof_New\",\"Restaurant_New\",\"Biergarten_New\",\"Community_Centre_New\",\n",
    "        \"Hospital_New\",\"Kino_New\",\"Parking_New\",\"university_New\"]]\n",
    "\n"
   ]
  },
  {
   "cell_type": "code",
   "execution_count": 50,
   "id": "5f20e31f",
   "metadata": {},
   "outputs": [],
   "source": [
    "dt2 = dt2.rename(columns={\"Precipitation_New\": \"Precipitation\",\"Temperature_New\":\"Temperature\",\n",
    "                         \"pd_New\": \"pd\",\"Bahnhof_New\":\"Bahnhof\",\"Restaurant_New\": \"Restaurant\",\n",
    "                         \"Biergarten_New\":\"Biergarten\",\"Community_Centre_New\":\"Community_Centre\",\n",
    "                         \"Hospital_New\":\"Hospital\",\"Kino_New\":\"Kino\",\"Parking_New\":\"Parking\",\n",
    "                         \"university_New\":\"university\"})"
   ]
  },
  {
   "cell_type": "code",
   "execution_count": 51,
   "id": "778ea56a",
   "metadata": {},
   "outputs": [],
   "source": [
    "results = smf.wls(\"Charging_Time_in_hours ~ pd+Precipitation+Temperature+Parking+university+Biergarten+Kino+Restaurant+Community_Centre+Hospital+Bahnhof\",\n",
    "                  data=dt2).fit()"
   ]
  },
  {
   "cell_type": "code",
   "execution_count": 52,
   "id": "50e55e7e",
   "metadata": {},
   "outputs": [
    {
     "name": "stdout",
     "output_type": "stream",
     "text": [
      "                              WLS Regression Results                              \n",
      "==================================================================================\n",
      "Dep. Variable:     Charging_Time_in_hours   R-squared:                       0.007\n",
      "Model:                                WLS   Adj. R-squared:                  0.007\n",
      "Method:                     Least Squares   F-statistic:                     1145.\n",
      "Date:                    Thu, 23 Dec 2021   Prob (F-statistic):               0.00\n",
      "Time:                            23:20:30   Log-Likelihood:            -6.4363e+06\n",
      "No. Observations:                 1796287   AIC:                         1.287e+07\n",
      "Df Residuals:                     1796275   BIC:                         1.287e+07\n",
      "Df Model:                              11                                         \n",
      "Covariance Type:                nonrobust                                         \n",
      "====================================================================================\n",
      "                       coef    std err          t      P>|t|      [0.025      0.975]\n",
      "------------------------------------------------------------------------------------\n",
      "Intercept           10.2410      0.025    405.158      0.000      10.191      10.291\n",
      "pd                   0.0749      0.001     81.199      0.000       0.073       0.077\n",
      "Precipitation       -0.0433      0.014     -3.071      0.002      -0.071      -0.016\n",
      "Temperature         -0.1311      0.002    -61.087      0.000      -0.135      -0.127\n",
      "Parking              0.0609      0.005     13.004      0.000       0.052       0.070\n",
      "university          -0.0047      0.001     -5.944      0.000      -0.006      -0.003\n",
      "Biergarten          -0.0360      0.003    -10.388      0.000      -0.043      -0.029\n",
      "Kino                -0.0368      0.002    -19.841      0.000      -0.040      -0.033\n",
      "Restaurant          -0.1227      0.017     -7.388      0.000      -0.155      -0.090\n",
      "Community_Centre     0.0768      0.002     33.448      0.000       0.072       0.081\n",
      "Hospital            -0.0045      0.001     -6.212      0.000      -0.006      -0.003\n",
      "Bahnhof              0.0133      0.001     19.339      0.000       0.012       0.015\n",
      "==============================================================================\n",
      "Omnibus:                 24452440.421   Durbin-Watson:                   1.577\n",
      "Prob(Omnibus):                  0.000   Jarque-Bera (JB):           207172.721\n",
      "Skew:                           0.476   Prob(JB):                         0.00\n",
      "Kurtosis:                       1.636   Cond. No.                         77.0\n",
      "==============================================================================\n",
      "\n",
      "Notes:\n",
      "[1] Standard Errors assume that the covariance matrix of the errors is correctly specified.\n"
     ]
    }
   ],
   "source": [
    "print(results.summary())"
   ]
  },
  {
   "cell_type": "code",
   "execution_count": null,
   "id": "af3528d5",
   "metadata": {},
   "outputs": [],
   "source": []
  }
 ],
 "metadata": {
  "kernelspec": {
   "display_name": "Python 3",
   "language": "python",
   "name": "python3"
  },
  "language_info": {
   "codemirror_mode": {
    "name": "ipython",
    "version": 3
   },
   "file_extension": ".py",
   "mimetype": "text/x-python",
   "name": "python",
   "nbconvert_exporter": "python",
   "pygments_lexer": "ipython3",
   "version": "3.8.8"
  }
 },
 "nbformat": 4,
 "nbformat_minor": 5
}
