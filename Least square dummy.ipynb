{
 "cells": [
  {
   "cell_type": "code",
   "execution_count": 1,
   "id": "05183dc6",
   "metadata": {},
   "outputs": [],
   "source": [
    "import pandas as pd\n",
    "import numpy as np\n",
    "import seaborn as sns\n",
    "import matplotlib.pyplot as plt\n",
    "import dask\n",
    "import dask.dataframe as dd\n",
    "\n",
    "from sklearn.model_selection import GridSearchCV, KFold,KFold, cross_val_score\n",
    "\n",
    "from sklearn.preprocessing import PolynomialFeatures, StandardScaler,RobustScaler \n",
    "\n",
    "from sklearn.pipeline import make_pipeline\n",
    "\n",
    "from sklearn.model_selection import train_test_split\n",
    "import statsmodels.formula.api as smf\n",
    "import statsmodels.stats.api as sms\n",
    "from statsmodels.compat import lzip\n",
    "from sklearn.svm import SVC\n",
    "from sklearn.tree import DecisionTreeClassifier # Import Decision Tree Classifier\n",
    "from sklearn.linear_model import LogisticRegression,LinearRegression,Lasso\n",
    "\n",
    "from sklearn.metrics import accuracy_score, f1_score,mean_squared_error,classification_report,confusion_matrix\n",
    "\n",
    "from sklearn.naive_bayes import GaussianNB\n",
    "from sklearn.discriminant_analysis import QuadraticDiscriminantAnalysis\n",
    "\n",
    "from sklearn.model_selection import cross_val_score\n",
    "from sklearn.preprocessing import OneHotEncoder\n",
    "\n",
    "from sklearn.compose import make_column_transformer\n",
    "from sklearn.pipeline import make_pipeline\n",
    "import pandas as pd\n",
    "import numpy as np\n",
    "import seaborn as sns\n",
    "import matplotlib.pyplot as plt\n",
    "import dask\n",
    "import dask.dataframe as dd\n",
    "\n",
    "import plotly.express as px\n",
    "import plotly.graph_objects as go\n",
    "\n",
    "from sklearn.model_selection import GridSearchCV, KFold,KFold, cross_val_score\n",
    "\n",
    "from sklearn.preprocessing import PolynomialFeatures, StandardScaler,RobustScaler \n",
    "\n",
    "from sklearn.pipeline import make_pipeline\n",
    "\n",
    "from sklearn.model_selection import train_test_split\n",
    "\n",
    "from sklearn.svm import SVC\n",
    "from sklearn.tree import DecisionTreeClassifier # Import Decision Tree Classifier\n",
    "from sklearn.linear_model import LogisticRegression,LinearRegression,Lasso\n",
    "\n",
    "from sklearn.metrics import accuracy_score, f1_score,mean_squared_error,classification_report,confusion_matrix\n",
    "\n",
    "from sklearn.naive_bayes import GaussianNB\n",
    "from sklearn.discriminant_analysis import QuadraticDiscriminantAnalysis\n",
    "\n",
    "from sklearn.model_selection import cross_val_score\n",
    "from sklearn.preprocessing import OneHotEncoder\n",
    "\n",
    "from sklearn.compose import make_column_transformer\n",
    "\n",
    "from scipy import stats\n",
    "import matplotlib.pyplot as plt\n",
    "from sklearn.pipeline import make_pipeline"
   ]
  },
  {
   "cell_type": "code",
   "execution_count": 2,
   "id": "56459cf7",
   "metadata": {},
   "outputs": [],
   "source": [
    "df = pd.read_pickle(\"data_after_normalization-v1.pickle\")"
   ]
  },
  {
   "cell_type": "code",
   "execution_count": 3,
   "id": "f4dabe53",
   "metadata": {},
   "outputs": [],
   "source": [
    "df = df.drop(['Charging_Time_in_hours', 'Precipitation','Temperature','pd','Bahnhof','Restaurant'\n",
    "              ,'Biergarten','Community_Centre','Hospital','Kino','Parking','university','Charging_time_in_hours_log_New'], axis = 1)"
   ]
  },
  {
   "cell_type": "code",
   "execution_count": 4,
   "id": "032de2a4",
   "metadata": {},
   "outputs": [],
   "source": [
    "df = df.rename(columns = {'Temperature_New':'Temperature', 'Precipitation_New':'Precipitation',\n",
    "                          'pd_New':'pd','Bahnhof_New':'Bahnhof','Restaurant_New':'Restaurant','Biergarten_New':'Biergarten',\n",
    "                          'Community_Centre_New':'Community_Centre', 'Hospital_New':'Hospital',\n",
    "                         'Kino_New':'Kino', 'Parking_New':'Parking','university_New':'university', 'Charging_Time_in_hours_New':'Charging_Time_in_hours',\n",
    "                          })"
   ]
  },
  {
   "cell_type": "code",
   "execution_count": 5,
   "id": "856e4683",
   "metadata": {},
   "outputs": [],
   "source": [
    "data = df.copy()"
   ]
  },
  {
   "cell_type": "code",
   "execution_count": 6,
   "id": "8ea7309c",
   "metadata": {},
   "outputs": [
    {
     "name": "stdout",
     "output_type": "stream",
     "text": [
      "<class 'pandas.core.frame.DataFrame'>\n",
      "Int64Index: 1796287 entries, 0 to 1940933\n",
      "Data columns (total 28 columns):\n",
      " #   Column                      Dtype         \n",
      "---  ------                      -----         \n",
      " 0   park_id                     object        \n",
      " 1   clc_code                    object        \n",
      " 2   area_code                   object        \n",
      " 3   evse_id                     object        \n",
      " 4   datetime_start              datetime64[ns]\n",
      " 5   datetime_stop               datetime64[ns]\n",
      " 6   city                        object        \n",
      " 7   latitude                    float64       \n",
      " 8   longitude                   float64       \n",
      " 9   postal_code                 category      \n",
      " 10  year                        category      \n",
      " 11  month                       category      \n",
      " 12  day                         category      \n",
      " 13  day_of_week_name_Start      object        \n",
      " 14  Count_Charging              int64         \n",
      " 15  Charging_time_in_hours_log  float64       \n",
      " 16  Temperature                 float64       \n",
      " 17  Precipitation               float64       \n",
      " 18  pd                          float64       \n",
      " 19  Bahnhof                     float64       \n",
      " 20  Restaurant                  float64       \n",
      " 21  Biergarten                  float64       \n",
      " 22  Community_Centre            float64       \n",
      " 23  Hospital                    float64       \n",
      " 24  Kino                        float64       \n",
      " 25  Parking                     float64       \n",
      " 26  university                  float64       \n",
      " 27  Charging_Time_in_hours      float64       \n",
      "dtypes: category(4), datetime64[ns](2), float64(15), int64(1), object(6)\n",
      "memory usage: 351.2+ MB\n"
     ]
    }
   ],
   "source": [
    "data.info()"
   ]
  },
  {
   "cell_type": "code",
   "execution_count": null,
   "id": "16ba0c15",
   "metadata": {},
   "outputs": [],
   "source": [
    "from statsmodels.formula.api import ols\n",
    "\n",
    "fit_evse_id = ols('Charging_time_in_hours_log ~ C(park_id)+C(year)+C(clc_code)+C(month)+C(day_of_week_name_Start)+pd+Precipitation+Temperature+Parking+university+Biergarten+Kino+Restaurant+Community_Centre+Hospital+Bahnhof', data=data).fit() \n",
    "\n",
    "fit_evse_id.summary()"
   ]
  },
  {
   "cell_type": "code",
   "execution_count": null,
   "id": "03fce02a",
   "metadata": {},
   "outputs": [],
   "source": [
    "print((fit_evse_id.summary).as_latex())"
   ]
  },
  {
   "cell_type": "code",
   "execution_count": null,
   "id": "df92e84b",
   "metadata": {},
   "outputs": [],
   "source": [
    "import sys\n",
    "filename  = open(\"fit_evse_id\",'w')\n",
    "sys.stdout = filename\n",
    "print(fit_evse_id)"
   ]
  },
  {
   "cell_type": "code",
   "execution_count": null,
   "id": "64ad7f2f",
   "metadata": {},
   "outputs": [],
   "source": [
    "from statsmodels.formula.api import ols\n",
    "\n",
    "fit_evse_id = ols('Charging_time_in_hours_log ~ +C(month)+C(day_of_week_name_Start)+pd+Precipitation+Temperature+Parking+university+Biergarten+Kino+Restaurant+Community_Centre+Hospital+Bahnhof', data=data).fit() \n",
    "\n",
    "fit_evse_id.summary()"
   ]
  },
  {
   "cell_type": "markdown",
   "id": "53f5e87d",
   "metadata": {},
   "source": [
    "# creating dummy variable"
   ]
  },
  {
   "cell_type": "code",
   "execution_count": null,
   "id": "a99c0b19",
   "metadata": {},
   "outputs": [],
   "source": [
    "cat_variable = data[[\"park_id\"]]"
   ]
  },
  {
   "cell_type": "code",
   "execution_count": null,
   "id": "370023c0",
   "metadata": {},
   "outputs": [],
   "source": [
    "X = pd.get_dummies(data=cat_variable, drop_first=True)"
   ]
  },
  {
   "cell_type": "code",
   "execution_count": null,
   "id": "3e0c4387",
   "metadata": {},
   "outputs": [],
   "source": [
    "X"
   ]
  },
  {
   "cell_type": "code",
   "execution_count": null,
   "id": "b99bf805",
   "metadata": {},
   "outputs": [],
   "source": [
    "Y = data[[\"Charging_time_in_hours_log\"]]"
   ]
  },
  {
   "cell_type": "code",
   "execution_count": null,
   "id": "53f7514d",
   "metadata": {},
   "outputs": [],
   "source": [
    "from linearmodels.panel import BetweenOLS\n",
    "mod3 = BetweenOLS(data.Y, data.X)\n",
    "be_res = mod3.fit(weights=True,rank_check=False)\n",
    "print(be_res)"
   ]
  },
  {
   "cell_type": "code",
   "execution_count": null,
   "id": "2534b92d",
   "metadata": {},
   "outputs": [],
   "source": []
  },
  {
   "cell_type": "code",
   "execution_count": null,
   "id": "73ddf663",
   "metadata": {},
   "outputs": [],
   "source": []
  },
  {
   "cell_type": "code",
   "execution_count": null,
   "id": "c84e2c0f",
   "metadata": {},
   "outputs": [],
   "source": []
  },
  {
   "cell_type": "code",
   "execution_count": null,
   "id": "21ca55de",
   "metadata": {},
   "outputs": [],
   "source": []
  }
 ],
 "metadata": {
  "kernelspec": {
   "display_name": "Python 3",
   "language": "python",
   "name": "python3"
  },
  "language_info": {
   "codemirror_mode": {
    "name": "ipython",
    "version": 3
   },
   "file_extension": ".py",
   "mimetype": "text/x-python",
   "name": "python",
   "nbconvert_exporter": "python",
   "pygments_lexer": "ipython3",
   "version": "3.8.8"
  }
 },
 "nbformat": 4,
 "nbformat_minor": 5
}
