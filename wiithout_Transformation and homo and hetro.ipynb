{
 "cells": [
  {
   "cell_type": "code",
   "execution_count": 34,
   "id": "21390c46",
   "metadata": {},
   "outputs": [],
   "source": [
    "import pandas as pd\n",
    "import numpy as np\n",
    "import seaborn as sns\n",
    "import matplotlib.pyplot as plt\n",
    "import dask\n",
    "import dask.dataframe as dd\n",
    "\n",
    "from sklearn.model_selection import GridSearchCV, KFold,KFold, cross_val_score\n",
    "\n",
    "from sklearn.preprocessing import PolynomialFeatures, StandardScaler,RobustScaler \n",
    "\n",
    "from sklearn.pipeline import make_pipeline\n",
    "\n",
    "from sklearn.model_selection import train_test_split\n",
    "import statsmodels.formula.api as smf\n",
    "import statsmodels.stats.api as sms\n",
    "from statsmodels.compat import lzip\n",
    "from sklearn.svm import SVC\n",
    "from sklearn.tree import DecisionTreeClassifier # Import Decision Tree Classifier\n",
    "from sklearn.linear_model import LogisticRegression,LinearRegression,Lasso\n",
    "\n",
    "from sklearn.metrics import accuracy_score, f1_score,mean_squared_error,classification_report,confusion_matrix\n",
    "\n",
    "from sklearn.naive_bayes import GaussianNB\n",
    "from sklearn.discriminant_analysis import QuadraticDiscriminantAnalysis\n",
    "\n",
    "from sklearn.model_selection import cross_val_score\n",
    "from sklearn.preprocessing import OneHotEncoder\n",
    "\n",
    "from sklearn.compose import make_column_transformer\n",
    "from sklearn.pipeline import make_pipeline\n",
    "import pandas as pd\n",
    "import numpy as np\n",
    "import seaborn as sns\n",
    "import matplotlib.pyplot as plt\n",
    "import dask\n",
    "import dask.dataframe as dd\n",
    "\n",
    "import plotly.express as px\n",
    "import plotly.graph_objects as go\n",
    "\n",
    "from sklearn.model_selection import GridSearchCV, KFold,KFold, cross_val_score\n",
    "\n",
    "from sklearn.preprocessing import PolynomialFeatures, StandardScaler,RobustScaler \n",
    "\n",
    "from sklearn.pipeline import make_pipeline\n",
    "\n",
    "from sklearn.model_selection import train_test_split\n",
    "\n",
    "from sklearn.svm import SVC\n",
    "from sklearn.tree import DecisionTreeClassifier # Import Decision Tree Classifier\n",
    "from sklearn.linear_model import LogisticRegression,LinearRegression,Lasso\n",
    "\n",
    "from sklearn.metrics import accuracy_score, f1_score,mean_squared_error,classification_report,confusion_matrix\n",
    "\n",
    "from sklearn.naive_bayes import GaussianNB\n",
    "from sklearn.discriminant_analysis import QuadraticDiscriminantAnalysis\n",
    "\n",
    "from sklearn.model_selection import cross_val_score\n",
    "from sklearn.preprocessing import OneHotEncoder\n",
    "\n",
    "from sklearn.compose import make_column_transformer\n",
    "\n",
    "from scipy import stats\n",
    "import matplotlib.pyplot as plt\n",
    "from sklearn.pipeline import make_pipeline"
   ]
  },
  {
   "cell_type": "code",
   "execution_count": 3,
   "id": "6cc9fb62",
   "metadata": {},
   "outputs": [],
   "source": [
    "df = pd.read_pickle(\"end_result-v2.pickle\")"
   ]
  },
  {
   "cell_type": "code",
   "execution_count": 4,
   "id": "c9491431",
   "metadata": {},
   "outputs": [
    {
     "name": "stdout",
     "output_type": "stream",
     "text": [
      "<class 'pandas.core.frame.DataFrame'>\n",
      "Int64Index: 1796287 entries, 0 to 1940933\n",
      "Data columns (total 28 columns):\n",
      " #   Column                      Dtype         \n",
      "---  ------                      -----         \n",
      " 0   park_id                     object        \n",
      " 1   clc_code                    object        \n",
      " 2   area_code                   object        \n",
      " 3   evse_id                     object        \n",
      " 4   datetime_start              datetime64[ns]\n",
      " 5   datetime_stop               datetime64[ns]\n",
      " 6   city                        object        \n",
      " 7   latitude                    float64       \n",
      " 8   longitude                   float64       \n",
      " 9   postal_code                 category      \n",
      " 10  Charging_Time_in_hours      float64       \n",
      " 11  year                        category      \n",
      " 12  month                       category      \n",
      " 13  day                         category      \n",
      " 14  day_of_week_name_Start      object        \n",
      " 15  Precipitation               float64       \n",
      " 16  Temperature                 float64       \n",
      " 17  pd                          float64       \n",
      " 18  Count_Charging              int64         \n",
      " 19  Charging_time_in_hours_log  float64       \n",
      " 20  Bahnhof                     float64       \n",
      " 21  Restaurant                  float64       \n",
      " 22  Biergarten                  float64       \n",
      " 23  Community_Centre            float64       \n",
      " 24  Hospital                    float64       \n",
      " 25  Kino                        float64       \n",
      " 26  Parking                     float64       \n",
      " 27  university                  float64       \n",
      "dtypes: category(4), datetime64[ns](2), float64(15), int64(1), object(6)\n",
      "memory usage: 351.2+ MB\n"
     ]
    }
   ],
   "source": [
    "df.info()"
   ]
  },
  {
   "cell_type": "code",
   "execution_count": 5,
   "id": "64fe7845",
   "metadata": {},
   "outputs": [],
   "source": [
    "df[\"postal_code\"] = df[\"postal_code\"].astype('int')\n",
    "df[\"postal_code\"] = df[\"postal_code\"].astype('category')\n",
    "df[\"year\"] = df[\"year\"].astype('int')"
   ]
  },
  {
   "cell_type": "code",
   "execution_count": 9,
   "id": "42f69192",
   "metadata": {},
   "outputs": [
    {
     "name": "stdout",
     "output_type": "stream",
     "text": [
      "                                                            park_id  clc_code  \\\n",
      "evse_id               year                                                      \n",
      "hj_DE*BLN*E*174060033 2019  hj_31c455b8-420e-46af-bce6-436b65ccc416  Suburban   \n",
      "                      2019  hj_31c455b8-420e-46af-bce6-436b65ccc416  Suburban   \n",
      "                      2019  hj_31c455b8-420e-46af-bce6-436b65ccc416  Suburban   \n",
      "                      2019  hj_31c455b8-420e-46af-bce6-436b65ccc416  Suburban   \n",
      "                      2019  hj_31c455b8-420e-46af-bce6-436b65ccc416  Suburban   \n",
      "\n",
      "                               area_code          datetime_start  \\\n",
      "evse_id               year                                         \n",
      "hj_DE*BLN*E*174060033 2019  120650165165 2019-12-17 09:00:13.369   \n",
      "                      2019  120650165165 2019-12-17 09:00:13.369   \n",
      "                      2019  120650165165 2019-12-17 09:00:13.369   \n",
      "                      2019  120650165165 2019-12-17 09:58:28.352   \n",
      "                      2019  120650165165 2019-12-17 09:58:28.352   \n",
      "\n",
      "                                     datetime_stop     city  latitude  \\\n",
      "evse_id               year                                              \n",
      "hj_DE*BLN*E*174060033 2019 2019-12-17 09:00:13.058  Kremmen   52.7596   \n",
      "                      2019 2019-12-17 09:01:16.290  Kremmen   52.7596   \n",
      "                      2019 2019-12-17 09:58:30.703  Kremmen   52.7596   \n",
      "                      2019 2019-12-17 09:00:13.058  Kremmen   52.7596   \n",
      "                      2019 2019-12-17 09:01:16.290  Kremmen   52.7596   \n",
      "\n",
      "                            longitude postal_code  Charging_Time_in_hours  \\\n",
      "evse_id               year                                                  \n",
      "hj_DE*BLN*E*174060033 2019    13.0239       16766               23.999722   \n",
      "                      2019    13.0239       16766                0.017222   \n",
      "                      2019    13.0239       16766                0.971389   \n",
      "                      2019    13.0239       16766               23.028889   \n",
      "                      2019    13.0239       16766               23.046389   \n",
      "\n",
      "                            ... Charging_time_in_hours_log   Bahnhof  \\\n",
      "evse_id               year  ...                                        \n",
      "hj_DE*BLN*E*174060033 2019  ...                   3.178042  7.285195   \n",
      "                      2019  ...                  -4.061555  7.285195   \n",
      "                      2019  ...                  -0.029028  7.285195   \n",
      "                      2019  ...                   3.136749  7.285195   \n",
      "                      2019  ...                   3.137509  7.285195   \n",
      "\n",
      "                           Restaurant  Biergarten  Community_Centre  Hospital  \\\n",
      "evse_id               year                                                      \n",
      "hj_DE*BLN*E*174060033 2019   0.850239   13.084341          4.189868    1000.0   \n",
      "                      2019   0.850239   13.084341          4.189868    1000.0   \n",
      "                      2019   0.850239   13.084341          4.189868    1000.0   \n",
      "                      2019   0.850239   13.084341          4.189868    1000.0   \n",
      "                      2019   0.850239   13.084341          4.189868    1000.0   \n",
      "\n",
      "                              Kino    Parking  university  year  \n",
      "evse_id               year                                       \n",
      "hj_DE*BLN*E*174060033 2019  1000.0  17.647338      1000.0  2019  \n",
      "                      2019  1000.0  17.647338      1000.0  2019  \n",
      "                      2019  1000.0  17.647338      1000.0  2019  \n",
      "                      2019  1000.0  17.647338      1000.0  2019  \n",
      "                      2019  1000.0  17.647338      1000.0  2019  \n",
      "\n",
      "[5 rows x 27 columns]\n"
     ]
    }
   ],
   "source": [
    "year =pd.Categorical(df.year)\n",
    "df = df.set_index([\"evse_id\",\"year\"])\n",
    "df[\"year\"] =year\n",
    "print(df.head())"
   ]
  },
  {
   "cell_type": "code",
   "execution_count": 14,
   "id": "0873e20c",
   "metadata": {},
   "outputs": [
    {
     "name": "stderr",
     "output_type": "stream",
     "text": [
      "/home/col-gku/.local/lib/python3.8/site-packages/statsmodels/tsa/tsatools.py:142: FutureWarning: In a future version of pandas all arguments of concat except for the argument 'objs' will be keyword-only\n",
      "  x = pd.concat(x[::order], 1)\n"
     ]
    }
   ],
   "source": [
    "from linearmodels.panel import PooledOLS\n",
    "import statsmodels.api as sm\n",
    "\n",
    "exog_vars = [\"pd\",\"Precipitation\",\"Temperature\",\"year\",'day_of_week_name_Start','clc_code','day','month','Parking','university','Biergarten','Kino','Restaurant','Community_Centre','Hospital','Bahnhof']\n",
    "exog = sm.add_constant(df[exog_vars])\n",
    "mod = PooledOLS(df.Charging_Time_in_hours, exog)\n",
    "pooledOLS_res = mod.fit(cov_type = 'clustered',cluster_entity = True)"
   ]
  },
  {
   "cell_type": "code",
   "execution_count": 16,
   "id": "cd3bb0db",
   "metadata": {},
   "outputs": [
    {
     "name": "stderr",
     "output_type": "stream",
     "text": [
      "/home/col-gku/.local/lib/python3.8/site-packages/linearmodels/panel/results.py:544: FutureWarning: In a future version of pandas all arguments of concat except for the argument 'objs' will be keyword-only\n",
      "  out_df: DataFrame = concat(out, 1)\n"
     ]
    }
   ],
   "source": [
    "fittedvals_pooled_OLS = pooledOLS_res.predict().fitted_values\n",
    "residuals_pooled_OLS = pooledOLS_res.resids"
   ]
  },
  {
   "cell_type": "code",
   "execution_count": 17,
   "id": "002bc94a",
   "metadata": {},
   "outputs": [
    {
     "data": {
      "image/png": "[encoded data removed]",
      "text/plain": [
       "<Figure size 432x288 with 1 Axes>"
      ]
     },
     "metadata": {
      "needs_background": "light"
     },
     "output_type": "display_data"
    }
   ],
   "source": [
    "# 3A. Homoskedasticity\n",
    "import matplotlib.pyplot as plt\n",
    "# 3A.1 Residuals-Plot for growing Variance Detection\n",
    "fig, ax = plt.subplots()\n",
    "ax.scatter(fittedvals_pooled_OLS, residuals_pooled_OLS, color = 'blue')\n",
    "ax.axhline(0, color = 'r', ls = '--')\n",
    "ax.set_xlabel('Predicted Values',fontsize = 15)\n",
    "ax.set_ylabel('Residual Values',fontsize = 15)\n",
    "ax.set_title('Homoskedasticity Test', fontsize = 30)\n",
    "plt.show()"
   ]
  },
  {
   "cell_type": "code",
   "execution_count": 37,
   "id": "a15466ce",
   "metadata": {},
   "outputs": [
    {
     "name": "stderr",
     "output_type": "stream",
     "text": [
      "/home/col-gku/.local/lib/python3.8/site-packages/statsmodels/tsa/tsatools.py:142: FutureWarning: In a future version of pandas all arguments of concat except for the argument 'objs' will be keyword-only\n",
      "  x = pd.concat(x[::order], 1)\n"
     ]
    },
    {
     "ename": "ValueError",
     "evalue": "array must not contain infs or NaNs",
     "output_type": "error",
     "traceback": [
      "\u001b[0;31m---------------------------------------------------------------------------\u001b[0m",
      "\u001b[0;31mValueError\u001b[0m                                Traceback (most recent call last)",
      "\u001b[0;32m<ipython-input-37-8bf6836f100a>\u001b[0m in \u001b[0;36m<module>\u001b[0;34m\u001b[0m\n\u001b[1;32m      5\u001b[0m \u001b[0mexog\u001b[0m \u001b[0;34m=\u001b[0m \u001b[0msm\u001b[0m\u001b[0;34m.\u001b[0m\u001b[0madd_constant\u001b[0m\u001b[0;34m(\u001b[0m\u001b[0mdf\u001b[0m\u001b[0;34m[\u001b[0m\u001b[0mexog_vars\u001b[0m\u001b[0;34m]\u001b[0m\u001b[0;34m)\u001b[0m\u001b[0;34m\u001b[0m\u001b[0;34m\u001b[0m\u001b[0m\n\u001b[1;32m      6\u001b[0m \u001b[0mmod\u001b[0m \u001b[0;34m=\u001b[0m \u001b[0mPooledOLS\u001b[0m\u001b[0;34m(\u001b[0m\u001b[0mdf\u001b[0m\u001b[0;34m.\u001b[0m\u001b[0mCharging_time_in_hours_log\u001b[0m\u001b[0;34m,\u001b[0m \u001b[0mexog\u001b[0m\u001b[0;34m)\u001b[0m\u001b[0;34m\u001b[0m\u001b[0;34m\u001b[0m\u001b[0m\n\u001b[0;32m----> 7\u001b[0;31m \u001b[0mpooledOLS_res\u001b[0m \u001b[0;34m=\u001b[0m \u001b[0mmod\u001b[0m\u001b[0;34m.\u001b[0m\u001b[0mfit\u001b[0m\u001b[0;34m(\u001b[0m\u001b[0mcov_type\u001b[0m \u001b[0;34m=\u001b[0m \u001b[0;34m'clustered'\u001b[0m\u001b[0;34m,\u001b[0m\u001b[0mcluster_entity\u001b[0m \u001b[0;34m=\u001b[0m \u001b[0;32mTrue\u001b[0m\u001b[0;34m)\u001b[0m\u001b[0;34m\u001b[0m\u001b[0;34m\u001b[0m\u001b[0m\n\u001b[0m",
      "\u001b[0;32m~/.local/lib/python3.8/site-packages/linearmodels/panel/model.py\u001b[0m in \u001b[0;36mfit\u001b[0;34m(self, cov_type, debiased, **cov_config)\u001b[0m\n\u001b[1;32m    944\u001b[0m         \u001b[0mwy\u001b[0m \u001b[0;34m=\u001b[0m \u001b[0mroot_w\u001b[0m \u001b[0;34m*\u001b[0m \u001b[0my\u001b[0m\u001b[0;34m\u001b[0m\u001b[0;34m\u001b[0m\u001b[0m\n\u001b[1;32m    945\u001b[0m \u001b[0;34m\u001b[0m\u001b[0m\n\u001b[0;32m--> 946\u001b[0;31m         \u001b[0mparams\u001b[0m \u001b[0;34m=\u001b[0m \u001b[0m_lstsq\u001b[0m\u001b[0;34m(\u001b[0m\u001b[0mwx\u001b[0m\u001b[0;34m,\u001b[0m \u001b[0mwy\u001b[0m\u001b[0;34m,\u001b[0m \u001b[0mrcond\u001b[0m\u001b[0;34m=\u001b[0m\u001b[0;32mNone\u001b[0m\u001b[0;34m)\u001b[0m\u001b[0;34m[\u001b[0m\u001b[0;36m0\u001b[0m\u001b[0;34m]\u001b[0m\u001b[0;34m\u001b[0m\u001b[0;34m\u001b[0m\u001b[0m\n\u001b[0m\u001b[1;32m    947\u001b[0m \u001b[0;34m\u001b[0m\u001b[0m\n\u001b[1;32m    948\u001b[0m         \u001b[0mnobs\u001b[0m \u001b[0;34m=\u001b[0m \u001b[0my\u001b[0m\u001b[0;34m.\u001b[0m\u001b[0mshape\u001b[0m\u001b[0;34m[\u001b[0m\u001b[0;36m0\u001b[0m\u001b[0;34m]\u001b[0m\u001b[0;34m\u001b[0m\u001b[0;34m\u001b[0m\u001b[0m\n",
      "\u001b[0;32m~/.local/lib/python3.8/site-packages/linearmodels/panel/model.py\u001b[0m in \u001b[0;36m_lstsq\u001b[0;34m(x, y, rcond)\u001b[0m\n\u001b[1;32m     77\u001b[0m     \u001b[0;32melse\u001b[0m\u001b[0;34m:\u001b[0m\u001b[0;34m\u001b[0m\u001b[0;34m\u001b[0m\u001b[0m\n\u001b[1;32m     78\u001b[0m         \u001b[0mcond\u001b[0m \u001b[0;34m=\u001b[0m \u001b[0mrcond\u001b[0m\u001b[0;34m\u001b[0m\u001b[0;34m\u001b[0m\u001b[0m\n\u001b[0;32m---> 79\u001b[0;31m     \u001b[0;32mreturn\u001b[0m \u001b[0msp_lstsq\u001b[0m\u001b[0;34m(\u001b[0m\u001b[0mx\u001b[0m\u001b[0;34m,\u001b[0m \u001b[0my\u001b[0m\u001b[0;34m,\u001b[0m \u001b[0mcond\u001b[0m\u001b[0;34m=\u001b[0m\u001b[0mcond\u001b[0m\u001b[0;34m,\u001b[0m \u001b[0mlapack_driver\u001b[0m\u001b[0;34m=\u001b[0m\u001b[0;34m\"gelsy\"\u001b[0m\u001b[0;34m)\u001b[0m\u001b[0;34m\u001b[0m\u001b[0;34m\u001b[0m\u001b[0m\n\u001b[0m\u001b[1;32m     80\u001b[0m \u001b[0;34m\u001b[0m\u001b[0m\n\u001b[1;32m     81\u001b[0m \u001b[0;34m\u001b[0m\u001b[0m\n",
      "\u001b[0;32m~/.local/lib/python3.8/site-packages/scipy/linalg/basic.py\u001b[0m in \u001b[0;36mlstsq\u001b[0;34m(a, b, cond, overwrite_a, overwrite_b, check_finite, lapack_driver)\u001b[0m\n\u001b[1;32m   1154\u001b[0m     \"\"\"\n\u001b[1;32m   1155\u001b[0m     \u001b[0ma1\u001b[0m \u001b[0;34m=\u001b[0m \u001b[0m_asarray_validated\u001b[0m\u001b[0;34m(\u001b[0m\u001b[0ma\u001b[0m\u001b[0;34m,\u001b[0m \u001b[0mcheck_finite\u001b[0m\u001b[0;34m=\u001b[0m\u001b[0mcheck_finite\u001b[0m\u001b[0;34m)\u001b[0m\u001b[0;34m\u001b[0m\u001b[0;34m\u001b[0m\u001b[0m\n\u001b[0;32m-> 1156\u001b[0;31m     \u001b[0mb1\u001b[0m \u001b[0;34m=\u001b[0m \u001b[0m_asarray_validated\u001b[0m\u001b[0;34m(\u001b[0m\u001b[0mb\u001b[0m\u001b[0;34m,\u001b[0m \u001b[0mcheck_finite\u001b[0m\u001b[0;34m=\u001b[0m\u001b[0mcheck_finite\u001b[0m\u001b[0;34m)\u001b[0m\u001b[0;34m\u001b[0m\u001b[0;34m\u001b[0m\u001b[0m\n\u001b[0m\u001b[1;32m   1157\u001b[0m     \u001b[0;32mif\u001b[0m \u001b[0mlen\u001b[0m\u001b[0;34m(\u001b[0m\u001b[0ma1\u001b[0m\u001b[0;34m.\u001b[0m\u001b[0mshape\u001b[0m\u001b[0;34m)\u001b[0m \u001b[0;34m!=\u001b[0m \u001b[0;36m2\u001b[0m\u001b[0;34m:\u001b[0m\u001b[0;34m\u001b[0m\u001b[0;34m\u001b[0m\u001b[0m\n\u001b[1;32m   1158\u001b[0m         \u001b[0;32mraise\u001b[0m \u001b[0mValueError\u001b[0m\u001b[0;34m(\u001b[0m\u001b[0;34m'Input array a should be 2D'\u001b[0m\u001b[0;34m)\u001b[0m\u001b[0;34m\u001b[0m\u001b[0;34m\u001b[0m\u001b[0m\n",
      "\u001b[0;32m~/.local/lib/python3.8/site-packages/scipy/_lib/_util.py\u001b[0m in \u001b[0;36m_asarray_validated\u001b[0;34m(a, check_finite, sparse_ok, objects_ok, mask_ok, as_inexact)\u001b[0m\n\u001b[1;32m    270\u001b[0m             \u001b[0;32mraise\u001b[0m \u001b[0mValueError\u001b[0m\u001b[0;34m(\u001b[0m\u001b[0;34m'masked arrays are not supported'\u001b[0m\u001b[0;34m)\u001b[0m\u001b[0;34m\u001b[0m\u001b[0;34m\u001b[0m\u001b[0m\n\u001b[1;32m    271\u001b[0m     \u001b[0mtoarray\u001b[0m \u001b[0;34m=\u001b[0m \u001b[0mnp\u001b[0m\u001b[0;34m.\u001b[0m\u001b[0masarray_chkfinite\u001b[0m \u001b[0;32mif\u001b[0m \u001b[0mcheck_finite\u001b[0m \u001b[0;32melse\u001b[0m \u001b[0mnp\u001b[0m\u001b[0;34m.\u001b[0m\u001b[0masarray\u001b[0m\u001b[0;34m\u001b[0m\u001b[0;34m\u001b[0m\u001b[0m\n\u001b[0;32m--> 272\u001b[0;31m     \u001b[0ma\u001b[0m \u001b[0;34m=\u001b[0m \u001b[0mtoarray\u001b[0m\u001b[0;34m(\u001b[0m\u001b[0ma\u001b[0m\u001b[0;34m)\u001b[0m\u001b[0;34m\u001b[0m\u001b[0;34m\u001b[0m\u001b[0m\n\u001b[0m\u001b[1;32m    273\u001b[0m     \u001b[0;32mif\u001b[0m \u001b[0;32mnot\u001b[0m \u001b[0mobjects_ok\u001b[0m\u001b[0;34m:\u001b[0m\u001b[0;34m\u001b[0m\u001b[0;34m\u001b[0m\u001b[0m\n\u001b[1;32m    274\u001b[0m         \u001b[0;32mif\u001b[0m \u001b[0ma\u001b[0m\u001b[0;34m.\u001b[0m\u001b[0mdtype\u001b[0m \u001b[0;32mis\u001b[0m \u001b[0mnp\u001b[0m\u001b[0;34m.\u001b[0m\u001b[0mdtype\u001b[0m\u001b[0;34m(\u001b[0m\u001b[0;34m'O'\u001b[0m\u001b[0;34m)\u001b[0m\u001b[0;34m:\u001b[0m\u001b[0;34m\u001b[0m\u001b[0;34m\u001b[0m\u001b[0m\n",
      "\u001b[0;32m~/.local/lib/python3.8/site-packages/numpy/lib/function_base.py\u001b[0m in \u001b[0;36masarray_chkfinite\u001b[0;34m(a, dtype, order)\u001b[0m\n\u001b[1;32m    483\u001b[0m     \u001b[0ma\u001b[0m \u001b[0;34m=\u001b[0m \u001b[0masarray\u001b[0m\u001b[0;34m(\u001b[0m\u001b[0ma\u001b[0m\u001b[0;34m,\u001b[0m \u001b[0mdtype\u001b[0m\u001b[0;34m=\u001b[0m\u001b[0mdtype\u001b[0m\u001b[0;34m,\u001b[0m \u001b[0morder\u001b[0m\u001b[0;34m=\u001b[0m\u001b[0morder\u001b[0m\u001b[0;34m)\u001b[0m\u001b[0;34m\u001b[0m\u001b[0;34m\u001b[0m\u001b[0m\n\u001b[1;32m    484\u001b[0m     \u001b[0;32mif\u001b[0m \u001b[0ma\u001b[0m\u001b[0;34m.\u001b[0m\u001b[0mdtype\u001b[0m\u001b[0;34m.\u001b[0m\u001b[0mchar\u001b[0m \u001b[0;32min\u001b[0m \u001b[0mtypecodes\u001b[0m\u001b[0;34m[\u001b[0m\u001b[0;34m'AllFloat'\u001b[0m\u001b[0;34m]\u001b[0m \u001b[0;32mand\u001b[0m \u001b[0;32mnot\u001b[0m \u001b[0mnp\u001b[0m\u001b[0;34m.\u001b[0m\u001b[0misfinite\u001b[0m\u001b[0;34m(\u001b[0m\u001b[0ma\u001b[0m\u001b[0;34m)\u001b[0m\u001b[0;34m.\u001b[0m\u001b[0mall\u001b[0m\u001b[0;34m(\u001b[0m\u001b[0;34m)\u001b[0m\u001b[0;34m:\u001b[0m\u001b[0;34m\u001b[0m\u001b[0;34m\u001b[0m\u001b[0m\n\u001b[0;32m--> 485\u001b[0;31m         raise ValueError(\n\u001b[0m\u001b[1;32m    486\u001b[0m             \"array must not contain infs or NaNs\")\n\u001b[1;32m    487\u001b[0m     \u001b[0;32mreturn\u001b[0m \u001b[0ma\u001b[0m\u001b[0;34m\u001b[0m\u001b[0;34m\u001b[0m\u001b[0m\n",
      "\u001b[0;31mValueError\u001b[0m: array must not contain infs or NaNs"
     ]
    }
   ],
   "source": [
    "from linearmodels.panel import PooledOLS\n",
    "import statsmodels.api as sm\n",
    "\n",
    "exog_vars = [\"pd\",\"Precipitation\",\"Temperature\",\"year\",'day_of_week_name_Start','clc_code','day','month','Parking','university','Biergarten','Kino','Restaurant','Community_Centre','Hospital','Bahnhof']\n",
    "exog = sm.add_constant(df[exog_vars])\n",
    "mod = PooledOLS(df.Charging_time_in_hours_log, exog)\n",
    "pooledOLS_res = mod.fit(cov_type = 'clustered',cluster_entity = True)"
   ]
  },
  {
   "cell_type": "code",
   "execution_count": null,
   "id": "67bbfd90",
   "metadata": {},
   "outputs": [],
   "source": []
  },
  {
   "cell_type": "code",
   "execution_count": null,
   "id": "09dd7d30",
   "metadata": {},
   "outputs": [],
   "source": []
  },
  {
   "cell_type": "code",
   "execution_count": null,
   "id": "8794e83c",
   "metadata": {},
   "outputs": [],
   "source": []
  },
  {
   "cell_type": "code",
   "execution_count": null,
   "id": "557c3368",
   "metadata": {},
   "outputs": [],
   "source": []
  },
  {
   "cell_type": "code",
   "execution_count": null,
   "id": "95f3e43b",
   "metadata": {},
   "outputs": [],
   "source": []
  },
  {
   "cell_type": "code",
   "execution_count": null,
   "id": "3c466a98",
   "metadata": {},
   "outputs": [],
   "source": []
  },
  {
   "cell_type": "code",
   "execution_count": 28,
   "id": "c54161d2",
   "metadata": {},
   "outputs": [],
   "source": [
    "results = smf.ols(\"Charging_Time_in_hours ~ pd+Precipitation+Temperature+Parking+university+Biergarten+Kino+Restaurant+Community_Centre+Hospital+Bahnhof\",\n",
    "                  data=df).fit()"
   ]
  },
  {
   "cell_type": "code",
   "execution_count": 29,
   "id": "c1649b4a",
   "metadata": {},
   "outputs": [
    {
     "name": "stdout",
     "output_type": "stream",
     "text": [
      "                              OLS Regression Results                              \n",
      "==================================================================================\n",
      "Dep. Variable:     Charging_Time_in_hours   R-squared:                       0.007\n",
      "Model:                                OLS   Adj. R-squared:                  0.007\n",
      "Method:                     Least Squares   F-statistic:                     1145.\n",
      "Date:                    Sun, 19 Dec 2021   Prob (F-statistic):               0.00\n",
      "Time:                            21:07:02   Log-Likelihood:            -6.4363e+06\n",
      "No. Observations:                 1796287   AIC:                         1.287e+07\n",
      "Df Residuals:                     1796275   BIC:                         1.287e+07\n",
      "Df Model:                              11                                         \n",
      "Covariance Type:                nonrobust                                         \n",
      "====================================================================================\n",
      "                       coef    std err          t      P>|t|      [0.025      0.975]\n",
      "------------------------------------------------------------------------------------\n",
      "Intercept            9.4935      0.017    562.802      0.000       9.460       9.527\n",
      "pd                   0.0003   3.89e-06     81.199      0.000       0.000       0.000\n",
      "Precipitation       -0.1052      0.034     -3.071      0.002      -0.172      -0.038\n",
      "Temperature         -0.0548      0.001    -61.087      0.000      -0.057      -0.053\n",
      "Parking              0.0012   9.36e-05     13.004      0.000       0.001       0.001\n",
      "university       -9.326e-05   1.57e-05     -5.944      0.000      -0.000   -6.25e-05\n",
      "Biergarten          -0.0007   6.94e-05    -10.388      0.000      -0.001      -0.001\n",
      "Kino                -0.0007   3.71e-05    -19.841      0.000      -0.001      -0.001\n",
      "Restaurant          -0.0025      0.000     -7.388      0.000      -0.003      -0.002\n",
      "Community_Centre     0.0015   4.59e-05     33.448      0.000       0.001       0.002\n",
      "Hospital         -9.048e-05   1.46e-05     -6.212      0.000      -0.000   -6.19e-05\n",
      "Bahnhof              0.0003   1.38e-05     19.339      0.000       0.000       0.000\n",
      "==============================================================================\n",
      "Omnibus:                 24452440.421   Durbin-Watson:                   1.577\n",
      "Prob(Omnibus):                  0.000   Jarque-Bera (JB):           207172.721\n",
      "Skew:                           0.476   Prob(JB):                         0.00\n",
      "Kurtosis:                       1.636   Cond. No.                     1.61e+04\n",
      "==============================================================================\n",
      "\n",
      "Notes:\n",
      "[1] Standard Errors assume that the covariance matrix of the errors is correctly specified.\n",
      "[2] The condition number is large, 1.61e+04. This might indicate that there are\n",
      "strong multicollinearity or other numerical problems.\n"
     ]
    }
   ],
   "source": [
    "print(results.summary())"
   ]
  },
  {
   "cell_type": "code",
   "execution_count": 30,
   "id": "62aceeef",
   "metadata": {},
   "outputs": [
    {
     "data": {
      "text/plain": [
       "[('Jarque-Bera', 207172.720688173),\n",
       " ('Chi^2 two-tail prob.', 0.0),\n",
       " ('Skew', 0.476241948711377),\n",
       " ('Kurtosis', 1.6358932729352842)]"
      ]
     },
     "execution_count": 30,
     "metadata": {},
     "output_type": "execute_result"
    }
   ],
   "source": [
    "name = [\"Jarque-Bera\", \"Chi^2 two-tail prob.\", \"Skew\", \"Kurtosis\"]\n",
    "test = sms.jarque_bera(results.resid)\n",
    "lzip(name, test)"
   ]
  },
  {
   "cell_type": "code",
   "execution_count": 31,
   "id": "17619d57",
   "metadata": {},
   "outputs": [
    {
     "data": {
      "text/plain": [
       "[('Chi^2', 24452440.42134138), ('Two-tail probability', 0.0)]"
      ]
     },
     "execution_count": 31,
     "metadata": {},
     "output_type": "execute_result"
    }
   ],
   "source": [
    "name = [\"Chi^2\", \"Two-tail probability\"]\n",
    "test = sms.omni_normtest(results.resid)\n",
    "lzip(name, test)"
   ]
  },
  {
   "cell_type": "code",
   "execution_count": 32,
   "id": "94fe0096",
   "metadata": {},
   "outputs": [
    {
     "data": {
      "text/plain": [
       "[('Lagrange multiplier statistic', 1011.3054551314814),\n",
       " ('p-value', 7.082131592019863e-210),\n",
       " ('f-value', 91.98803443019007),\n",
       " ('f p-value', 6.162844835294104e-210)]"
      ]
     },
     "execution_count": 32,
     "metadata": {},
     "output_type": "execute_result"
    }
   ],
   "source": [
    "name = [\"Lagrange multiplier statistic\", \"p-value\", \"f-value\", \"f p-value\"]\n",
    "test = sms.het_breuschpagan(results.resid, results.model.exog)\n",
    "lzip(name, test)"
   ]
  },
  {
   "cell_type": "code",
   "execution_count": 33,
   "id": "1c80da31",
   "metadata": {},
   "outputs": [
    {
     "data": {
      "text/plain": [
       "[('F statistic', 1.034533204161242), ('p-value', 1.5753436323346224e-58)]"
      ]
     },
     "execution_count": 33,
     "metadata": {},
     "output_type": "execute_result"
    }
   ],
   "source": [
    "name = [\"F statistic\", \"p-value\"]\n",
    "test = sms.het_goldfeldquandt(results.resid, results.model.exog)\n",
    "lzip(name, test)"
   ]
  },
  {
   "cell_type": "code",
   "execution_count": 21,
   "id": "46f7a8a3",
   "metadata": {},
   "outputs": [],
   "source": []
  },
  {
   "cell_type": "code",
   "execution_count": null,
   "id": "e66db88b",
   "metadata": {},
   "outputs": [],
   "source": []
  }
 ],
 "metadata": {
  "kernelspec": {
   "display_name": "Python 3",
   "language": "python",
   "name": "python3"
  },
  "language_info": {
   "codemirror_mode": {
    "name": "ipython",
    "version": 3
   },
   "file_extension": ".py",
   "mimetype": "text/x-python",
   "name": "python",
   "nbconvert_exporter": "python",
   "pygments_lexer": "ipython3",
   "version": "3.8.8"
  }
 },
 "nbformat": 4,
 "nbformat_minor": 5
}
