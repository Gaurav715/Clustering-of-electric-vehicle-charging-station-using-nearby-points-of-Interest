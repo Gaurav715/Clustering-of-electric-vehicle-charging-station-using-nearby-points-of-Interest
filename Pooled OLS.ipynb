{
 "cells": [
  {
   "cell_type": "code",
   "execution_count": 1,
   "id": "83ab3cb2",
   "metadata": {},
   "outputs": [],
   "source": [
    "import pandas as pd\n",
    "import numpy as np\n",
    "import seaborn as sns\n",
    "import matplotlib.pyplot as plt\n",
    "import dask\n",
    "import dask.dataframe as dd\n",
    "\n",
    "from sklearn.model_selection import GridSearchCV, KFold,KFold, cross_val_score\n",
    "\n",
    "from sklearn.preprocessing import PolynomialFeatures, StandardScaler,RobustScaler \n",
    "\n",
    "from sklearn.pipeline import make_pipeline\n",
    "\n",
    "from sklearn.model_selection import train_test_split\n",
    "import statsmodels.formula.api as smf\n",
    "import statsmodels.stats.api as sms\n",
    "from statsmodels.compat import lzip\n",
    "from sklearn.svm import SVC\n",
    "from sklearn.tree import DecisionTreeClassifier # Import Decision Tree Classifier\n",
    "from sklearn.linear_model import LogisticRegression,LinearRegression,Lasso\n",
    "\n",
    "from sklearn.metrics import accuracy_score, f1_score,mean_squared_error,classification_report,confusion_matrix\n",
    "\n",
    "from sklearn.naive_bayes import GaussianNB\n",
    "from sklearn.discriminant_analysis import QuadraticDiscriminantAnalysis\n",
    "\n",
    "from sklearn.model_selection import cross_val_score\n",
    "from sklearn.preprocessing import OneHotEncoder\n",
    "\n",
    "from sklearn.compose import make_column_transformer\n",
    "from sklearn.pipeline import make_pipeline\n",
    "import pandas as pd\n",
    "import numpy as np\n",
    "import seaborn as sns\n",
    "import matplotlib.pyplot as plt\n",
    "import dask\n",
    "import dask.dataframe as dd\n",
    "\n",
    "import plotly.express as px\n",
    "import plotly.graph_objects as go\n",
    "\n",
    "from sklearn.model_selection import GridSearchCV, KFold,KFold, cross_val_score\n",
    "\n",
    "from sklearn.preprocessing import PolynomialFeatures, StandardScaler,RobustScaler \n",
    "\n",
    "from sklearn.pipeline import make_pipeline\n",
    "\n",
    "from sklearn.model_selection import train_test_split\n",
    "\n",
    "from sklearn.svm import SVC\n",
    "from sklearn.tree import DecisionTreeClassifier # Import Decision Tree Classifier\n",
    "from sklearn.linear_model import LogisticRegression,LinearRegression,Lasso\n",
    "\n",
    "from sklearn.metrics import accuracy_score, f1_score,mean_squared_error,classification_report,confusion_matrix\n",
    "\n",
    "from sklearn.naive_bayes import GaussianNB\n",
    "from sklearn.discriminant_analysis import QuadraticDiscriminantAnalysis\n",
    "\n",
    "from sklearn.model_selection import cross_val_score\n",
    "from sklearn.preprocessing import OneHotEncoder\n",
    "\n",
    "from sklearn.compose import make_column_transformer\n",
    "\n",
    "from scipy import stats\n",
    "import matplotlib.pyplot as plt\n",
    "from sklearn.pipeline import make_pipeline"
   ]
  },
  {
   "cell_type": "code",
   "execution_count": 2,
   "id": "88715a85",
   "metadata": {},
   "outputs": [],
   "source": [
    "df = pd.read_pickle(\"data_after_normalization-v1.pickle\")"
   ]
  },
  {
   "cell_type": "code",
   "execution_count": 3,
   "id": "74ef9365",
   "metadata": {},
   "outputs": [],
   "source": [
    "df = df.drop(['Charging_Time_in_hours', 'Precipitation','Temperature','pd','Bahnhof','Restaurant'\n",
    "              ,'Biergarten','Community_Centre','Hospital','Kino','Parking','university','Charging_time_in_hours_log_New'], axis = 1)"
   ]
  },
  {
   "cell_type": "code",
   "execution_count": 4,
   "id": "d94e90fe",
   "metadata": {},
   "outputs": [],
   "source": [
    "df = df.rename(columns = {'Temperature_New':'Temperature', 'Precipitation_New':'Precipitation',\n",
    "                          'pd_New':'pd','Bahnhof_New':'Bahnhof','Restaurant_New':'Restaurant','Biergarten_New':'Biergarten',\n",
    "                          'Community_Centre_New':'Community_Centre', 'Hospital_New':'Hospital',\n",
    "                         'Kino_New':'Kino', 'Parking_New':'Parking','university_New':'university', 'Charging_Time_in_hours_New':'Charging_Time_in_hours',\n",
    "                          })"
   ]
  },
  {
   "cell_type": "code",
   "execution_count": 5,
   "id": "130ca4f4",
   "metadata": {},
   "outputs": [],
   "source": [
    "df['Year'] = pd.to_datetime(df['datetime_start'], format='%Y')"
   ]
  },
  {
   "cell_type": "code",
   "execution_count": 6,
   "id": "2f675c3c",
   "metadata": {},
   "outputs": [],
   "source": [
    "df['Month'] = pd.to_datetime(df['datetime_start'], format='%M')"
   ]
  },
  {
   "cell_type": "code",
   "execution_count": 7,
   "id": "b74a7e3a",
   "metadata": {},
   "outputs": [],
   "source": [
    "df['Day'] = pd.to_datetime(df['datetime_start'], format='%D')"
   ]
  },
  {
   "cell_type": "code",
   "execution_count": 8,
   "id": "1442ee36",
   "metadata": {},
   "outputs": [
    {
     "name": "stdout",
     "output_type": "stream",
     "text": [
      "<class 'pandas.core.frame.DataFrame'>\n",
      "Int64Index: 1796287 entries, 0 to 1940933\n",
      "Data columns (total 31 columns):\n",
      " #   Column                      Dtype         \n",
      "---  ------                      -----         \n",
      " 0   park_id                     object        \n",
      " 1   clc_code                    object        \n",
      " 2   area_code                   object        \n",
      " 3   evse_id                     object        \n",
      " 4   datetime_start              datetime64[ns]\n",
      " 5   datetime_stop               datetime64[ns]\n",
      " 6   city                        object        \n",
      " 7   latitude                    float64       \n",
      " 8   longitude                   float64       \n",
      " 9   postal_code                 category      \n",
      " 10  year                        category      \n",
      " 11  month                       category      \n",
      " 12  day                         category      \n",
      " 13  day_of_week_name_Start      object        \n",
      " 14  Count_Charging              int64         \n",
      " 15  Charging_time_in_hours_log  float64       \n",
      " 16  Temperature                 float64       \n",
      " 17  Precipitation               float64       \n",
      " 18  pd                          float64       \n",
      " 19  Bahnhof                     float64       \n",
      " 20  Restaurant                  float64       \n",
      " 21  Biergarten                  float64       \n",
      " 22  Community_Centre            float64       \n",
      " 23  Hospital                    float64       \n",
      " 24  Kino                        float64       \n",
      " 25  Parking                     float64       \n",
      " 26  university                  float64       \n",
      " 27  Charging_Time_in_hours      float64       \n",
      " 28  Year                        datetime64[ns]\n",
      " 29  Month                       datetime64[ns]\n",
      " 30  Day                         datetime64[ns]\n",
      "dtypes: category(4), datetime64[ns](5), float64(15), int64(1), object(6)\n",
      "memory usage: 392.3+ MB\n"
     ]
    }
   ],
   "source": [
    "df.info()"
   ]
  },
  {
   "cell_type": "code",
   "execution_count": 9,
   "id": "77ef024b",
   "metadata": {},
   "outputs": [],
   "source": [
    "data = df.copy()"
   ]
  },
  {
   "cell_type": "code",
   "execution_count": 10,
   "id": "4061fade",
   "metadata": {},
   "outputs": [],
   "source": [
    "#df.to_pickle(\"stat-v1.pickle\")"
   ]
  },
  {
   "cell_type": "code",
   "execution_count": 11,
   "id": "04e6e6cd",
   "metadata": {},
   "outputs": [],
   "source": [
    "#df.to_csv(\"stat-v1.csv\")"
   ]
  },
  {
   "cell_type": "markdown",
   "id": "b8d688bd",
   "metadata": {},
   "source": [
    "# Pooled Ols"
   ]
  },
  {
   "cell_type": "code",
   "execution_count": 12,
   "id": "d4218fa0",
   "metadata": {},
   "outputs": [],
   "source": [
    "year = pd.Categorical(data.Year)\n",
    "data = data.set_index([\"evse_id\",\"Year\"])"
   ]
  },
  {
   "cell_type": "code",
   "execution_count": 13,
   "id": "2a28b848",
   "metadata": {},
   "outputs": [],
   "source": [
    "data[\"Year\"] = year"
   ]
  },
  {
   "cell_type": "code",
   "execution_count": 14,
   "id": "cf3f09ae",
   "metadata": {},
   "outputs": [
    {
     "name": "stdout",
     "output_type": "stream",
     "text": [
      "           latitude     longitude  Count_Charging  Charging_time_in_hours_log  \\\n",
      "count  1.796287e+06  1.796287e+06    1.796287e+06                1.796283e+06   \n",
      "mean   4.988736e+01  9.604686e+00    3.196620e+03                1.421231e+00   \n",
      "std    1.710223e+00  2.048584e+00    2.740239e+03                1.858277e+00   \n",
      "min    4.685810e+01  5.901500e+00    1.000000e+00               -8.188689e+00   \n",
      "25%    4.816250e+01  7.804500e+00    9.350000e+02                6.578078e-01   \n",
      "50%    4.997890e+01  9.941000e+00    2.224000e+03                1.854691e+00   \n",
      "75%    5.122210e+01  1.150950e+01    5.086000e+03                2.955279e+00   \n",
      "max    5.490750e+01  1.466150e+01    1.079600e+04                3.178042e+00   \n",
      "\n",
      "        Temperature  Precipitation            pd       Bahnhof    Restaurant  \\\n",
      "count  1.796287e+06   1.796287e+06  1.796287e+06  1.796287e+06  1.796287e+06   \n",
      "mean   9.618019e+00   8.810534e-02  1.039320e+01  7.818120e+00  2.495758e-02   \n",
      "std    3.029030e+00   4.620769e-01  7.110415e+00  9.640577e+00  4.101331e-01   \n",
      "min    0.000000e+00   0.000000e+00  0.000000e+00  0.000000e+00  0.000000e+00   \n",
      "25%    7.554007e+00   0.000000e+00  4.665542e+00  1.301004e-01  3.072483e-03   \n",
      "50%    9.059233e+00   0.000000e+00  8.759621e+00  3.330816e-01  7.755429e-03   \n",
      "75%    1.154007e+01   8.097166e-02  2.000000e+01  2.000000e+01  1.681101e-02   \n",
      "max    2.000000e+01   2.000000e+01  2.000000e+01  2.000000e+01  2.000000e+01   \n",
      "\n",
      "         Biergarten  Community_Centre      Hospital          Kino  \\\n",
      "count  1.796287e+06      1.796287e+06  1.796287e+06  1.796287e+06   \n",
      "mean   3.036216e-01      5.033142e-01  6.578513e+00  7.971077e-01   \n",
      "std    2.144205e+00      2.897974e+00  9.284216e+00  3.656667e+00   \n",
      "min    0.000000e+00      0.000000e+00  0.000000e+00  0.000000e+00   \n",
      "25%    1.709498e-02      1.484062e-02  7.811824e-02  1.985277e-02   \n",
      "50%    4.362401e-02      4.010389e-02  2.310417e-01  6.262569e-02   \n",
      "75%    1.047039e-01      1.045966e-01  2.000000e+01  1.816655e-01   \n",
      "max    2.000000e+01      2.000000e+01  2.000000e+01  2.000000e+01   \n",
      "\n",
      "            Parking    university  Charging_Time_in_hours  \n",
      "count  1.796287e+06  1.796287e+06            1.796287e+06  \n",
      "mean   1.901447e-01  5.270712e+00            8.176464e+00  \n",
      "std    1.630117e+00  8.700472e+00            7.281646e+00  \n",
      "min    0.000000e+00  0.000000e+00            0.000000e+00  \n",
      "25%    4.784222e-03  4.236210e-02            1.608815e+00  \n",
      "50%    1.382397e-02  1.579175e-01            5.324599e+00  \n",
      "75%    6.873513e-02  2.000000e+01            1.600597e+01  \n",
      "max    2.000000e+01  2.000000e+01            2.000000e+01  \n"
     ]
    }
   ],
   "source": [
    "print(data.describe())"
   ]
  },
  {
   "cell_type": "code",
   "execution_count": 15,
   "id": "5957e09f",
   "metadata": {},
   "outputs": [
    {
     "name": "stdout",
     "output_type": "stream",
     "text": [
      "                                                                               park_id  \\\n",
      "evse_id               Year                                                               \n",
      "hj_DE*BLN*E*174060033 2019-12-17 09:00:13.369  hj_31c455b8-420e-46af-bce6-436b65ccc416   \n",
      "                      2019-12-17 09:00:13.369  hj_31c455b8-420e-46af-bce6-436b65ccc416   \n",
      "                      2019-12-17 09:00:13.369  hj_31c455b8-420e-46af-bce6-436b65ccc416   \n",
      "                      2019-12-17 09:58:28.352  hj_31c455b8-420e-46af-bce6-436b65ccc416   \n",
      "                      2019-12-17 09:58:28.352  hj_31c455b8-420e-46af-bce6-436b65ccc416   \n",
      "\n",
      "                                               clc_code     area_code  \\\n",
      "evse_id               Year                                              \n",
      "hj_DE*BLN*E*174060033 2019-12-17 09:00:13.369  Suburban  120650165165   \n",
      "                      2019-12-17 09:00:13.369  Suburban  120650165165   \n",
      "                      2019-12-17 09:00:13.369  Suburban  120650165165   \n",
      "                      2019-12-17 09:58:28.352  Suburban  120650165165   \n",
      "                      2019-12-17 09:58:28.352  Suburban  120650165165   \n",
      "\n",
      "                                                       datetime_start  \\\n",
      "evse_id               Year                                              \n",
      "hj_DE*BLN*E*174060033 2019-12-17 09:00:13.369 2019-12-17 09:00:13.369   \n",
      "                      2019-12-17 09:00:13.369 2019-12-17 09:00:13.369   \n",
      "                      2019-12-17 09:00:13.369 2019-12-17 09:00:13.369   \n",
      "                      2019-12-17 09:58:28.352 2019-12-17 09:58:28.352   \n",
      "                      2019-12-17 09:58:28.352 2019-12-17 09:58:28.352   \n",
      "\n",
      "                                                        datetime_stop  \\\n",
      "evse_id               Year                                              \n",
      "hj_DE*BLN*E*174060033 2019-12-17 09:00:13.369 2019-12-17 09:00:13.058   \n",
      "                      2019-12-17 09:00:13.369 2019-12-17 09:01:16.290   \n",
      "                      2019-12-17 09:00:13.369 2019-12-17 09:58:30.703   \n",
      "                      2019-12-17 09:58:28.352 2019-12-17 09:00:13.058   \n",
      "                      2019-12-17 09:58:28.352 2019-12-17 09:01:16.290   \n",
      "\n",
      "                                                  city  latitude  longitude  \\\n",
      "evse_id               Year                                                    \n",
      "hj_DE*BLN*E*174060033 2019-12-17 09:00:13.369  Kremmen   52.7596    13.0239   \n",
      "                      2019-12-17 09:00:13.369  Kremmen   52.7596    13.0239   \n",
      "                      2019-12-17 09:00:13.369  Kremmen   52.7596    13.0239   \n",
      "                      2019-12-17 09:58:28.352  Kremmen   52.7596    13.0239   \n",
      "                      2019-12-17 09:58:28.352  Kremmen   52.7596    13.0239   \n",
      "\n",
      "                                              postal_code  year  ...  \\\n",
      "evse_id               Year                                       ...   \n",
      "hj_DE*BLN*E*174060033 2019-12-17 09:00:13.369       16766  2019  ...   \n",
      "                      2019-12-17 09:00:13.369       16766  2019  ...   \n",
      "                      2019-12-17 09:00:13.369       16766  2019  ...   \n",
      "                      2019-12-17 09:58:28.352       16766  2019  ...   \n",
      "                      2019-12-17 09:58:28.352       16766  2019  ...   \n",
      "\n",
      "                                              Biergarten Community_Centre  \\\n",
      "evse_id               Year                                                  \n",
      "hj_DE*BLN*E*174060033 2019-12-17 09:00:13.369   0.261462         0.083498   \n",
      "                      2019-12-17 09:00:13.369   0.261462         0.083498   \n",
      "                      2019-12-17 09:00:13.369   0.261462         0.083498   \n",
      "                      2019-12-17 09:58:28.352   0.261462         0.083498   \n",
      "                      2019-12-17 09:58:28.352   0.261462         0.083498   \n",
      "\n",
      "                                              Hospital  Kino   Parking  \\\n",
      "evse_id               Year                                               \n",
      "hj_DE*BLN*E*174060033 2019-12-17 09:00:13.369     20.0  20.0  0.352947   \n",
      "                      2019-12-17 09:00:13.369     20.0  20.0  0.352947   \n",
      "                      2019-12-17 09:00:13.369     20.0  20.0  0.352947   \n",
      "                      2019-12-17 09:58:28.352     20.0  20.0  0.352947   \n",
      "                      2019-12-17 09:58:28.352     20.0  20.0  0.352947   \n",
      "\n",
      "                                               university  \\\n",
      "evse_id               Year                                  \n",
      "hj_DE*BLN*E*174060033 2019-12-17 09:00:13.369        20.0   \n",
      "                      2019-12-17 09:00:13.369        20.0   \n",
      "                      2019-12-17 09:00:13.369        20.0   \n",
      "                      2019-12-17 09:58:28.352        20.0   \n",
      "                      2019-12-17 09:58:28.352        20.0   \n",
      "\n",
      "                                               Charging_Time_in_hours  \\\n",
      "evse_id               Year                                              \n",
      "hj_DE*BLN*E*174060033 2019-12-17 09:00:13.369               20.000000   \n",
      "                      2019-12-17 09:00:13.369                0.014352   \n",
      "                      2019-12-17 09:00:13.369                0.809500   \n",
      "                      2019-12-17 09:58:28.352               19.190963   \n",
      "                      2019-12-17 09:58:28.352               19.205546   \n",
      "\n",
      "                                                                Month  \\\n",
      "evse_id               Year                                              \n",
      "hj_DE*BLN*E*174060033 2019-12-17 09:00:13.369 2019-12-17 09:00:13.369   \n",
      "                      2019-12-17 09:00:13.369 2019-12-17 09:00:13.369   \n",
      "                      2019-12-17 09:00:13.369 2019-12-17 09:00:13.369   \n",
      "                      2019-12-17 09:58:28.352 2019-12-17 09:58:28.352   \n",
      "                      2019-12-17 09:58:28.352 2019-12-17 09:58:28.352   \n",
      "\n",
      "                                                                  Day  \\\n",
      "evse_id               Year                                              \n",
      "hj_DE*BLN*E*174060033 2019-12-17 09:00:13.369 2019-12-17 09:00:13.369   \n",
      "                      2019-12-17 09:00:13.369 2019-12-17 09:00:13.369   \n",
      "                      2019-12-17 09:00:13.369 2019-12-17 09:00:13.369   \n",
      "                      2019-12-17 09:58:28.352 2019-12-17 09:58:28.352   \n",
      "                      2019-12-17 09:58:28.352 2019-12-17 09:58:28.352   \n",
      "\n",
      "                                                                 Year  \n",
      "evse_id               Year                                             \n",
      "hj_DE*BLN*E*174060033 2019-12-17 09:00:13.369 2019-12-17 09:00:13.369  \n",
      "                      2019-12-17 09:00:13.369 2019-12-17 09:00:13.369  \n",
      "                      2019-12-17 09:00:13.369 2019-12-17 09:00:13.369  \n",
      "                      2019-12-17 09:58:28.352 2019-12-17 09:58:28.352  \n",
      "                      2019-12-17 09:58:28.352 2019-12-17 09:58:28.352  \n",
      "\n",
      "[5 rows x 30 columns]\n"
     ]
    }
   ],
   "source": [
    "print(data.head())"
   ]
  },
  {
   "cell_type": "markdown",
   "id": "6f10e136",
   "metadata": {},
   "source": [
    "### PooledOLS is just plain OLS that understands that various panel data structures. It is useful as a base model"
   ]
  },
  {
   "cell_type": "code",
   "execution_count": 16,
   "id": "0dd7ae09",
   "metadata": {},
   "outputs": [],
   "source": [
    "import statsmodels.api as sm\n",
    "from linearmodels.panel import PooledOLS\n",
    "from linearmodels.panel import PanelOLS"
   ]
  },
  {
   "cell_type": "code",
   "execution_count": 17,
   "id": "4e20ed83",
   "metadata": {},
   "outputs": [
    {
     "name": "stderr",
     "output_type": "stream",
     "text": [
      "/home/col-gku/.local/lib/python3.8/site-packages/statsmodels/tsa/tsatools.py:142: FutureWarning: In a future version of pandas all arguments of concat except for the argument 'objs' will be keyword-only\n",
      "  x = pd.concat(x[::order], 1)\n"
     ]
    }
   ],
   "source": [
    "exog_vars = [\"Temperature\",\"pd\",\"Precipitation\",\"day_of_week_name_Start\",\"month\",\"year\",\"clc_code\",\"Restaurant\", \"Biergarten\", \"Community_Centre\", \"Hospital\", \"Kino\", \"Parking\" ,\"university\",\"Bahnhof\"]\n",
    "exog = sm.add_constant(data[exog_vars])\n"
   ]
  },
  {
   "cell_type": "code",
   "execution_count": 19,
   "id": "b42bf98b",
   "metadata": {},
   "outputs": [
    {
     "name": "stdout",
     "output_type": "stream",
     "text": [
      "\\begin{center}\n",
      "\\begin{tabular}{lclc}\n",
      "\\toprule\n",
      "\\textbf{Dep. Variable:}                       & Charging\\_time\\_in\\_hours\\_log & \\textbf{  R-squared:         }   &      0.0202      \\\\\n",
      "\\textbf{Estimator:}                           &            PanelOLS            & \\textbf{  R-squared (Between):}  &     -0.0642      \\\\\n",
      "\\textbf{No. Observations:}                    &            1796283             & \\textbf{  R-squared (Within):}   &      0.0069      \\\\\n",
      "\\textbf{Date:}                                &        Wed, Jan 26 2022        & \\textbf{  R-squared (Overall):}  &      0.0202      \\\\\n",
      "\\textbf{Time:}                                &            12:09:11            & \\textbf{  Log-likelihood     }   &    -3.644e+06    \\\\\n",
      "\\textbf{Cov. Estimator:}                      &           Clustered            & \\textbf{                     }   &                  \\\\\n",
      "\\textbf{}                                     &                                & \\textbf{  F-statistic:       }   &      1122.2      \\\\\n",
      "\\textbf{Entities:}                            &              1877              & \\textbf{  P-value            }   &      0.0000      \\\\\n",
      "\\textbf{Avg Obs:}                             &             957.00             & \\textbf{  Distribution:      }   &  F(33,1796249)   \\\\\n",
      "\\textbf{Min Obs:}                             &             1.0000             & \\textbf{                     }   &                  \\\\\n",
      "\\textbf{Max Obs:}                             &           1.068e+04            & \\textbf{  F-statistic (robust):} &      73.990      \\\\\n",
      "\\textbf{}                                     &                                & \\textbf{  P-value            }   &      0.0000      \\\\\n",
      "\\textbf{Time periods:}                        &             761826             & \\textbf{  Distribution:      }   &  F(33,1796249)   \\\\\n",
      "\\textbf{Avg Obs:}                             &             2.3579             & \\textbf{                     }   &                  \\\\\n",
      "\\textbf{Min Obs:}                             &             1.0000             & \\textbf{                     }   &                  \\\\\n",
      "\\textbf{Max Obs:}                             &             161.00             & \\textbf{                     }   &                  \\\\\n",
      "\\bottomrule\n",
      "\\end{tabular}\n",
      "\\begin{tabular}{lcccccc}\n",
      "                                              & \\textbf{Parameter} & \\textbf{Std. Err.} & \\textbf{T-stat} & \\textbf{P-value} & \\textbf{Lower CI} & \\textbf{Upper CI}  \\\\\n",
      "\\midrule\n",
      "\\textbf{const}                                &       1.2773       &       0.0451       &      28.319     &      0.0000      &       1.1889      &       1.3657       \\\\\n",
      "\\textbf{Temperature}                          &      -0.0359       &       0.0015       &     -23.858     &      0.0000      &      -0.0388      &      -0.0329       \\\\\n",
      "\\textbf{pd}                                   &       0.0209       &       0.0016       &      13.157     &      0.0000      &       0.0178      &       0.0240       \\\\\n",
      "\\textbf{Precipitation}                        &      -0.0070       &       0.0059       &     -1.2011     &      0.2297      &      -0.0185      &       0.0045       \\\\\n",
      "\\textbf{day\\_of\\_week\\_name\\_Start.Monday}    &      -0.0478       &       0.0075       &     -6.3827     &      0.0000      &      -0.0625      &      -0.0331       \\\\\n",
      "\\textbf{day\\_of\\_week\\_name\\_Start.Saturday}  &      -0.0516       &       0.0089       &     -5.7658     &      0.0000      &      -0.0691      &      -0.0341       \\\\\n",
      "\\textbf{day\\_of\\_week\\_name\\_Start.Sunday}    &      -0.1628       &       0.0122       &     -13.347     &      0.0000      &      -0.1867      &      -0.1389       \\\\\n",
      "\\textbf{day\\_of\\_week\\_name\\_Start.Thursday}  &      -0.0367       &       0.0074       &     -4.9709     &      0.0000      &      -0.0511      &      -0.0222       \\\\\n",
      "\\textbf{day\\_of\\_week\\_name\\_Start.Tuesday}   &      -0.0410       &       0.0077       &     -5.3232     &      0.0000      &      -0.0561      &      -0.0259       \\\\\n",
      "\\textbf{day\\_of\\_week\\_name\\_Start.Wednesday} &      -0.0408       &       0.0077       &     -5.2787     &      0.0000      &      -0.0560      &      -0.0257       \\\\\n",
      "\\textbf{month.2}                              &       0.0597       &       0.0121       &      4.9397     &      0.0000      &       0.0360      &       0.0833       \\\\\n",
      "\\textbf{month.3}                              &       0.1336       &       0.0153       &      8.7247     &      0.0000      &       0.1036      &       0.1636       \\\\\n",
      "\\textbf{month.4}                              &       0.1336       &       0.0168       &      7.9408     &      0.0000      &       0.1007      &       0.1666       \\\\\n",
      "\\textbf{month.5}                              &       0.2011       &       0.0159       &      12.622     &      0.0000      &       0.1698      &       0.2323       \\\\\n",
      "\\textbf{month.6}                              &       0.2516       &       0.0147       &      17.158     &      0.0000      &       0.2228      &       0.2803       \\\\\n",
      "\\textbf{month.7}                              &       0.2919       &       0.0148       &      19.660     &      0.0000      &       0.2628      &       0.3210       \\\\\n",
      "\\textbf{month.8}                              &       0.2401       &       0.0159       &      15.119     &      0.0000      &       0.2090      &       0.2712       \\\\\n",
      "\\textbf{month.9}                              &       0.2547       &       0.0185       &      13.741     &      0.0000      &       0.2184      &       0.2910       \\\\\n",
      "\\textbf{month.10}                             &       0.2506       &       0.0160       &      15.643     &      0.0000      &       0.2192      &       0.2820       \\\\\n",
      "\\textbf{month.11}                             &       0.1643       &       0.0165       &      9.9868     &      0.0000      &       0.1321      &       0.1966       \\\\\n",
      "\\textbf{month.12}                             &       0.1241       &       0.0150       &      8.2640     &      0.0000      &       0.0946      &       0.1535       \\\\\n",
      "\\textbf{year.2020}                            &       0.0868       &       0.0177       &      4.9042     &      0.0000      &       0.0521      &       0.1214       \\\\\n",
      "\\textbf{year.2021}                            &       0.2307       &       0.0242       &      9.5361     &      0.0000      &       0.1833      &       0.2781       \\\\\n",
      "\\textbf{clc\\_code.Suburban}                   &      -0.1313       &       0.0349       &     -3.7634     &      0.0002      &      -0.1996      &      -0.0629       \\\\\n",
      "\\textbf{clc\\_code.Uninhabited}                &      -0.1123       &       0.1092       &     -1.0279     &      0.3040      &      -0.3263      &       0.1018       \\\\\n",
      "\\textbf{clc\\_code.Urban}                      &       0.1429       &       0.0341       &      4.1837     &      0.0000      &       0.0759      &       0.2098       \\\\\n",
      "\\textbf{Restaurant}                           &      -0.0121       &       0.0081       &     -1.4980     &      0.1341      &      -0.0279      &       0.0037       \\\\\n",
      "\\textbf{Biergarten}                           &      -0.0099       &       0.0044       &     -2.2540     &      0.0242      &      -0.0186      &      -0.0013       \\\\\n",
      "\\textbf{Community\\_Centre}                    &       0.0169       &       0.0034       &      4.9759     &      0.0000      &       0.0102      &       0.0235       \\\\\n",
      "\\textbf{Hospital}                             &      -0.0011       &       0.0013       &     -0.8493     &      0.3957      &      -0.0038      &       0.0015       \\\\\n",
      "\\textbf{Kino}                                 &      -0.0098       &       0.0034       &     -2.8512     &      0.0044      &      -0.0165      &      -0.0031       \\\\\n",
      "\\textbf{Parking}                              &       0.0112       &       0.0076       &      1.4633     &      0.1434      &      -0.0038      &       0.0262       \\\\\n",
      "\\textbf{university}                           &      -0.0031       &       0.0014       &     -2.2681     &      0.0233      &      -0.0059      &      -0.0004       \\\\\n",
      "\\textbf{Bahnhof}                              &       0.0029       &       0.0013       &      2.1640     &      0.0305      &       0.0003      &       0.0055       \\\\\n",
      "\\bottomrule\n",
      "\\end{tabular}\n",
      "%\\caption{PanelOLS Estimation Summary}\n",
      "\\end{center}\n",
      "\n",
      "\n"
     ]
    }
   ],
   "source": [
    "mod1 = PanelOLS(data.Charging_time_in_hours_log, exog)\n",
    "panel_res1 = mod1.fit(cov_type='clustered', cluster_entity=True)\n",
    "#print(panel_res1)\n",
    "print((panel_res1.summary).as_latex())"
   ]
  },
  {
   "cell_type": "code",
   "execution_count": null,
   "id": "45dcc724",
   "metadata": {},
   "outputs": [],
   "source": []
  },
  {
   "cell_type": "code",
   "execution_count": 30,
   "id": "1e9f3a03",
   "metadata": {},
   "outputs": [
    {
     "name": "stdout",
     "output_type": "stream",
     "text": [
      "                              PooledOLS Estimation Summary                              \n",
      "========================================================================================\n",
      "Dep. Variable:     Charging_time_in_hours_log   R-squared:                        0.0202\n",
      "Estimator:                          PooledOLS   R-squared (Between):             -0.0642\n",
      "No. Observations:                     1796283   R-squared (Within):               0.0069\n",
      "Date:                        Mon, Jan 17 2022   R-squared (Overall):              0.0202\n",
      "Time:                                15:31:28   Log-likelihood                -3.644e+06\n",
      "Cov. Estimator:                    Unadjusted                                           \n",
      "                                                F-statistic:                      1122.2\n",
      "Entities:                                1877   P-value                           0.0000\n",
      "Avg Obs:                               957.00   Distribution:              F(33,1796249)\n",
      "Min Obs:                               1.0000                                           \n",
      "Max Obs:                            1.068e+04   F-statistic (robust):             1122.2\n",
      "                                                P-value                           0.0000\n",
      "Time periods:                          761826   Distribution:              F(33,1796249)\n",
      "Avg Obs:                               2.3579                                           \n",
      "Min Obs:                               1.0000                                           \n",
      "Max Obs:                               161.00                                           \n",
      "                                                                                        \n",
      "                                        Parameter Estimates                                         \n",
      "====================================================================================================\n",
      "                                  Parameter  Std. Err.     T-stat    P-value    Lower CI    Upper CI\n",
      "----------------------------------------------------------------------------------------------------\n",
      "const                                1.2773     0.0095     133.87     0.0000      1.2586      1.2960\n",
      "Temperature                         -0.0359     0.0007    -52.514     0.0000     -0.0372     -0.0345\n",
      "pd                                   0.0209     0.0002     105.01     0.0000      0.0205      0.0213\n",
      "Precipitation                       -0.0070     0.0030    -2.3310     0.0198     -0.0130     -0.0011\n",
      "day_of_week_name_Start.Monday       -0.0478     0.0050    -9.5336     0.0000     -0.0576     -0.0380\n",
      "day_of_week_name_Start.Saturday     -0.0516     0.0050    -10.421     0.0000     -0.0613     -0.0419\n",
      "day_of_week_name_Start.Sunday       -0.1628     0.0057    -28.660     0.0000     -0.1739     -0.1517\n",
      "day_of_week_name_Start.Thursday     -0.0367     0.0049    -7.4694     0.0000     -0.0463     -0.0270\n",
      "day_of_week_name_Start.Tuesday      -0.0410     0.0049    -8.3153     0.0000     -0.0506     -0.0313\n",
      "day_of_week_name_Start.Wednesday    -0.0408     0.0049    -8.3269     0.0000     -0.0504     -0.0312\n",
      "month.2                              0.0597     0.0072     8.3119     0.0000      0.0456      0.0737\n",
      "month.3                              0.1336     0.0070     19.074     0.0000      0.1198      0.1473\n",
      "month.4                              0.1336     0.0075     17.802     0.0000      0.1189      0.1484\n",
      "month.5                              0.2011     0.0076     26.395     0.0000      0.1861      0.2160\n",
      "month.6                              0.2516     0.0075     33.432     0.0000      0.2368      0.2663\n",
      "month.7                              0.2919     0.0074     39.281     0.0000      0.2774      0.3065\n",
      "month.8                              0.2401     0.0083     28.997     0.0000      0.2239      0.2563\n",
      "month.9                              0.2547     0.0089     28.683     0.0000      0.2373      0.2721\n",
      "month.10                             0.2506     0.0080     31.402     0.0000      0.2350      0.2663\n",
      "month.11                             0.1643     0.0077     21.373     0.0000      0.1492      0.1794\n",
      "month.12                             0.1241     0.0076     16.304     0.0000      0.1091      0.1390\n",
      "year.2020                            0.0868     0.0039     22.424     0.0000      0.0792      0.0943\n",
      "year.2021                            0.2307     0.0045     51.651     0.0000      0.2219      0.2394\n",
      "clc_code.Suburban                   -0.1313     0.0039    -34.002     0.0000     -0.1388     -0.1237\n",
      "clc_code.Uninhabited                -0.1123     0.0096    -11.655     0.0000     -0.1311     -0.0934\n",
      "clc_code.Urban                       0.1429     0.0038     37.253     0.0000      0.1354      0.1504\n",
      "Restaurant                          -0.0121     0.0035    -3.4458     0.0006     -0.0190     -0.0052\n",
      "Biergarten                          -0.0099     0.0007    -13.535     0.0000     -0.0114     -0.0085\n",
      "Community_Centre                     0.0169     0.0005     34.699     0.0000      0.0159      0.0178\n",
      "Hospital                            -0.0011     0.0002    -7.3817     0.0000     -0.0014     -0.0008\n",
      "Kino                                -0.0098     0.0004    -24.924     0.0000     -0.0106     -0.0090\n",
      "Parking                              0.0112     0.0010     11.310     0.0000      0.0093      0.0131\n",
      "university                          -0.0031     0.0002    -18.834     0.0000     -0.0035     -0.0028\n",
      "Bahnhof                              0.0029     0.0001     19.678     0.0000      0.0026      0.0032\n",
      "====================================================================================================\n"
     ]
    }
   ],
   "source": [
    "mod1 = PooledOLS(data.Charging_time_in_hours_log, exog)\n",
    "pooled_res1 = mod1.fit()\n",
    "print(pooled_res1)"
   ]
  },
  {
   "cell_type": "code",
   "execution_count": 17,
   "id": "9038987a",
   "metadata": {},
   "outputs": [],
   "source": [
    "import sys\n",
    "filename  = open(\"pooled_results\",'w')\n",
    "sys.stdout = filename\n",
    "print(pooled_res1)"
   ]
  },
  {
   "cell_type": "markdown",
   "id": "8e970f77",
   "metadata": {},
   "source": [
    "# Random Effects"
   ]
  },
  {
   "cell_type": "markdown",
   "id": "bc69d640",
   "metadata": {},
   "source": [
    "The random effects model is virtually identical to the pooled OLS model except that is accounts for the structure of the model and so is more efficient. Random effects uses a quasi-demeaning strategy which subtracts the time average of the within entity values to account for the common shock."
   ]
  },
  {
   "cell_type": "code",
   "execution_count": 18,
   "id": "543a3717",
   "metadata": {},
   "outputs": [],
   "source": [
    "from linearmodels.panel import RandomEffects\n",
    "\n",
    "mod2 = RandomEffects(data.Charging_time_in_hours_log, exog)\n",
    "re_res = mod2.fit()\n",
    "print(re_res)"
   ]
  },
  {
   "cell_type": "code",
   "execution_count": 17,
   "id": "b0fe9959",
   "metadata": {},
   "outputs": [
    {
     "data": {
      "text/plain": [
       "Effects                   0.534856\n",
       "Residual                  3.236605\n",
       "Percent due to Effects    0.141817\n",
       "Name: Variance Decomposition, dtype: float64"
      ]
     },
     "execution_count": 17,
     "metadata": {},
     "output_type": "execute_result"
    }
   ],
   "source": [
    "re_res.variance_decomposition"
   ]
  },
  {
   "cell_type": "code",
   "execution_count": 18,
   "id": "d93cc125",
   "metadata": {},
   "outputs": [
    {
     "data": {
      "text/html": [
       "<div>\n",
       "<style scoped>\n",
       "    .dataframe tbody tr th:only-of-type {\n",
       "        vertical-align: middle;\n",
       "    }\n",
       "\n",
       "    .dataframe tbody tr th {\n",
       "        vertical-align: top;\n",
       "    }\n",
       "\n",
       "    .dataframe thead th {\n",
       "        text-align: right;\n",
       "    }\n",
       "</style>\n",
       "<table border=\"1\" class=\"dataframe\">\n",
       "  <thead>\n",
       "    <tr style=\"text-align: right;\">\n",
       "      <th></th>\n",
       "      <th>theta</th>\n",
       "    </tr>\n",
       "    <tr>\n",
       "      <th>evse_id</th>\n",
       "      <th></th>\n",
       "    </tr>\n",
       "  </thead>\n",
       "  <tbody>\n",
       "    <tr>\n",
       "      <th>hj_DE*BLN*E*174060033</th>\n",
       "      <td>0.690202</td>\n",
       "    </tr>\n",
       "    <tr>\n",
       "      <th>hj_DE*BLN*E*174060031</th>\n",
       "      <td>0.682558</td>\n",
       "    </tr>\n",
       "    <tr>\n",
       "      <th>hj_DE*CON*E1000003</th>\n",
       "      <td>0.875920</td>\n",
       "    </tr>\n",
       "    <tr>\n",
       "      <th>hj_DE*ISE*E001126</th>\n",
       "      <td>0.928840</td>\n",
       "    </tr>\n",
       "    <tr>\n",
       "      <th>sl_23897984</th>\n",
       "      <td>0.838514</td>\n",
       "    </tr>\n",
       "    <tr>\n",
       "      <th>sl_23897986</th>\n",
       "      <td>0.697319</td>\n",
       "    </tr>\n",
       "    <tr>\n",
       "      <th>sl_23897988</th>\n",
       "      <td>0.809673</td>\n",
       "    </tr>\n",
       "    <tr>\n",
       "      <th>sl_23898096</th>\n",
       "      <td>0.863136</td>\n",
       "    </tr>\n",
       "    <tr>\n",
       "      <th>sl_23898098</th>\n",
       "      <td>0.690202</td>\n",
       "    </tr>\n",
       "    <tr>\n",
       "      <th>sl_23898616</th>\n",
       "      <td>0.701800</td>\n",
       "    </tr>\n",
       "  </tbody>\n",
       "</table>\n",
       "</div>"
      ],
      "text/plain": [
       "                          theta\n",
       "evse_id                        \n",
       "hj_DE*BLN*E*174060033  0.690202\n",
       "hj_DE*BLN*E*174060031  0.682558\n",
       "hj_DE*CON*E1000003     0.875920\n",
       "hj_DE*ISE*E001126      0.928840\n",
       "sl_23897984            0.838514\n",
       "sl_23897986            0.697319\n",
       "sl_23897988            0.809673\n",
       "sl_23898096            0.863136\n",
       "sl_23898098            0.690202\n",
       "sl_23898616            0.701800"
      ]
     },
     "execution_count": 18,
     "metadata": {},
     "output_type": "execute_result"
    }
   ],
   "source": [
    "re_res.theta.head(10)"
   ]
  },
  {
   "cell_type": "markdown",
   "id": "4d65ad9f",
   "metadata": {},
   "source": [
    "# The between estimator"
   ]
  },
  {
   "cell_type": "markdown",
   "id": "8cbeee31",
   "metadata": {},
   "source": [
    "The between estimator is an alternative, usually less efficient estimator, can can be used to estimate model parameters. It is particular simple since it first computes the time averages of and\n",
    "\n",
    "and then runs a simple regression using these averages.\n",
    "\n",
    "The year dummies are dropped since the averaging removes differences due to the year. expersq was also dropped since it is fairly co-linear with exper. These results are broadly similar to the previous models."
   ]
  },
  {
   "cell_type": "code",
   "execution_count": 19,
   "id": "d215d5e5",
   "metadata": {},
   "outputs": [
    {
     "name": "stderr",
     "output_type": "stream",
     "text": [
      "/home/col-gku/.local/lib/python3.8/site-packages/statsmodels/tsa/tsatools.py:142: FutureWarning: In a future version of pandas all arguments of concat except for the argument 'objs' will be keyword-only\n",
      "  x = pd.concat(x[::order], 1)\n"
     ]
    }
   ],
   "source": [
    "exog_vars1 = [\"clc_code\", \"Restaurant\", \"Biergarten\", \"Community_Centre\", \"Hospital\", \"Kino\", \"Parking\",\"university\"]\n",
    "exog = sm.add_constant(data[exog_vars1])"
   ]
  },
  {
   "cell_type": "code",
   "execution_count": 20,
   "id": "7c8b0469",
   "metadata": {},
   "outputs": [
    {
     "name": "stderr",
     "output_type": "stream",
     "text": [
      "/home/col-gku/.local/lib/python3.8/site-packages/linearmodels/shared/exceptions.py:35: MissingValueWarning: \n",
      "Inputs contain missing values. Dropping rows with missing observations.\n",
      "  warnings.warn(missing_value_warning_msg, MissingValueWarning)\n"
     ]
    },
    {
     "name": "stdout",
     "output_type": "stream",
     "text": [
      "                             BetweenOLS Estimation Summary                              \n",
      "========================================================================================\n",
      "Dep. Variable:     Charging_time_in_hours_log   R-squared:                        0.0451\n",
      "Estimator:                         BetweenOLS   R-squared (Between):              0.0451\n",
      "No. Observations:                        1877   R-squared (Within):               0.0000\n",
      "Date:                        Sun, Jan 02 2022   R-squared (Overall):             -0.0413\n",
      "Time:                                13:57:11   Log-likelihood                   -2188.5\n",
      "Cov. Estimator:                    Unadjusted                                           \n",
      "                                                F-statistic:                      8.8097\n",
      "Entities:                                1877   P-value                           0.0000\n",
      "Avg Obs:                               957.00   Distribution:                 F(10,1866)\n",
      "Min Obs:                               1.0000                                           \n",
      "Max Obs:                            1.068e+04   F-statistic (robust):             8.8097\n",
      "                                                P-value                           0.0000\n",
      "Time periods:                          761826   Distribution:                 F(10,1866)\n",
      "Avg Obs:                               2.3579                                           \n",
      "Min Obs:                               1.0000                                           \n",
      "Max Obs:                               161.00                                           \n",
      "                                                                                        \n",
      "                                  Parameter Estimates                                   \n",
      "========================================================================================\n",
      "                      Parameter  Std. Err.     T-stat    P-value    Lower CI    Upper CI\n",
      "----------------------------------------------------------------------------------------\n",
      "const                    0.9313     0.0382     24.372     0.0000      0.8564      1.0062\n",
      "clc_code.Suburban        0.0159     0.0437     0.3646     0.7154     -0.0697      0.1015\n",
      "clc_code.Uninhabited    -0.4489     0.1050    -4.2731     0.0000     -0.6549     -0.2429\n",
      "clc_code.Urban           0.2742     0.0522     5.2502     0.0000      0.1717      0.3766\n",
      "Restaurant               0.0056     0.0410     0.1365     0.8914     -0.0749      0.0861\n",
      "Biergarten              -0.0212     0.0071    -2.9725     0.0030     -0.0352     -0.0072\n",
      "Community_Centre         0.0263     0.0083     3.1742     0.0015      0.0100      0.0425\n",
      "Hospital                -0.0039     0.0020    -1.9413     0.0524     -0.0078   3.982e-05\n",
      "Kino                    -0.0063     0.0043    -1.4414     0.1496     -0.0148      0.0023\n",
      "Parking                  0.0037     0.0106     0.3520     0.7249     -0.0171      0.0245\n",
      "university               0.0007     0.0022     0.3185     0.7502     -0.0036      0.0050\n",
      "========================================================================================\n"
     ]
    }
   ],
   "source": [
    "from linearmodels.panel import BetweenOLS\n",
    "mod3 = BetweenOLS(data.Charging_time_in_hours_log, exog)\n",
    "be_res = mod3.fit(weights=True,check_rank=False)\n",
    "print(be_res)"
   ]
  },
  {
   "cell_type": "markdown",
   "id": "8cac8312",
   "metadata": {},
   "source": [
    "# Panel Effects"
   ]
  },
  {
   "cell_type": "code",
   "execution_count": 21,
   "id": "7510365d",
   "metadata": {},
   "outputs": [],
   "source": [
    "from linearmodels.panel import PanelOLS\n",
    "\n",
    "exog_vars2 = [\"clc_code\", \"Restaurant\", \"Biergarten\", \"Community_Centre\", \"Hospital\", \"Kino\", \"Parking\",\"university\"]\n",
    "exog = sm.add_constant(data[exog_vars2])\n",
    "\n",
    "\n"
   ]
  },
  {
   "cell_type": "markdown",
   "id": "e58560d3",
   "metadata": {},
   "source": [
    "##### Time-invariant variables cannot be included when using entity effects since, once demeaned, these will all be 0"
   ]
  },
  {
   "cell_type": "code",
   "execution_count": 22,
   "id": "01b4b2e8",
   "metadata": {},
   "outputs": [
    {
     "name": "stderr",
     "output_type": "stream",
     "text": [
      "/home/col-gku/.local/lib/python3.8/site-packages/linearmodels/panel/model.py:1796: AbsorbingEffectWarning: \n",
      "Variables have been fully absorbed and have removed from the regression:\n",
      "\n",
      "clc_code.Uninhabited, clc_code.Urban, Community_Centre, Hospital, Kino, university\n",
      "\n",
      "  warnings.warn(\n"
     ]
    },
    {
     "name": "stdout",
     "output_type": "stream",
     "text": [
      "                              PanelOLS Estimation Summary                               \n",
      "========================================================================================\n",
      "Dep. Variable:     Charging_time_in_hours_log   R-squared:                      1.11e-16\n",
      "Estimator:                           PanelOLS   R-squared (Between):             -2.6171\n",
      "No. Observations:                     1796283   R-squared (Within):               0.0000\n",
      "Date:                        Sun, Jan 02 2022   R-squared (Overall):             -0.2884\n",
      "Time:                                13:57:25   Log-likelihood                -3.607e+06\n",
      "Cov. Estimator:                    Unadjusted                                           \n",
      "                                                F-statistic:                   7.162e-11\n",
      "Entities:                                1877   P-value                           1.0000\n",
      "Avg Obs:                               957.00   Distribution:               F(4,1794402)\n",
      "Min Obs:                               1.0000                                           \n",
      "Max Obs:                            1.068e+04   F-statistic (robust):          3.743e-10\n",
      "                                                P-value                           1.0000\n",
      "Time periods:                          761826   Distribution:               F(4,1794402)\n",
      "Avg Obs:                               2.3579                                           \n",
      "Min Obs:                               1.0000                                           \n",
      "Max Obs:                               161.00                                           \n",
      "                                                                                        \n",
      "                                 Parameter Estimates                                 \n",
      "=====================================================================================\n",
      "                   Parameter  Std. Err.     T-stat    P-value    Lower CI    Upper CI\n",
      "-------------------------------------------------------------------------------------\n",
      "const                 1.1324     2044.2     0.0006     0.9996     -4005.5      4007.8\n",
      "clc_code.Suburban     0.4022                                                         \n",
      "Restaurant            0.0283                                                         \n",
      "Biergarten            0.3438     4507.4  7.628e-05     0.9999     -8834.0      8834.7\n",
      "Parking               0.2153  1.052e+04  2.046e-05     1.0000  -2.062e+04   2.062e+04\n",
      "=====================================================================================\n",
      "\n",
      "F-test for Poolability: 56.901\n",
      "P-value: 0.0000\n",
      "Distribution: F(1876,1794402)\n",
      "\n",
      "Included effects: Entity\n"
     ]
    },
    {
     "name": "stderr",
     "output_type": "stream",
     "text": [
      "/home/col-gku/.local/lib/python3.8/site-packages/linearmodels/panel/results.py:85: RuntimeWarning: invalid value encountered in sqrt\n",
      "  return Series(np.sqrt(np.diag(self.cov)), self._var_names, name=\"std_error\")\n"
     ]
    }
   ],
   "source": [
    "mod = PanelOLS(data.Charging_time_in_hours_log, exog, entity_effects=True,drop_absorbed=True)\n",
    "fe_res = mod.fit()\n",
    "print(fe_res)"
   ]
  },
  {
   "cell_type": "markdown",
   "id": "3f2f4cc3",
   "metadata": {},
   "source": [
    "Time Effects¶\n",
    "\n",
    "Time effect can be added using time_effects=True. Here the time dummies are removed. Note that the core coefficients are identical. The only change is in the test statistic for poolability since not the “effects” include both entity and time, whereas before only entity were included."
   ]
  },
  {
   "cell_type": "code",
   "execution_count": 44,
   "id": "0c8ff4a7",
   "metadata": {},
   "outputs": [
    {
     "ename": "NameError",
     "evalue": "name 'PanelOLS' is not defined",
     "output_type": "error",
     "traceback": [
      "\u001b[0;31m---------------------------------------------------------------------------\u001b[0m",
      "\u001b[0;31mNameError\u001b[0m                                 Traceback (most recent call last)",
      "\u001b[0;32m<ipython-input-44-5e9ff1a47589>\u001b[0m in \u001b[0;36m<module>\u001b[0;34m\u001b[0m\n\u001b[1;32m      1\u001b[0m \u001b[0mexog_vars_1\u001b[0m \u001b[0;34m=\u001b[0m \u001b[0;34m[\u001b[0m\u001b[0;34m\"Restaurant\"\u001b[0m\u001b[0;34m,\u001b[0m \u001b[0;34m\"Biergarten\"\u001b[0m\u001b[0;34m,\u001b[0m \u001b[0;34m\"Parking\"\u001b[0m\u001b[0;34m]\u001b[0m\u001b[0;34m\u001b[0m\u001b[0;34m\u001b[0m\u001b[0m\n\u001b[1;32m      2\u001b[0m \u001b[0mexog1\u001b[0m \u001b[0;34m=\u001b[0m \u001b[0msm\u001b[0m\u001b[0;34m.\u001b[0m\u001b[0madd_constant\u001b[0m\u001b[0;34m(\u001b[0m\u001b[0mdata\u001b[0m\u001b[0;34m[\u001b[0m\u001b[0mexog_vars_1\u001b[0m\u001b[0;34m]\u001b[0m\u001b[0;34m)\u001b[0m\u001b[0;34m\u001b[0m\u001b[0;34m\u001b[0m\u001b[0m\n\u001b[0;32m----> 3\u001b[0;31m \u001b[0mmod\u001b[0m \u001b[0;34m=\u001b[0m \u001b[0mPanelOLS\u001b[0m\u001b[0;34m(\u001b[0m\u001b[0mdata\u001b[0m\u001b[0;34m.\u001b[0m\u001b[0mCharging_time_in_hours_log\u001b[0m\u001b[0;34m,\u001b[0m \u001b[0mexog1\u001b[0m\u001b[0;34m,\u001b[0m \u001b[0mentity_effects\u001b[0m\u001b[0;34m=\u001b[0m\u001b[0;32mTrue\u001b[0m\u001b[0;34m,\u001b[0m \u001b[0mtime_effects\u001b[0m\u001b[0;34m=\u001b[0m\u001b[0;32mTrue\u001b[0m\u001b[0;34m)\u001b[0m\u001b[0;34m\u001b[0m\u001b[0;34m\u001b[0m\u001b[0m\n\u001b[0m\u001b[1;32m      4\u001b[0m \u001b[0mfe_te_res\u001b[0m \u001b[0;34m=\u001b[0m \u001b[0mmod\u001b[0m\u001b[0;34m.\u001b[0m\u001b[0mfit\u001b[0m\u001b[0;34m(\u001b[0m\u001b[0;34m)\u001b[0m\u001b[0;34m\u001b[0m\u001b[0;34m\u001b[0m\u001b[0m\n\u001b[1;32m      5\u001b[0m \u001b[0mprint\u001b[0m\u001b[0;34m(\u001b[0m\u001b[0mfe_te_res\u001b[0m\u001b[0;34m)\u001b[0m\u001b[0;34m\u001b[0m\u001b[0;34m\u001b[0m\u001b[0m\n",
      "\u001b[0;31mNameError\u001b[0m: name 'PanelOLS' is not defined"
     ]
    }
   ],
   "source": [
    "exog_vars_1 = [\"Restaurant\", \"Biergarten\", \"Parking\"]\n",
    "exog1 = sm.add_constant(data[exog_vars_1])\n",
    "mod = PanelOLS(data.Charging_time_in_hours_log, exog1, entity_effects=True, time_effects=True)\n",
    "fe_te_res = mod.fit()\n",
    "print(fe_te_res)"
   ]
  },
  {
   "cell_type": "code",
   "execution_count": null,
   "id": "745c0d5c",
   "metadata": {},
   "outputs": [],
   "source": []
  },
  {
   "cell_type": "code",
   "execution_count": null,
   "id": "fc7c670a",
   "metadata": {},
   "outputs": [],
   "source": []
  },
  {
   "cell_type": "code",
   "execution_count": null,
   "id": "2cf94190",
   "metadata": {},
   "outputs": [],
   "source": []
  },
  {
   "cell_type": "code",
   "execution_count": null,
   "id": "a6c64f81",
   "metadata": {},
   "outputs": [],
   "source": []
  },
  {
   "cell_type": "code",
   "execution_count": null,
   "id": "bc1df8bb",
   "metadata": {},
   "outputs": [],
   "source": []
  },
  {
   "cell_type": "code",
   "execution_count": null,
   "id": "80f3aedd",
   "metadata": {},
   "outputs": [],
   "source": []
  }
 ],
 "metadata": {
  "kernelspec": {
   "display_name": "Python 3",
   "language": "python",
   "name": "python3"
  },
  "language_info": {
   "codemirror_mode": {
    "name": "ipython",
    "version": 3
   },
   "file_extension": ".py",
   "mimetype": "text/x-python",
   "name": "python",
   "nbconvert_exporter": "python",
   "pygments_lexer": "ipython3",
   "version": "3.8.8"
  }
 },
 "nbformat": 4,
 "nbformat_minor": 5
}
